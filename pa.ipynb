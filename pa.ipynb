{
 "cells": [
  {
   "cell_type": "code",
   "execution_count": 1,
   "metadata": {},
   "outputs": [],
   "source": [
    "import pandas as pd\n",
    "import geopandas as gpd\n",
    "import maup\n",
    "import time\n",
    "from maup import smart_repair\n",
    "from gerrychain import Graph\n",
    "\n",
    "maup.progress.enabled = True"
   ]
  },
  {
   "cell_type": "code",
   "execution_count": 2,
   "metadata": {},
   "outputs": [],
   "source": [
    "import warnings\n",
    "warnings.filterwarnings(\"ignore\")"
   ]
  },
  {
   "cell_type": "code",
   "execution_count": 3,
   "metadata": {},
   "outputs": [],
   "source": [
    "# state = Pennsylvania\n",
    "state_ab = \"pa\""
   ]
  },
  {
   "cell_type": "markdown",
   "metadata": {},
   "source": [
    "## Data\n",
    "1. Download all the data in directory \"pa_data\"\n",
    "2. Extract them all"
   ]
  },
  {
   "cell_type": "code",
   "execution_count": 5,
   "metadata": {},
   "outputs": [],
   "source": [
    "data_folder = state_ab + \"_data/\"\n",
    "population1_data = \"./{}{}_pl2020_b/{}_pl2020_p1_b.shp\".format(data_folder, state_ab, state_ab)\n",
    "population2_data = \"./{}{}_pl2020_b/{}_pl2020_p2_b.shp\".format(data_folder, state_ab, state_ab)\n",
    "vap_data =  \"./{}{}_pl2020_b/{}_pl2020_p4_b.shp\".format(data_folder, state_ab, state_ab)\n",
    "vest20_data = \"./{}{}_vest_20/{}_vest_20.shp\".format(data_folder, state_ab, state_ab)\n",
    "vest18_data = \"./{}{}_vest_18/{}_vest_18.shp\".format(data_folder, state_ab, state_ab)\n",
    "vest16_data = \"./{}{}_vest_16/{}_vest_16.shp\".format(data_folder, state_ab, state_ab)\n",
    "cd_data = \"./{}{}_cong_adopted_2022/carter_boundaries.shp\".format(data_folder, state_ab)\n",
    "send_data = \"./{}{}_sldu_adopted_2022/2022 LRC-Senate-Final.shp\".format(data_folder, state_ab)\n",
    "hdist_data = \"./{}{}_sldl_adopted_2022/2022 LRC-House-Final.shp\".format(data_folder, state_ab)\n",
    "county_data = \"./{}{}_pl2020_cnty/{}_pl2020_cnty.shp\".format(data_folder, state_ab, state_ab)"
   ]
  },
  {
   "cell_type": "code",
   "execution_count": 6,
   "metadata": {},
   "outputs": [],
   "source": [
    "def do_smart_repair(df, min_rook_length = None, snap_precision = 10):\n",
    "    # change it to the UTM it needs for smart_repair\n",
    "    df = df.to_crs(df.estimate_utm_crs())\n",
    "    df = smart_repair(df, min_rook_length = min_rook_length, snap_precision = snap_precision)\n",
    "\n",
    "    if maup.doctor(df) == False:\n",
    "        raise Exception('maup.doctor failed')\n",
    "    \n",
    "    return df"
   ]
  },
  {
   "cell_type": "code",
   "execution_count": 7,
   "metadata": {},
   "outputs": [],
   "source": [
    "def add_district(dist_df, dist_name, election_df, col_name):\n",
    "    election_df = election_df.to_crs(election_df.estimate_utm_crs())\n",
    "    dist_df = dist_df.to_crs(dist_df.estimate_utm_crs())\n",
    "    # check if it needs to be smart_repair\n",
    "    if maup.doctor(dist_df) != True:\n",
    "        dist_df = do_smart_repair(dist_df)\n",
    "\n",
    "    # assign the pricincts\n",
    "    precincts_to_district_assignment = maup.assign(election_df.geometry, dist_df.geometry)\n",
    "    election_df[dist_name] = precincts_to_district_assignment\n",
    "    for precinct_index in range(len(election_df)):\n",
    "        election_df.at[precinct_index, dist_name] = dist_df.at[election_df.at[precinct_index, dist_name], col_name]\n",
    "\n",
    "    return election_df"
   ]
  },
  {
   "cell_type": "code",
   "execution_count": 8,
   "metadata": {},
   "outputs": [],
   "source": [
    "def rename(original, year):\n",
    "    party = original[6]\n",
    "    if party == 'R' or party == 'D':\n",
    "        return original[3:6] + year + original[6]\n",
    "    else:\n",
    "        return original[3:6] + year + 'O'"
   ]
  },
  {
   "cell_type": "code",
   "execution_count": 9,
   "metadata": {},
   "outputs": [],
   "source": [
    "pop_col = ['TOTPOP', 'HISP', 'NH_WHITE', 'NH_BLACK', 'NH_AMIN', 'NH_ASIAN', 'NH_NHPI', 'NH_OTHER', 'NH_2MORE', 'H_WHITE', 'H_BLACK', 'H_AMIN', 'H_ASIAN', 'H_NHPI', 'H_OTHER', 'H_2MORE', 'VAP', 'HVAP', 'WVAP', 'BVAP', 'AMINVAP', 'ASIANVAP', 'NHPIVAP', 'OTHERVAP', '2MOREVAP']"
   ]
  },
  {
   "cell_type": "code",
   "execution_count": 10,
   "metadata": {},
   "outputs": [],
   "source": [
    "def check_population(population, df):\n",
    "    pop_check = pd.DataFrame({\n",
    "        'pop_col': pop_col,\n",
    "        'population_df': population[pop_col].sum(), \n",
    "        'vest_base': df[pop_col].sum(),\n",
    "        'equal': [x == y for x, y in zip(population[pop_col].sum(), df[pop_col].sum())]\n",
    "    })\n",
    "    if pop_check['equal'].mean() < 1:\n",
    "        print(pop_check)\n",
    "        raise Exception(\"population doesn't agree\")\n",
    "\n",
    "    else:\n",
    "        print(\"population agrees\")"
   ]
  },
  {
   "cell_type": "code",
   "execution_count": 11,
   "metadata": {},
   "outputs": [],
   "source": [
    "def add_vest(vest, df, year, population, start_col, snap_precision = 10):\n",
    "    df = df.to_crs(df.estimate_utm_crs())\n",
    "    vest = vest.to_crs(vest.estimate_utm_crs())\n",
    "    population = population.to_crs(population.estimate_utm_crs())\n",
    "    df_crs = df.crs\n",
    "    vest_crs = vest.crs\n",
    "    \n",
    "     # check if it needs to be smart_repair\n",
    "    if maup.doctor(vest) != True:\n",
    "        vest = do_smart_repair(vest, snap_precision = snap_precision)\n",
    "    \n",
    "    # rename the columns\n",
    "    original_col = vest.columns[start_col:-1]\n",
    "    new_col = [rename(i, year) for i in original_col]\n",
    "    rename_dict = dict(zip(original_col, new_col))\n",
    "    vest = vest.rename(columns=rename_dict)\n",
    "    vest = vest.groupby(level=0, axis=1).sum() # combine all the other party's vote into columns with sufix \"O\"\n",
    "    col_name = list(set(new_col))\n",
    "    col_name.sort()\n",
    "    \n",
    "    # make the blocks from precincts by weight\n",
    "    vest = gpd.GeoDataFrame(vest, crs=vest_crs)\n",
    "    election_in_block = population[[\"VAP\", 'geometry']] # population_df is in block scale\n",
    "    blocks_to_precincts_assignment = maup.assign(election_in_block.geometry, vest.geometry)\n",
    "    weights = election_in_block[\"VAP\"] / blocks_to_precincts_assignment.map(election_in_block[\"VAP\"].groupby(blocks_to_precincts_assignment).sum())\n",
    "    weights = weights.fillna(0)\n",
    "    prorated = maup.prorate(blocks_to_precincts_assignment, vest[col_name], weights)\n",
    "    election_in_block[col_name] = prorated\n",
    "    \n",
    "    # assign blocks to precincts\n",
    "    election_in_block = gpd.GeoDataFrame(election_in_block, crs=vest_crs)\n",
    "    df = gpd.GeoDataFrame(df, crs=df_crs)\n",
    "    block_to_pricinct_assginment = maup.assign(election_in_block.geometry, df.geometry)\n",
    "    df[col_name] = election_in_block[col_name].groupby(block_to_pricinct_assginment).sum()\n",
    "    df = df.groupby(level=0, axis=1).sum()\n",
    "    df = gpd.GeoDataFrame(df, crs = df_crs)\n",
    "    # check if population agrees\n",
    "    check_population(population, df)\n",
    "    \n",
    "    return df"
   ]
  },
  {
   "cell_type": "code",
   "execution_count": 12,
   "metadata": {},
   "outputs": [],
   "source": [
    "def add_vest_base(vest, start_col, year, county = None, min_rook_length = None, snap_precision = 10):\n",
    "    vest = vest.to_crs(vest.estimate_utm_crs())\n",
    "    vest_crs = vest.crs\n",
    "    original_col = vest.columns[start_col:-1]\n",
    "    new_col = [rename(i, year) for i in original_col]\n",
    "    rename_dict = dict(zip(original_col, new_col))\n",
    "    vest = vest.rename(columns=rename_dict)\n",
    "    vest = vest.groupby(level=0, axis=1).sum()\n",
    "    vest = gpd.GeoDataFrame(vest, crs=vest_crs)\n",
    "\n",
    "    if county is not None:\n",
    "        county = county.to_crs(county.estimate_utm_crs())\n",
    "        vest = smart_repair(vest, nest_within_regions = county, min_rook_length = min_rook_length, snap_precision = snap_precision) # nest precincts within counties\n",
    "\n",
    "    else:\n",
    "        vest = smart_repair(vest, min_rook_length = min_rook_length, snap_precision = snap_precision) \n",
    "    \n",
    "    return vest"
   ]
  },
  {
   "cell_type": "code",
   "execution_count": 13,
   "metadata": {},
   "outputs": [],
   "source": [
    "def check_small_boundary_lengths(vest_base):\n",
    "    import copy\n",
    "    vest_base = vest_base.to_crs(vest_base.estimate_utm_crs())\n",
    "\n",
    "    boundaries = copy.deepcopy(vest_base)\n",
    "    boundaries[\"geometry\"] = boundaries.geometry.boundary  # get boundaries\n",
    "    neighbors = gpd.sjoin(boundaries, vest_base, predicate=\"intersects\") # find boundaries that intersect\n",
    "    neighbors = neighbors[neighbors.index != neighbors.index_right] # remove boundaries of a region with itself\n",
    "\n",
    "    # compute shared border length using intersection\n",
    "    borders = list(neighbors.apply(\n",
    "        lambda row: row.geometry.intersection(vest_base.loc[row.index_right, \"geometry\"]).length, axis=1\n",
    "    ))\n",
    "\n",
    "    borders.sort()\n",
    "    \n",
    "    return borders"
   ]
  },
  {
   "cell_type": "markdown",
   "metadata": {},
   "source": [
    "### Read the census data"
   ]
  },
  {
   "cell_type": "code",
   "execution_count": 15,
   "metadata": {},
   "outputs": [],
   "source": [
    "population1_df = gpd.read_file(population1_data)\n",
    "population2_df = gpd.read_file(population2_data)\n",
    "vap_df = gpd.read_file(vap_data)\n",
    "county_df = gpd.read_file(county_data)"
   ]
  },
  {
   "cell_type": "code",
   "execution_count": 16,
   "metadata": {},
   "outputs": [],
   "source": [
    "population2_df = population2_df.drop(columns=['SUMLEV', 'LOGRECNO', 'GEOID', 'COUNTY', 'geometry'])\n",
    "vap_df = vap_df.drop(columns=['SUMLEV', 'LOGRECNO', 'GEOID', 'COUNTY', 'geometry'])"
   ]
  },
  {
   "cell_type": "code",
   "execution_count": 17,
   "metadata": {},
   "outputs": [],
   "source": [
    "population_df = pd.merge(population1_df, population2_df, on='GEOID20')\n",
    "population_df = pd.merge(population_df, vap_df, on='GEOID20')\n",
    "population_df = population_df.to_crs(population_df.estimate_utm_crs())"
   ]
  },
  {
   "cell_type": "code",
   "execution_count": 18,
   "metadata": {},
   "outputs": [
    {
     "name": "stderr",
     "output_type": "stream",
     "text": [
      "100%|█████████████████████████████████| 336985/336985 [02:03<00:00, 2734.32it/s]\n"
     ]
    },
    {
     "data": {
      "text/plain": [
       "True"
      ]
     },
     "execution_count": 18,
     "metadata": {},
     "output_type": "execute_result"
    }
   ],
   "source": [
    "maup.doctor(population_df)"
   ]
  },
  {
   "cell_type": "code",
   "execution_count": 19,
   "metadata": {},
   "outputs": [],
   "source": [
    "population_df['H_WHITE'] = population_df.apply(lambda t: t['P0010003'] - t['P0020005'], 1)\n",
    "population_df['H_BLACK'] = population_df.apply(lambda t: t['P0010004'] - t['P0020006'], 1)\n",
    "population_df['H_AMIN'] = population_df.apply(lambda t: t['P0010005'] - t['P0020007'], 1)\n",
    "population_df['H_ASIAN'] = population_df.apply(lambda t: t['P0010006'] - t['P0020008'], 1)\n",
    "population_df['H_NHPI'] = population_df.apply(lambda t: t['P0010007'] - t['P0020009'], 1)\n",
    "population_df['H_OTHER'] = population_df.apply(lambda t: t['P0010008'] - t['P0020010'], 1)\n",
    "population_df['H_2MORE'] = population_df.apply(lambda t: t['P0010009'] - t['P0020011'], 1)"
   ]
  },
  {
   "cell_type": "code",
   "execution_count": 20,
   "metadata": {},
   "outputs": [],
   "source": [
    "rename_dict = {'P0020001': 'TOTPOP', 'P0020002': 'HISP', 'P0020005': 'NH_WHITE', 'P0020006': 'NH_BLACK', 'P0020007': 'NH_AMIN',\n",
    "                    'P0020008': 'NH_ASIAN', 'P0020009': 'NH_NHPI', 'P0020010': 'NH_OTHER', 'P0020011': 'NH_2MORE',\n",
    "                    'P0040001': 'VAP', 'P0040002': 'HVAP', 'P0040005': 'WVAP', 'P0040006': 'BVAP', 'P0040007': 'AMINVAP',\n",
    "                                        'P0040008': 'ASIANVAP', 'P0040009': 'NHPIVAP', 'P0040010': 'OTHERVAP', 'P0040011': '2MOREVAP'}"
   ]
  },
  {
   "cell_type": "code",
   "execution_count": 21,
   "metadata": {},
   "outputs": [],
   "source": [
    "population_df.rename(columns=rename_dict, inplace = True)"
   ]
  },
  {
   "cell_type": "code",
   "execution_count": 22,
   "metadata": {},
   "outputs": [
    {
     "name": "stderr",
     "output_type": "stream",
     "text": [
      "100%|██████████████████████████████████████████| 67/67 [00:00<00:00, 333.52it/s]\n"
     ]
    },
    {
     "data": {
      "text/plain": [
       "True"
      ]
     },
     "execution_count": 22,
     "metadata": {},
     "output_type": "execute_result"
    }
   ],
   "source": [
    "county_df = county_df.to_crs(county_df.estimate_utm_crs())\n",
    "maup.doctor(county_df)"
   ]
  },
  {
   "cell_type": "markdown",
   "metadata": {},
   "source": [
    "## Read the vest 20 data\n",
    "\n",
    "Now using it as a \"base pricinct\""
   ]
  },
  {
   "cell_type": "markdown",
   "metadata": {},
   "source": [
    "## Check if vest20 can be used as base"
   ]
  },
  {
   "cell_type": "code",
   "execution_count": 25,
   "metadata": {},
   "outputs": [],
   "source": [
    "vest20 = gpd.read_file(vest20_data)"
   ]
  },
  {
   "cell_type": "code",
   "execution_count": 26,
   "metadata": {},
   "outputs": [
    {
     "data": {
      "text/plain": [
       "Index(['STATEFP', 'COUNTYFP', 'MCD', 'TYPE', 'PRECINCT', 'NAME', 'G20PREDBID',\n",
       "       'G20PRERTRU', 'G20PRELJOR', 'G20ATGDSHA', 'G20ATGRHEI', 'G20ATGLWAS',\n",
       "       'G20ATGGWEI', 'G20AUDDAHM', 'G20AUDRDEF', 'G20AUDLMOO', 'G20AUDGFAI',\n",
       "       'G20TREDTOR', 'G20TRERGAR', 'G20TRELSOL', 'G20TREGRUN', 'geometry'],\n",
       "      dtype='object')"
      ]
     },
     "execution_count": 26,
     "metadata": {},
     "output_type": "execute_result"
    }
   ],
   "source": [
    "vest20.columns"
   ]
  },
  {
   "cell_type": "code",
   "execution_count": 27,
   "metadata": {},
   "outputs": [],
   "source": [
    "start_col = 6\n",
    "vest_base_data = vest20\n",
    "year = '20'"
   ]
  },
  {
   "cell_type": "code",
   "execution_count": 28,
   "metadata": {},
   "outputs": [
    {
     "name": "stderr",
     "output_type": "stream",
     "text": [
      "100%|██████████████████████████████████████████| 67/67 [00:00<00:00, 322.33it/s]\n"
     ]
    },
    {
     "name": "stdout",
     "output_type": "stream",
     "text": [
      "Snapping all geometries to a grid with precision 10^( -5 ) to avoid GEOS errors.\n"
     ]
    },
    {
     "name": "stderr",
     "output_type": "stream",
     "text": [
      "100%|███████████████████████████████████████████| 67/67 [00:00<00:00, 85.72it/s]\n",
      "100%|██████████████████████████████████████████| 67/67 [00:00<00:00, 828.84it/s]\n"
     ]
    },
    {
     "name": "stdout",
     "output_type": "stream",
     "text": [
      "Identifying overlaps...\n"
     ]
    },
    {
     "name": "stderr",
     "output_type": "stream",
     "text": [
      "100%|█████████████████████████████████████| 9786/9786 [00:05<00:00, 1942.65it/s]\n"
     ]
    },
    {
     "name": "stdout",
     "output_type": "stream",
     "text": [
      "Resolving overlaps and filling gaps...\n"
     ]
    },
    {
     "name": "stderr",
     "output_type": "stream",
     "text": [
      "100%|███████████████████████████████████████████| 67/67 [00:00<00:00, 96.95it/s]\n",
      "100%|██████████████████████████████████████████| 67/67 [00:00<00:00, 883.29it/s]\n",
      "Gaps to simplify in region 0: 100%|███████████████| 1/1 [00:00<00:00, 54.64it/s]\n",
      "Gaps to fill in region 0: 100%|███████████████████| 1/1 [00:00<00:00, 51.20it/s]\n",
      "Gaps to simplify in region 1: 100%|██████████████| 1/1 [00:00<00:00, 146.31it/s]\n",
      "Gaps to fill: 0it [00:00, ?it/s]\n",
      "Gaps to simplify in region 2: 100%|██████████████| 3/3 [00:00<00:00, 140.94it/s]\n",
      "Gaps to fill in region 2: 100%|██████████████████| 1/1 [00:00<00:00, 124.21it/s]\n",
      "Gaps to simplify: 0it [00:00, ?it/s]\n",
      "Gaps to fill: 0it [00:00, ?it/s]\n",
      "Gaps to simplify: 0it [00:00, ?it/s]\n",
      "Gaps to fill: 0it [00:00, ?it/s]\n",
      "Gaps to simplify in region 5: 100%|████████████| 10/10 [00:00<00:00, 104.79it/s]\n",
      "Gaps to fill: 0it [00:00, ?it/s]\n",
      "Gaps to simplify: 0it [00:00, ?it/s]\n",
      "Gaps to fill: 0it [00:00, ?it/s]\n",
      "Gaps to simplify: 0it [00:00, ?it/s]\n",
      "Gaps to fill: 0it [00:00, ?it/s]\n",
      "Gaps to simplify: 0it [00:00, ?it/s]\n",
      "Gaps to fill: 0it [00:00, ?it/s]\n",
      "Gaps to simplify in region 9: 100%|███████████████| 4/4 [00:00<00:00, 79.35it/s]\n",
      "Gaps to fill in region 9: 100%|███████████████████| 2/2 [00:00<00:00, 75.31it/s]\n",
      "Gaps to simplify: 0it [00:00, ?it/s]\n",
      "Gaps to fill: 0it [00:00, ?it/s]\n",
      "Gaps to simplify: 0it [00:00, ?it/s]\n",
      "Gaps to fill: 0it [00:00, ?it/s]\n",
      "Gaps to simplify in region 12: 100%|████████████| 29/29 [00:00<00:00, 76.70it/s]\n",
      "Gaps to fill in region 12: 100%|████████████████| 21/21 [00:00<00:00, 56.65it/s]\n",
      "Gaps to simplify: 0it [00:00, ?it/s]\n",
      "Gaps to fill: 0it [00:00, ?it/s]\n",
      "Gaps to simplify: 0it [00:00, ?it/s]\n",
      "Gaps to fill: 0it [00:00, ?it/s]\n",
      "Gaps to simplify: 0it [00:00, ?it/s]\n",
      "Gaps to fill: 0it [00:00, ?it/s]\n",
      "Gaps to simplify in region 16: 100%|██████████████| 1/1 [00:00<00:00, 79.51it/s]\n",
      "Gaps to fill in region 16: 100%|██████████████████| 1/1 [00:00<00:00, 81.14it/s]\n",
      "Gaps to simplify in region 17: 100%|██████████████| 2/2 [00:00<00:00, 90.03it/s]\n",
      "Gaps to fill in region 17: 100%|██████████████████| 1/1 [00:00<00:00, 63.92it/s]\n",
      "Gaps to simplify in region 18: 100%|██████████████| 1/1 [00:00<00:00, 98.86it/s]\n",
      "Gaps to fill in region 18: 100%|█████████████████| 1/1 [00:00<00:00, 105.12it/s]\n",
      "Gaps to simplify: 0it [00:00, ?it/s]\n",
      "Gaps to fill: 0it [00:00, ?it/s]\n",
      "Gaps to simplify in region 20: 100%|████████████| 20/20 [00:01<00:00, 15.60it/s]\n",
      "Gaps to fill in region 20: 100%|██████████████████| 9/9 [00:00<00:00, 15.26it/s]\n",
      "Gaps to simplify in region 21: 100%|██████████████| 3/3 [00:00<00:00, 66.82it/s]\n",
      "Gaps to fill in region 21: 100%|██████████████████| 1/1 [00:00<00:00, 82.80it/s]\n",
      "Gaps to simplify: 0it [00:00, ?it/s]\n",
      "Gaps to fill: 0it [00:00, ?it/s]\n",
      "Gaps to simplify: 0it [00:00, ?it/s]\n",
      "Gaps to fill: 0it [00:00, ?it/s]\n",
      "Gaps to simplify: 0it [00:00, ?it/s]\n",
      "Gaps to fill: 0it [00:00, ?it/s]\n",
      "Gaps to simplify in region 25: 100%|██████████████| 1/1 [00:00<00:00, 99.31it/s]\n",
      "Gaps to fill in region 25: 100%|█████████████████| 1/1 [00:00<00:00, 107.01it/s]\n",
      "Gaps to simplify: 0it [00:00, ?it/s]\n",
      "Gaps to fill: 0it [00:00, ?it/s]\n",
      "Gaps to simplify in region 27: 100%|████████████| 51/51 [00:00<00:00, 79.30it/s]\n",
      "Gaps to fill in region 27: 100%|████████████████| 19/19 [00:00<00:00, 96.81it/s]\n",
      "Gaps to simplify in region 28: 100%|██████████████| 1/1 [00:00<00:00, 81.79it/s]\n",
      "Gaps to fill in region 28: 100%|██████████████████| 1/1 [00:00<00:00, 88.28it/s]\n",
      "Gaps to simplify: 0it [00:00, ?it/s]\n",
      "Gaps to fill: 0it [00:00, ?it/s]\n",
      "Gaps to simplify: 0it [00:00, ?it/s]\n",
      "Gaps to fill: 0it [00:00, ?it/s]\n",
      "Gaps to simplify in region 31: 100%|██████████████| 1/1 [00:00<00:00, 52.50it/s]\n",
      "Gaps to fill in region 31: 100%|██████████████████| 1/1 [00:00<00:00, 51.04it/s]\n",
      "Gaps to simplify in region 32: 100%|█████████████| 4/4 [00:00<00:00, 127.18it/s]\n",
      "Gaps to fill: 0it [00:00, ?it/s]\n",
      "Gaps to simplify in region 33: 100%|██████████████| 6/6 [00:00<00:00, 51.72it/s]\n",
      "Gaps to fill in region 33: 100%|██████████████████| 1/1 [00:00<00:00, 71.90it/s]\n",
      "Gaps to simplify in region 34: 100%|█████████████| 1/1 [00:00<00:00, 112.08it/s]\n",
      "Gaps to fill: 0it [00:00, ?it/s]\n",
      "Gaps to simplify: 0it [00:00, ?it/s]\n",
      "Gaps to fill: 0it [00:00, ?it/s]\n",
      "Gaps to simplify: 0it [00:00, ?it/s]\n",
      "Gaps to fill: 0it [00:00, ?it/s]\n",
      "Gaps to simplify in region 37: 100%|██████████████| 1/1 [00:00<00:00, 55.30it/s]\n",
      "Gaps to fill in region 37: 100%|██████████████████| 1/1 [00:00<00:00, 52.03it/s]\n",
      "Gaps to simplify: 0it [00:00, ?it/s]\n",
      "Gaps to fill: 0it [00:00, ?it/s]\n",
      "Gaps to simplify in region 39: 100%|█████████| 110/110 [00:00<00:00, 145.18it/s]\n",
      "Gaps to fill: 0it [00:00, ?it/s]\n",
      "Gaps to simplify: 0it [00:00, ?it/s]\n",
      "Gaps to fill: 0it [00:00, ?it/s]\n",
      "Gaps to simplify: 0it [00:00, ?it/s]\n",
      "Gaps to fill: 0it [00:00, ?it/s]\n",
      "Gaps to simplify: 0it [00:00, ?it/s]\n",
      "Gaps to fill: 0it [00:00, ?it/s]\n",
      "Gaps to simplify: 0it [00:00, ?it/s]\n",
      "Gaps to fill: 0it [00:00, ?it/s]\n",
      "Gaps to simplify: 0it [00:00, ?it/s]\n",
      "Gaps to fill: 0it [00:00, ?it/s]\n",
      "Gaps to simplify: 0it [00:00, ?it/s]\n",
      "Gaps to fill: 0it [00:00, ?it/s]\n",
      "Gaps to simplify: 0it [00:00, ?it/s]\n",
      "Gaps to fill: 0it [00:00, ?it/s]\n",
      "Gaps to simplify in region 47: 100%|██████████████| 1/1 [00:00<00:00, 93.74it/s]\n",
      "Gaps to fill: 0it [00:00, ?it/s]\n",
      "Gaps to simplify in region 48: 100%|██████████████| 3/3 [00:00<00:00, 10.16it/s]\n",
      "Gaps to fill: 0it [00:00, ?it/s]\n",
      "Gaps to simplify: 0it [00:00, ?it/s]\n",
      "Gaps to fill: 0it [00:00, ?it/s]\n",
      "Gaps to simplify: 0it [00:00, ?it/s]\n",
      "Gaps to fill: 0it [00:00, ?it/s]\n",
      "Gaps to simplify: 0it [00:00, ?it/s]\n",
      "Gaps to fill: 0it [00:00, ?it/s]\n",
      "Gaps to simplify: 0it [00:00, ?it/s]\n",
      "Gaps to fill: 0it [00:00, ?it/s]\n",
      "Gaps to simplify in region 53: 100%|██████████████| 2/2 [00:00<00:00, 83.16it/s]\n",
      "Gaps to fill: 0it [00:00, ?it/s]\n",
      "Gaps to simplify in region 54: 100%|██████████████| 1/1 [00:00<00:00, 76.63it/s]\n",
      "Gaps to fill: 0it [00:00, ?it/s]\n",
      "Gaps to simplify: 0it [00:00, ?it/s]\n",
      "Gaps to fill: 0it [00:00, ?it/s]\n",
      "Gaps to simplify: 0it [00:00, ?it/s]\n",
      "Gaps to fill: 0it [00:00, ?it/s]\n",
      "Gaps to simplify in region 57: 100%|█████████████| 2/2 [00:00<00:00, 151.78it/s]\n",
      "Gaps to fill: 0it [00:00, ?it/s]\n",
      "Gaps to simplify in region 58: 100%|█████████████| 1/1 [00:00<00:00, 134.44it/s]\n",
      "Gaps to fill: 0it [00:00, ?it/s]\n",
      "Gaps to simplify: 0it [00:00, ?it/s]\n",
      "Gaps to fill: 0it [00:00, ?it/s]\n",
      "Gaps to simplify in region 60: 100%|██████████████| 1/1 [00:00<00:00, 61.23it/s]\n",
      "Gaps to fill in region 60: 100%|██████████████████| 1/1 [00:00<00:00, 63.51it/s]\n",
      "Gaps to simplify in region 61: 100%|██████████████| 2/2 [00:00<00:00, 92.85it/s]\n",
      "Gaps to fill in region 61: 100%|██████████████████| 1/1 [00:00<00:00, 62.89it/s]\n",
      "Gaps to simplify: 0it [00:00, ?it/s]\n",
      "Gaps to fill: 0it [00:00, ?it/s]\n",
      "Gaps to simplify: 0it [00:00, ?it/s]\n",
      "Gaps to fill: 0it [00:00, ?it/s]\n",
      "Gaps to simplify: 0it [00:00, ?it/s]\n",
      "Gaps to fill: 0it [00:00, ?it/s]\n",
      "Gaps to simplify: 0it [00:00, ?it/s]\n",
      "Gaps to fill: 0it [00:00, ?it/s]\n",
      "Gaps to simplify in region 66: 100%|██████████████| 4/4 [00:00<00:00, 71.38it/s]\n",
      "Gaps to fill in region 66: 100%|██████████████████| 4/4 [00:00<00:00, 77.92it/s]\n"
     ]
    }
   ],
   "source": [
    "vest_base = add_vest_base(vest_base_data, start_col, year, county = county_df)"
   ]
  },
  {
   "cell_type": "code",
   "execution_count": 29,
   "metadata": {},
   "outputs": [
    {
     "name": "stdout",
     "output_type": "stream",
     "text": [
      "[0.0, 0.0, 0.0, 0.0, 0.0, 0.0, 0.0, 0.0, 0.0, 0.0, 0.0, 0.0, 0.0, 0.0, 0.0, 0.0, 0.0, 0.0, 0.0, 0.0, 0.0, 0.0, 0.0, 0.0, 0.0, 0.0, 0.0, 0.0, 0.0, 0.0, 0.0, 0.0, 0.0, 0.0, 0.0, 0.0, 0.0, 0.0, 0.0, 0.0, 0.0, 0.0, 0.0, 0.0, 0.0, 0.0, 0.0, 0.0, 0.0, 0.0, 0.0, 0.0, 0.0, 0.0, 0.0, 0.0, 0.0, 0.0, 0.0, 0.0, 0.0, 0.0, 0.0, 0.0, 0.0, 0.0, 0.0, 0.0, 0.0, 0.0, 0.0, 0.0, 0.0, 0.0, 0.0, 0.0, 0.0, 0.0, 0.0, 0.0, 0.0, 0.0, 0.0, 0.0, 0.0, 0.0, 0.0, 0.0, 0.0, 0.0, 0.0, 0.0, 0.0, 0.0, 0.0, 0.0, 0.0, 0.0, 0.0, 0.0, 0.0, 0.0, 0.0, 0.0, 0.0, 0.0, 0.0, 0.0, 0.0, 0.0, 0.0, 0.0, 0.0, 0.0, 0.0, 0.0, 0.0, 0.0, 0.0, 0.0, 0.0, 0.0, 0.0, 0.0, 0.0, 0.0, 0.0, 0.0, 0.0, 0.0, 0.0, 0.0, 0.0, 0.0, 0.0, 0.0, 0.0, 0.0, 0.0, 0.0, 0.0, 0.0, 0.0, 0.0, 0.0, 0.0, 0.0, 0.0, 0.0, 0.0, 0.0, 0.0, 0.0, 0.0, 0.0, 0.0, 0.0, 0.0, 0.0, 0.0, 0.0, 0.0, 0.0, 0.0, 0.0, 0.0, 0.0, 0.0, 0.0, 0.0, 0.0, 0.0, 0.0, 0.0, 0.0, 0.0, 0.0, 0.0, 0.0, 0.0, 0.0, 0.0, 0.0, 0.0, 0.0, 0.0, 0.0, 0.0, 0.0, 0.0, 0.0, 0.0, 0.0, 0.0, 0.0, 0.0, 0.0, 0.0, 0.0, 0.0, 0.0, 0.0, 0.0, 0.0, 0.0, 0.0, 0.0, 0.0, 0.0, 0.0, 0.0, 0.0, 0.0, 0.0, 0.0, 0.0, 0.0, 0.0, 0.0, 0.0, 0.0, 0.0, 0.0, 0.0, 0.0, 0.0, 0.0, 0.0, 0.0, 0.0, 0.0, 0.0, 0.0, 0.0, 0.0, 0.0, 0.0, 0.0, 0.0, 0.0, 0.0, 0.0, 0.0, 0.0, 0.0, 0.0, 0.0, 0.0, 0.0, 0.0, 0.0, 0.0, 0.0, 0.0, 0.0, 0.0, 0.0, 0.0, 0.0, 0.0, 0.0, 0.0, 0.0, 0.0, 0.0, 0.0, 0.0, 0.0, 0.0, 0.0, 0.0, 0.0, 0.0, 0.0, 0.0, 0.0, 0.0, 0.0, 0.0, 0.0, 0.0, 0.0, 0.0, 0.0, 0.0, 0.0, 0.0, 0.0, 0.0, 0.0, 0.0, 0.0, 0.0, 0.0, 0.0, 0.0, 0.0, 0.0, 0.0, 0.0, 0.0, 0.0, 0.0, 0.0, 0.0, 0.0, 0.0, 0.0, 0.0, 0.0, 0.0, 0.0, 0.0, 0.0, 0.0, 0.0, 0.0, 0.0, 0.0, 0.0, 0.0, 0.0, 0.0, 0.0, 0.0, 0.0, 0.0, 0.0, 0.0, 0.0, 0.0, 0.0, 0.0, 0.0, 0.0, 0.0, 0.0, 0.0, 0.0, 0.0, 0.0, 0.0, 0.0, 0.0, 0.0, 0.0, 0.0, 0.0, 0.0, 0.0, 0.0, 0.0, 0.0, 0.0, 0.0, 0.0, 0.0, 0.0, 0.0, 0.0, 0.0, 0.0, 0.0, 0.0, 0.0, 0.0, 0.0, 0.0, 0.0, 0.0, 0.0, 0.0, 0.0, 0.0, 0.0, 0.0, 0.0, 0.0, 0.0, 0.0, 0.0, 0.0, 0.0, 0.0, 0.0, 0.0, 0.0, 0.0, 0.0, 0.0, 0.0, 0.0, 0.0, 0.0, 0.0, 0.0, 0.0, 0.0, 0.0, 0.0, 0.0, 0.0, 0.0, 0.0, 0.0, 0.0, 0.0, 0.0, 0.0, 0.0, 0.0, 0.0, 0.0, 0.0, 0.0, 0.0, 0.0, 0.0, 0.0, 0.0, 0.0, 0.0, 0.0, 0.0, 0.0, 0.0, 0.0, 0.0, 0.0, 0.0, 0.0, 0.0, 0.0, 0.0, 0.0, 0.0, 0.0, 0.0, 0.0, 0.0, 0.0, 0.0, 0.0, 0.0, 0.0, 0.0, 0.0, 0.0, 0.0, 0.0, 0.0, 0.0, 0.0, 0.0, 0.0, 0.0, 0.0, 0.0, 0.0, 0.0, 0.0, 0.0, 0.0, 0.0, 0.0, 0.0, 0.0, 0.0, 0.0, 0.0, 0.0, 0.0, 0.0, 0.0, 0.0, 0.0, 0.0, 0.0, 0.0, 0.0, 0.0, 0.0, 0.0, 0.0, 0.0, 0.0, 0.0, 0.0, 0.0, 0.0, 0.0, 0.0, 0.0, 0.0, 0.0, 0.0, 0.0, 0.0, 0.0, 0.0, 0.0, 0.0, 0.0, 0.0, 0.0, 0.0, 0.0, 0.0, 0.0, 0.0, 0.0, 0.0, 0.0, 0.0, 0.0, 0.0, 0.0, 0.0, 0.0, 0.0, 0.0, 0.0, 0.0, 0.0, 0.0, 0.0, 0.0, 0.0, 0.0, 0.0, 0.0, 0.0, 0.0, 0.0, 0.0, 0.0, 0.0, 0.0, 0.0, 0.0, 0.0, 0.0, 0.0, 0.0, 0.0, 0.0, 0.0, 0.0, 0.0, 0.0, 0.0, 0.0, 0.0, 0.0, 0.0, 0.0, 0.0, 0.0, 0.0, 0.0, 0.0, 0.0, 0.0, 0.0, 0.0, 0.0, 0.0, 0.0, 0.0, 0.0, 0.0, 0.0, 0.0, 0.0, 0.0, 0.0, 0.0, 0.0, 0.0, 0.0, 0.0, 0.0, 0.0, 0.0, 0.0, 0.0, 0.0, 0.0, 0.0, 0.0, 0.0, 0.0, 0.0, 0.0, 0.0, 0.0, 0.0, 0.0, 0.0, 0.0, 0.0, 0.0, 0.0, 0.0, 0.0, 0.0, 0.7980744200233244, 0.7980744200233244, 0.8162895959582145, 0.8162895959582145, 1.1753803551431687, 1.1753803551431687, 1.223515986240544, 1.223515986240544, 1.290944645588561, 1.290944645588561, 1.7780758679005673, 1.7780758679005673, 2.0042581421008405, 2.0042581421008405, 2.056965933195863, 2.056965933195863, 2.308468025059056, 2.308468025059056, 2.4204550947709427, 2.4204550947709427, 2.6914647741991917, 2.6914647741991917, 2.7287357019192546, 2.7287357019192546, 3.017617476130605, 3.017617476130605, 3.1162654075159906, 3.1162654075159906, 3.239732363176009, 3.239732363176009, 3.3110730263296437, 3.3110730263296437, 3.330638353981346, 3.330638353981346, 3.595834763766598, 3.595834763766598, 3.885518744133956, 3.885518744133956, 4.11062351658038, 4.11062351658038, 4.255853841958208, 4.255853841958208, 4.261597125764175, 4.261597125764175, 4.302599731898411, 4.302599731898411, 4.3903814535068175, 4.3903814535068175, 4.5731386329277575, 4.5731386329277575, 4.6436385141402035, 4.6436385141402035, 4.726133643598063, 4.726133643598063, 5.196560365844029, 5.196560365844029, 5.2043892659438145, 5.2043892659438145, 5.21018807569634, 5.21018807569634, 5.237516212683875, 5.237516212683875, 5.340489630230339, 5.340489630230339, 5.479387608404246, 5.479387608404246, 5.561285477486084, 5.561285477486084, 5.5727538613423855, 5.5727538613423855, 5.698712641252154, 5.698712641252154, 5.872417450890163, 5.872417450890163, 5.920100476083125, 5.920100476083125, 6.051695327924219, 6.051695327924219, 6.129690127008257, 6.129690127008257, 6.28205031920595, 6.28205031920595, 6.691506277639479, 6.691506277639479, 6.924609033045062, 6.924609033045062, 6.946810000660552, 6.946810000660552, 6.999581603754556, 6.999581603754556, 7.039698365983321, 7.039698365983321, 7.101919656458175, 7.101919656458175, 7.161149429873626, 7.161149429873626, 7.219935437042365, 7.219935437042365, 7.285026139520009, 7.285026139520009, 7.335981138746989, 7.335981138746989, 7.5940510640167815, 7.5940510640167815, 7.748248569050363, 7.748248569050363, 7.8116614432698235, 7.8116614432698235, 7.825084164071856, 7.825084164071856, 7.913601763490194, 7.913601763490194, 8.08698348772055, 8.08698348772055, 8.444226342777053, 8.444226342777053, 8.578903252403068, 8.578903252403068, 8.93930254122812, 8.93930254122812, 8.94771772988751, 8.94771772988751, 9.029889234662464, 9.029889234662464, 9.056579812214597, 9.056579812214597, 9.424294364709198, 9.4242943647092, 9.496296316009625, 9.496296316009625, 9.544739340361327, 9.544739340361327, 9.644170445297028, 9.644170445297028, 9.715839420041876, 9.715839420041876, 9.765622865098972, 9.765622865098972, 9.832703805806396, 9.832703805806396, 10.023476522904383, 10.023476522904385, 10.068340443372694, 10.068340443372694, 10.141898096014872, 10.141898096014872, 10.152240234560638, 10.152240234560638, 10.234347914908309, 10.234347914908309, 10.35230208099072, 10.35230208099072, 10.355131959097768, 10.355131959097768, 10.572636415821638, 10.572636415821638, 10.637000547111464, 10.637000547111464, 10.673282924868062, 10.673282924868062, 10.688961287886467, 10.688961287886467, 10.693291090803687, 10.693291090803687, 10.761419554483233, 10.761419554483233, 10.87085237468925, 10.87085237468925, 10.961571976364592, 10.961571976364592, 11.05734227955515, 11.05734227955515, 11.274203833667627, 11.274203833667627, 11.427349215336966, 11.427349215336966, 11.592031117204938, 11.592031117204938, 11.683562700620767, 11.683562700620767, 11.880023430887443, 11.880023430887443, 11.960707099436535, 11.960707099436535, 11.967286160418034, 11.967286160418034, 12.04074230330522, 12.04074230330522, 12.046367141319827, 12.046367141319827, 12.151736304278103, 12.151736304278103, 12.23388526956997, 12.23388526956997, 12.31354804573474, 12.31354804573474, 12.500444525169303, 12.500444525169303, 12.683450147270404, 12.683450147270404, 12.79689333120083, 12.79689333120083, 12.861387221868936, 12.861387221868936, 12.902049903966956, 12.902049903966956, 12.914161806010902, 12.914161806010902, 13.422489664169662, 13.422489664169662, 13.42965469571193, 13.42965469571193, 13.476223628921597, 13.476223628921597, 13.720301931730235, 13.720301931730235, 13.858064643557501, 13.858064643557501, 13.91838166294086, 13.91838166294086, 13.924357109407348, 13.924357109407348, 14.000671611777802, 14.000671611777802, 14.03147765388555, 14.03147765388555, 14.328812116942382, 14.328812116942382, 14.475642878893776, 14.475642878893776, 14.530791134296795, 14.530791134296795, 14.54357739586629, 14.54357739586629, 14.695797505874296, 14.695797505874296, 14.764441056384408, 14.764441056384408, 15.442191529699544, 15.442191529699544, 15.515574835159935, 15.515574835159935, 15.789569665620817, 15.789569665620817, 15.839667327996162, 15.839667327996162, 16.086543599089964, 16.086543599089964, 16.194200196736848, 16.194200196736848, 16.234856148635156, 16.234856148635156, 16.430992743197418, 16.430992743197418, 16.456387079547607, 16.456387079547607, 16.523423515550174, 16.523423515550174, 16.544855223088007, 16.544855223088007, 16.584142189537378, 16.584142189537378, 16.64237618918333, 16.64237618918333, 16.92492852611962, 16.92492852611962, 16.948357663798163, 16.948357663798163, 17.008909572220816, 17.008909572220816, 17.14142800950018, 17.141428009500185, 17.492289284683878, 17.492289284683878, 17.600151866222593, 17.600151866222593, 17.613951660373775, 17.613951660373775, 17.973668969122592, 17.973668969122592, 18.025880676884, 18.025880676884, 18.233099490737317, 18.233099490737317, 18.631160015534356, 18.631160015534356, 18.639692698634416, 18.639692698634416, 18.71691987186672, 18.71691987186672, 18.915757199056145, 18.915757199056145, 19.120114639583633, 19.120114639583633, 19.137744748848668, 19.137744748848668, 19.433771771438263, 19.433771771438263, 19.456404054360796, 19.456404054360796, 19.582548852940874, 19.582548852940874, 19.65519797587376, 19.65519797587376, 19.71258582355512, 19.71258582355512, 19.719175683699024, 19.719175683699024, 19.89305677496943, 19.89305677496943, 19.929281811907966, 19.929281811907966, 20.027560766493373, 20.027560766493373, 20.244411685474624, 20.244411685474624, 20.251224376938914, 20.251224376938914, 20.681393079356788, 20.681393079356788, 20.69373736521579, 20.69373736521579, 20.932051737432683, 20.932051737432683, 21.139484142400995, 21.139484142400995, 21.544321545214572, 21.544321545214572, 21.545629015826933, 21.545629015826933, 21.651595321812742, 21.651595321812742, 21.805290115586235, 21.805290115586235, 21.992936986503544, 21.992936986503544, 22.03001706185353, 22.03001706185353, 22.09288960338611, 22.09288960338611, 22.12550277419769, 22.12550277419769, 22.14103958767706, 22.141039587677064, 22.14170361223384, 22.14170361223384, 22.455076406387096, 22.455076406387096, 22.455934178101817, 22.455934178101817, 22.516643769869187, 22.516643769869187, 22.52134858645696, 22.52134858645696, 22.717647270555517, 22.717647270555517, 23.141181819775507, 23.141181819775507, 23.203272662419042, 23.203272662419042, 23.32498083679432, 23.32498083679432, 23.495766202699404, 23.495766202699404, 23.655425278331784, 23.655425278331784, 23.73126654513628, 23.73126654513628, 23.740789448290215, 23.740789448290215, 23.811831820719775, 23.811831820719775, 24.09000101969202, 24.09000101969202, 24.305078624017806, 24.305078624017806, 24.40604688293764, 24.40604688293764, 25.057812314427075, 25.057812314427075, 25.129493941492967, 25.129493941492967, 25.369490986073753, 25.369490986073753, 25.5040819018748, 25.5040819018748, 25.68512935048671, 25.68512935048671, 25.728010893821047, 25.728010893821047, 25.96519362854734, 25.96519362854734, 26.157652750965173, 26.157652750965173, 26.22272004953394, 26.22272004953394, 26.28371083382933, 26.28371083382933, 26.678863733111264, 26.678863733111264, 26.855799837124202, 26.855799837124202, 26.97105281395921, 26.97105281395921, 27.056802737405125, 27.056802737405125, 27.27541073337325, 27.27541073337325, 27.444895313745878, 27.444895313745878, 27.71056219551626, 27.710562195516268, 27.816158438917956, 27.816158438917956, 27.90030094088159, 27.900300940881593, 27.949782325640456, 27.949782325640456, 27.955939883591796, 27.955939883591796, 27.955994681152585, 27.955994681152585, 27.98398922603188, 27.98398922603188, 28.02695620906488, 28.02695620906488, 28.089616053269804, 28.089616053269804, 28.431982498578105, 28.431982498578105, 28.51889513993541, 28.51889513993541, 28.54176536646633, 28.54176536646633, 28.561492427229926, 28.561492427229926, 28.849710213460728, 28.849710213460728, 29.037025886729992, 29.03702588673, 29.051401003470232, 29.051401003470232, 29.068136462050944, 29.068136462050944, 29.238698947251194, 29.238698947251194, 29.61259558037831, 29.61259558037831, 29.709086274161805, 29.709086274161805, 30.263613454269667, 30.26361345426967, 30.36845569084864, 30.36845569084864, 30.527220197410657, 30.527220197410657, 30.796569097133528, 30.796569097133528, 31.039971877738736, 31.039971877738736, 31.092958752518363, 31.092958752518363, 31.18676341741704, 31.18676341741704, 31.216798447121832, 31.216798447121832, 31.329671557470032, 31.329671557470036, 31.47476985370191, 31.47476985370191, 31.770368952384967, 31.770368952384967, 31.789497724566402, 31.789497724566402, 31.830219416253296, 31.830219416253296, 31.835322468020884, 31.835322468020884, 31.87718641283337, 31.87718641283337, 31.983236382400552, 31.983236382400552, 32.00713279236426, 32.00713279236426, 32.0225320561394, 32.0225320561394, 32.50689622814091, 32.50689622814091, 32.5373449485172, 32.5373449485172, 32.64418211493557, 32.64418211493557, 32.9247311545688, 32.9247311545688, 32.97835997017586, 32.978359970175866, 33.32248416991491, 33.32248416991491, 33.5501691967508, 33.5501691967508, 33.71875552341358, 33.71875552341358, 33.76957485437967, 33.76957485437968, 33.779213588927355, 33.779213588927355, 33.949017797872735, 33.949017797872735, 34.123300229059176, 34.123300229059176, 34.25171213028099, 34.251712130281, 34.41097779026807, 34.41097779026807, 34.53458656289558, 34.53458656289558, 34.662445030215494, 34.662445030215494, 34.77621336054055, 34.77621336054055, 34.89284522237524, 34.89284522237524, 35.14525259991706, 35.14525259991706, 35.16017486251004, 35.16017486251005, 35.26352206222265, 35.26352206222265, 35.36777268982039, 35.36777268982039, 35.46202926952182, 35.46202926952182, 35.63070099172918, 35.63070099172918, 35.79075926534166, 35.79075926534166, 35.804080191451774, 35.804080191451774, 36.11154673779269, 36.11154673779269, 36.14088086426647, 36.14088086426647, 36.20826169628067, 36.20826169628067, 36.384115405854736, 36.384115405854736, 36.4920480610751, 36.4920480610751, 36.7250635387309, 36.7250635387309, 36.88290116288606, 36.88290116288606, 36.90064009079639, 36.90064009079639, 37.072468493298736, 37.072468493298736, 37.15474285221037, 37.15474285221037, 37.1705903146336, 37.17059031463361, 37.202927353232774, 37.202927353232774, 37.26315809854987, 37.26315809854987, 37.34551745655458, 37.34551745655458, 37.36555272645524, 37.36555272645524, 37.52653777211788, 37.526537772117884, 37.53160532500871, 37.53160532500871, 37.57883577162928, 37.57883577162928, 37.707083948409405, 37.707083948409405, 37.77121227601529, 37.77121227601529, 37.885030510206185, 37.885030510206185, 37.968882526856355, 37.968882526856355, 38.03872764561959, 38.03872764561959, 38.32136111180485, 38.32136111180485, 38.41073691626793, 38.41073691626793, 38.43452539578, 38.43452539578, 38.48194191071784, 38.48194191071784, 38.60512993154455, 38.60512993154455, 38.84602601978012, 38.84602601978012, 38.942585016303035, 38.942585016303035, 39.060607068709295, 39.060607068709295, 39.29895524264878, 39.29895524264878, 39.35838446913536, 39.35838446913536, 39.38637744362687, 39.38637744362687, 39.43298003375091, 39.43298003375091, 39.58086245230866, 39.58086245230866, 39.742626613226626, 39.742626613226626, 39.96180145024703, 39.96180145024703, 39.96350039096222, 39.963500390962224, 40.064966232471676, 40.064966232471676, 40.09251189133178, 40.09251189133178, 40.23984659874256, 40.23984659874257, 40.261341651357796, 40.261341651357796, 40.3504205155671, 40.3504205155671, 40.516579954977786, 40.516579954977786, 40.72282542422637, 40.72282542422637, 40.743307923070155, 40.743307923070155, 40.81299637339066, 40.81299637339066, 40.85434468666844, 40.85434468666844, 40.89081266351605, 40.89081266351605, 40.9824258755494, 40.9824258755494, 41.263318717008715, 41.263318717008715, 41.322661051555166, 41.322661051555166, 41.3442189459707, 41.3442189459707, 41.426281795191215, 41.426281795191215, 41.45698047050004, 41.45698047050004, 41.57862602930146, 41.57862602930146, 41.593744527227564, 41.593744527227564, 41.72601985760287, 41.72601985760287, 41.78951335288244, 41.78951335288244, 41.90331356127954, 41.90331356127954, 41.927006454886424, 41.927006454886424, 42.05164991768866, 42.05164991768866, 42.122087113362554, 42.122087113362554, 42.29422431155502, 42.29422431155502, 42.32370418915799, 42.32370418915799, 42.381901470021525, 42.381901470021525, 42.4149915179597, 42.4149915179597, 42.45751561340299, 42.45751561340299, 42.522257750596836, 42.522257750596836, 42.63474770723404, 42.63474770723404, 42.799352840965696, 42.799352840965696, 42.83351526704008, 42.83351526704008, 43.20600147155948, 43.20600147155948, 43.22113779226108, 43.22113779226108, 43.83397352447154, 43.83397352447154, 43.90372041211976, 43.90372041211976, 43.93488597200957, 43.93488597200957, 44.001934245269425, 44.00193424526943, 44.10444786052842, 44.10444786052842, 44.13311473990662, 44.133114739906624, 44.26780307520224, 44.26780307520224, 44.299679678167124, 44.299679678167124, 44.36842687697141, 44.36842687697141, 44.42301172954551, 44.42301172954551, 44.5047363323857, 44.5047363323857, 44.64919051016375, 44.64919051016375, 44.756820538929745, 44.756820538929745, 44.806342111087766, 44.806342111087766, 45.039475177176975, 45.039475177176975, 45.14957107784044, 45.14957107784044, 45.329231012369114, 45.32923101236912, 45.39763608131564, 45.39763608131564, 45.45464288856452, 45.45464288856452, 45.45524318343305, 45.45524318343305, 45.467029655503524, 45.467029655503524, 45.70312796563184, 45.70312796563184, 45.71327083487169, 45.71327083487169, 45.74462928944107, 45.74462928944107, 45.90546504763522, 45.90546504763522, 45.93077510329755, 45.93077510329755, 45.94290973732552, 45.94290973732552, 46.05894702474481, 46.05894702474481, 46.09504544941459, 46.09504544941459, 46.112050268239344, 46.112050268239344, 46.12798714921175, 46.12798714921175, 46.20658967422585, 46.20658967422585, 46.28509505085181, 46.28509505085181, 46.37872436377876, 46.37872436377876, 46.682571842525704, 46.682571842525704, 46.786854447407244, 46.786854447407244, 46.867960673979816, 46.867960673979816, 46.909475090496436, 46.909475090496436, 46.97708926743102, 46.97708926743102, 47.04722927922696, 47.04722927922696, 47.09274051622391, 47.09274051622391, 47.37094337843659, 47.37094337843659, 47.43954365806744, 47.43954365806744, 47.46300535844098, 47.46300535844098, 47.464375213000665, 47.464375213000665, 47.57026103199405, 47.57026103199405, 47.68200915120226, 47.68200915120226, 47.688383425048606, 47.688383425048606, 47.76270596648064, 47.76270596648064, 47.85918587588562, 47.85918587588562, 47.87831982579682, 47.87831982579682, 47.97275955091547, 47.97275955091547, 47.973170101548384, 47.973170101548384, 48.06826846053102, 48.06826846053102, 48.242625865732165, 48.242625865732165, 48.25278600339537, 48.25278600339537, 48.31204312970829, 48.31204312970829, 48.34513209044522, 48.34513209044522, 48.4912241623304, 48.4912241623304, 48.517932445174125, 48.517932445174125, 48.57427406570492, 48.57427406570492, 48.740571345252576, 48.740571345252576, 48.836752353092535, 48.836752353092535, 48.98234888437894, 48.98234888437894, 49.075072045208564, 49.075072045208564, 49.08929079454912, 49.08929079454912, 49.31929074632559, 49.31929074632559, 49.35372604737463, 49.35372604737463, 49.42746376236136, 49.42746376236136, 49.49544583139968, 49.495445831399685, 49.51043136414943, 49.51043136414943, 49.53546934735184, 49.53546934735184, 49.69054909306303, 49.69054909306303, 49.76189663192504, 49.76189663192504, 49.89043512375889, 49.89043512375889, 49.89894952870912, 49.89894952870912, 50.02086858612711, 50.02086858612711, 50.071031361756354, 50.071031361756354, 50.16648208677889, 50.16648208677889, 50.6230915424336, 50.6230915424336, 50.78040410991639, 50.78040410991639, 50.90215736615837, 50.90215736615838, 51.2179798725217, 51.2179798725217, 51.24494524570177, 51.24494524570177, 51.25474828975305, 51.25474828975305, 51.746144070624574, 51.746144070624574, 51.74659632338278, 51.74659632338278, 51.8221860337416, 51.8221860337416, 52.00684332491237, 52.00684332491237, 52.05233820644158, 52.05233820644158, 52.24541157798257, 52.24541157798258, 52.30440498717304, 52.30440498717304, 52.37695554130187, 52.37695554130187, 52.37838961546628, 52.37838961546628, 52.40793115031793, 52.40793115031793, 52.418469147174584, 52.418469147174584, 52.996759526153525, 52.996759526153525, 53.226276400518884, 53.226276400518884, 53.42403547787423, 53.42403547787423, 53.427548753662954, 53.427548753662954, 53.44356194486796, 53.44356194486796, 53.72191711232069, 53.72191711232069, 53.72571978316355, 53.72571978316355]\n"
     ]
    }
   ],
   "source": [
    "borders = check_small_boundary_lengths(vest_base)\n",
    "print(borders[3500:5000])"
   ]
  },
  {
   "cell_type": "code",
   "execution_count": 30,
   "metadata": {},
   "outputs": [
    {
     "name": "stdout",
     "output_type": "stream",
     "text": [
      "Snapping all geometries to a grid with precision 10^( -5 ) to avoid GEOS errors.\n",
      "Identifying overlaps...\n"
     ]
    },
    {
     "name": "stderr",
     "output_type": "stream",
     "text": [
      "100%|█████████████████████████████████████| 9318/9318 [00:02<00:00, 3924.47it/s]\n"
     ]
    },
    {
     "name": "stdout",
     "output_type": "stream",
     "text": [
      "Resolving overlaps...\n",
      "Filling gaps...\n"
     ]
    },
    {
     "name": "stderr",
     "output_type": "stream",
     "text": [
      "Gaps to simplify: 0it [00:00, ?it/s]\n",
      "Gaps to fill: 0it [00:00, ?it/s]\n"
     ]
    },
    {
     "name": "stdout",
     "output_type": "stream",
     "text": [
      "Converting small rook adjacencies to queen...\n"
     ]
    },
    {
     "name": "stderr",
     "output_type": "stream",
     "text": [
      "100%|█████████████████████████████████████| 9157/9157 [00:05<00:00, 1813.50it/s]\n",
      "100%|███████████████████████████████████████████| 4/4 [00:00<00:00, 2636.68it/s]\n",
      "100%|███████████████████████████████████████████| 5/5 [00:00<00:00, 2359.80it/s]\n",
      "100%|███████████████████████████████████████████| 4/4 [00:00<00:00, 2566.11it/s]\n",
      "100%|███████████████████████████████████████████| 4/4 [00:00<00:00, 2932.57it/s]\n",
      "100%|███████████████████████████████████████████| 4/4 [00:00<00:00, 2834.95it/s]\n",
      "100%|███████████████████████████████████████████| 4/4 [00:00<00:00, 2851.33it/s]\n",
      "100%|███████████████████████████████████████████| 4/4 [00:00<00:00, 2426.91it/s]\n",
      "100%|███████████████████████████████████████████| 4/4 [00:00<00:00, 3171.50it/s]\n",
      "100%|███████████████████████████████████████████| 6/6 [00:00<00:00, 3285.78it/s]\n",
      "100%|███████████████████████████████████████████| 5/5 [00:00<00:00, 3310.94it/s]\n",
      "100%|███████████████████████████████████████████| 4/4 [00:00<00:00, 2969.42it/s]\n",
      "100%|███████████████████████████████████████████| 5/5 [00:00<00:00, 2867.31it/s]\n",
      "100%|███████████████████████████████████████████| 4/4 [00:00<00:00, 3720.00it/s]\n",
      "100%|███████████████████████████████████████████| 5/5 [00:00<00:00, 2896.62it/s]\n",
      "100%|███████████████████████████████████████████| 4/4 [00:00<00:00, 3065.45it/s]\n",
      "100%|███████████████████████████████████████████| 5/5 [00:00<00:00, 3439.08it/s]\n",
      "100%|███████████████████████████████████████████| 4/4 [00:00<00:00, 2349.75it/s]\n",
      "100%|███████████████████████████████████████████| 4/4 [00:00<00:00, 2956.34it/s]\n",
      "100%|███████████████████████████████████████████| 4/4 [00:00<00:00, 2584.29it/s]\n",
      "100%|███████████████████████████████████████████| 4/4 [00:00<00:00, 2296.05it/s]\n",
      "100%|███████████████████████████████████████████| 4/4 [00:00<00:00, 2880.21it/s]\n",
      "100%|███████████████████████████████████████████| 4/4 [00:00<00:00, 2552.44it/s]\n",
      "100%|███████████████████████████████████████████| 4/4 [00:00<00:00, 2657.99it/s]\n",
      "100%|███████████████████████████████████████████| 4/4 [00:00<00:00, 2626.36it/s]\n",
      "100%|███████████████████████████████████████████| 4/4 [00:00<00:00, 2689.95it/s]\n",
      "100%|███████████████████████████████████████████| 4/4 [00:00<00:00, 2665.17it/s]\n",
      "100%|████████████████████████████████████████████| 4/4 [00:00<00:00, 218.73it/s]\n",
      "100%|███████████████████████████████████████████| 5/5 [00:00<00:00, 2483.89it/s]\n",
      "100%|███████████████████████████████████████████| 4/4 [00:00<00:00, 2457.12it/s]\n",
      "100%|███████████████████████████████████████████| 5/5 [00:00<00:00, 2013.01it/s]\n",
      "100%|███████████████████████████████████████████| 4/4 [00:00<00:00, 2144.60it/s]\n",
      "100%|███████████████████████████████████████████| 4/4 [00:00<00:00, 2466.15it/s]\n",
      "100%|███████████████████████████████████████████| 5/5 [00:00<00:00, 2695.57it/s]\n",
      "100%|███████████████████████████████████████████| 4/4 [00:00<00:00, 2711.69it/s]\n",
      "100%|███████████████████████████████████████████| 5/5 [00:00<00:00, 2662.37it/s]\n",
      "100%|███████████████████████████████████████████| 4/4 [00:00<00:00, 2355.69it/s]\n",
      "100%|███████████████████████████████████████████| 4/4 [00:00<00:00, 2477.07it/s]\n",
      "100%|███████████████████████████████████████████| 4/4 [00:00<00:00, 2932.57it/s]\n",
      "100%|███████████████████████████████████████████| 4/4 [00:00<00:00, 2859.10it/s]\n",
      "100%|███████████████████████████████████████████| 4/4 [00:00<00:00, 3235.72it/s]\n",
      "100%|███████████████████████████████████████████| 4/4 [00:00<00:00, 2590.68it/s]\n",
      "100%|███████████████████████████████████████████| 4/4 [00:00<00:00, 2605.97it/s]\n",
      "100%|███████████████████████████████████████████| 4/4 [00:00<00:00, 2861.05it/s]\n",
      "100%|███████████████████████████████████████████| 4/4 [00:00<00:00, 2655.88it/s]\n",
      "100%|███████████████████████████████████████████| 4/4 [00:00<00:00, 2873.80it/s]\n",
      "100%|███████████████████████████████████████████| 5/5 [00:00<00:00, 3504.01it/s]\n",
      "100%|███████████████████████████████████████████| 4/4 [00:00<00:00, 2567.29it/s]\n",
      "100%|███████████████████████████████████████████| 4/4 [00:00<00:00, 2612.87it/s]\n",
      "100%|███████████████████████████████████████████| 4/4 [00:00<00:00, 2650.85it/s]\n",
      "100%|███████████████████████████████████████████| 5/5 [00:00<00:00, 3148.88it/s]\n",
      "100%|███████████████████████████████████████████| 4/4 [00:00<00:00, 2950.10it/s]\n",
      "100%|███████████████████████████████████████████| 4/4 [00:00<00:00, 2481.47it/s]\n",
      "100%|███████████████████████████████████████████| 4/4 [00:00<00:00, 2389.58it/s]\n",
      "100%|███████████████████████████████████████████| 5/5 [00:00<00:00, 2269.65it/s]\n",
      "100%|███████████████████████████████████████████| 4/4 [00:00<00:00, 2594.28it/s]\n",
      "100%|███████████████████████████████████████████| 4/4 [00:00<00:00, 2375.37it/s]\n",
      "100%|███████████████████████████████████████████| 5/5 [00:00<00:00, 2751.81it/s]\n",
      "100%|███████████████████████████████████████████| 5/5 [00:00<00:00, 2445.09it/s]\n",
      "100%|███████████████████████████████████████████| 4/4 [00:00<00:00, 2728.89it/s]\n",
      "100%|███████████████████████████████████████████| 4/4 [00:00<00:00, 2363.99it/s]\n",
      "100%|███████████████████████████████████████████| 4/4 [00:00<00:00, 2361.33it/s]\n",
      "100%|███████████████████████████████████████████| 4/4 [00:00<00:00, 2547.41it/s]\n",
      "100%|███████████████████████████████████████████| 4/4 [00:00<00:00, 2457.12it/s]\n",
      "100%|███████████████████████████████████████████| 4/4 [00:00<00:00, 2642.08it/s]\n",
      "100%|███████████████████████████████████████████| 5/5 [00:00<00:00, 2885.46it/s]\n",
      "100%|███████████████████████████████████████████| 5/5 [00:00<00:00, 2478.90it/s]\n",
      "100%|███████████████████████████████████████████| 5/5 [00:00<00:00, 2632.96it/s]\n",
      "100%|███████████████████████████████████████████| 4/4 [00:00<00:00, 3176.90it/s]\n",
      "100%|███████████████████████████████████████████| 4/4 [00:00<00:00, 2919.81it/s]\n",
      "100%|███████████████████████████████████████████| 5/5 [00:00<00:00, 3058.41it/s]\n",
      "100%|███████████████████████████████████████████| 4/4 [00:00<00:00, 2971.52it/s]\n",
      "100%|███████████████████████████████████████████| 5/5 [00:00<00:00, 3164.56it/s]\n",
      "100%|███████████████████████████████████████████| 5/5 [00:00<00:00, 3039.35it/s]\n",
      "100%|███████████████████████████████████████████| 5/5 [00:00<00:00, 2726.05it/s]\n",
      "100%|███████████████████████████████████████████| 5/5 [00:00<00:00, 2577.30it/s]\n",
      "100%|███████████████████████████████████████████| 4/4 [00:00<00:00, 2583.89it/s]\n",
      "100%|███████████████████████████████████████████| 5/5 [00:00<00:00, 2762.32it/s]\n",
      "100%|███████████████████████████████████████████| 4/4 [00:00<00:00, 3102.87it/s]\n",
      "100%|███████████████████████████████████████████| 4/4 [00:00<00:00, 2879.71it/s]\n",
      "100%|███████████████████████████████████████████| 4/4 [00:00<00:00, 2232.20it/s]\n",
      "100%|███████████████████████████████████████████| 4/4 [00:00<00:00, 2525.55it/s]\n",
      "100%|███████████████████████████████████████████| 4/4 [00:00<00:00, 2657.57it/s]\n",
      "100%|███████████████████████████████████████████| 5/5 [00:00<00:00, 3324.59it/s]\n",
      "100%|███████████████████████████████████████████| 4/4 [00:00<00:00, 3182.32it/s]\n",
      "100%|███████████████████████████████████████████| 4/4 [00:00<00:00, 2651.27it/s]\n",
      "100%|███████████████████████████████████████████| 4/4 [00:00<00:00, 3009.91it/s]\n",
      "100%|███████████████████████████████████████████| 4/4 [00:00<00:00, 3127.16it/s]\n",
      "100%|███████████████████████████████████████████| 6/6 [00:00<00:00, 3538.00it/s]\n",
      "100%|███████████████████████████████████████████| 4/4 [00:00<00:00, 2972.05it/s]\n",
      "100%|███████████████████████████████████████████| 5/5 [00:00<00:00, 3358.13it/s]\n",
      "100%|███████████████████████████████████████████| 4/4 [00:00<00:00, 2958.94it/s]\n",
      "100%|███████████████████████████████████████████| 4/4 [00:00<00:00, 2964.70it/s]\n",
      "100%|███████████████████████████████████████████| 4/4 [00:00<00:00, 3113.23it/s]\n",
      "100%|███████████████████████████████████████████| 5/5 [00:00<00:00, 3054.40it/s]\n",
      "100%|███████████████████████████████████████████| 5/5 [00:00<00:00, 2897.02it/s]\n",
      "100%|███████████████████████████████████████████| 4/4 [00:00<00:00, 2709.94it/s]\n",
      "100%|███████████████████████████████████████████| 4/4 [00:00<00:00, 2487.72it/s]\n",
      "100%|███████████████████████████████████████████| 4/4 [00:00<00:00, 2480.00it/s]\n",
      "100%|███████████████████████████████████████████| 5/5 [00:00<00:00, 2903.44it/s]\n",
      "100%|███████████████████████████████████████████| 7/7 [00:00<00:00, 3273.88it/s]\n",
      "100%|███████████████████████████████████████████| 4/4 [00:00<00:00, 2419.56it/s]\n",
      "100%|███████████████████████████████████████████| 4/4 [00:00<00:00, 2390.94it/s]\n",
      "100%|███████████████████████████████████████████| 4/4 [00:00<00:00, 2727.12it/s]\n",
      "100%|███████████████████████████████████████████| 4/4 [00:00<00:00, 3215.26it/s]\n",
      "100%|███████████████████████████████████████████| 4/4 [00:00<00:00, 2436.07it/s]\n",
      "100%|███████████████████████████████████████████| 4/4 [00:00<00:00, 2272.72it/s]\n",
      "100%|███████████████████████████████████████████| 4/4 [00:00<00:00, 2799.47it/s]\n",
      "100%|███████████████████████████████████████████| 5/5 [00:00<00:00, 3146.51it/s]\n",
      "100%|███████████████████████████████████████████| 4/4 [00:00<00:00, 2463.25it/s]\n",
      "100%|███████████████████████████████████████████| 4/4 [00:00<00:00, 2819.23it/s]\n",
      "100%|███████████████████████████████████████████| 4/4 [00:00<00:00, 3164.32it/s]\n",
      "100%|███████████████████████████████████████████| 5/5 [00:00<00:00, 3200.78it/s]\n",
      "100%|███████████████████████████████████████████| 4/4 [00:00<00:00, 2829.21it/s]\n",
      "100%|███████████████████████████████████████████| 4/4 [00:00<00:00, 2947.51it/s]\n",
      "100%|███████████████████████████████████████████| 4/4 [00:00<00:00, 2614.50it/s]\n",
      "100%|███████████████████████████████████████████| 4/4 [00:00<00:00, 2832.55it/s]\n",
      "100%|███████████████████████████████████████████| 4/4 [00:00<00:00, 2879.22it/s]\n",
      "100%|███████████████████████████████████████████| 4/4 [00:00<00:00, 2952.18it/s]\n",
      "100%|███████████████████████████████████████████| 5/5 [00:00<00:00, 2893.42it/s]\n",
      "100%|███████████████████████████████████████████| 4/4 [00:00<00:00, 2693.40it/s]\n",
      "100%|███████████████████████████████████████████| 6/6 [00:00<00:00, 2790.62it/s]\n",
      "100%|███████████████████████████████████████████| 6/6 [00:00<00:00, 3442.19it/s]\n",
      "100%|███████████████████████████████████████████| 4/4 [00:00<00:00, 2956.34it/s]\n",
      "100%|███████████████████████████████████████████| 5/5 [00:00<00:00, 3039.35it/s]\n",
      "100%|███████████████████████████████████████████| 6/6 [00:00<00:00, 3465.89it/s]\n",
      "100%|███████████████████████████████████████████| 4/4 [00:00<00:00, 2965.22it/s]\n",
      "100%|███████████████████████████████████████████| 4/4 [00:00<00:00, 2909.18it/s]\n",
      "100%|███████████████████████████████████████████| 4/4 [00:00<00:00, 2754.88it/s]\n",
      "100%|███████████████████████████████████████████| 4/4 [00:00<00:00, 2730.67it/s]\n",
      "100%|███████████████████████████████████████████| 4/4 [00:00<00:00, 3098.86it/s]\n",
      "100%|███████████████████████████████████████████| 4/4 [00:00<00:00, 3484.36it/s]\n",
      "100%|███████████████████████████████████████████| 4/4 [00:00<00:00, 2708.62it/s]\n",
      "100%|███████████████████████████████████████████| 4/4 [00:00<00:00, 3213.41it/s]\n",
      "100%|███████████████████████████████████████████| 4/4 [00:00<00:00, 3051.51it/s]\n",
      "100%|███████████████████████████████████████████| 4/4 [00:00<00:00, 2555.55it/s]\n",
      "100%|███████████████████████████████████████████| 4/4 [00:00<00:00, 3098.29it/s]\n",
      "100%|███████████████████████████████████████████| 4/4 [00:00<00:00, 3289.65it/s]\n",
      "100%|███████████████████████████████████████████| 4/4 [00:00<00:00, 2540.08it/s]\n",
      "100%|███████████████████████████████████████████| 4/4 [00:00<00:00, 3352.09it/s]\n",
      "100%|███████████████████████████████████████████| 4/4 [00:00<00:00, 2994.33it/s]\n",
      "100%|███████████████████████████████████████████| 4/4 [00:00<00:00, 2850.84it/s]\n",
      "100%|███████████████████████████████████████████| 4/4 [00:00<00:00, 2549.34it/s]\n",
      "100%|███████████████████████████████████████████| 4/4 [00:00<00:00, 3347.41it/s]\n",
      "100%|███████████████████████████████████████████| 4/4 [00:00<00:00, 2600.72it/s]\n",
      "100%|███████████████████████████████████████████| 5/5 [00:00<00:00, 3206.65it/s]\n",
      "100%|███████████████████████████████████████████| 4/4 [00:00<00:00, 1526.17it/s]\n",
      "100%|███████████████████████████████████████████| 4/4 [00:00<00:00, 2642.08it/s]\n",
      "100%|███████████████████████████████████████████| 5/5 [00:00<00:00, 3123.09it/s]\n",
      "100%|███████████████████████████████████████████| 4/4 [00:00<00:00, 2978.91it/s]\n",
      "100%|███████████████████████████████████████████| 4/4 [00:00<00:00, 2670.68it/s]\n",
      "100%|███████████████████████████████████████████| 4/4 [00:00<00:00, 3184.74it/s]\n",
      "100%|███████████████████████████████████████████| 5/5 [00:00<00:00, 3061.54it/s]\n",
      "100%|███████████████████████████████████████████| 5/5 [00:00<00:00, 2824.83it/s]\n",
      "100%|███████████████████████████████████████████| 4/4 [00:00<00:00, 3058.19it/s]\n",
      "100%|███████████████████████████████████████████| 4/4 [00:00<00:00, 2899.12it/s]\n",
      "100%|███████████████████████████████████████████| 4/4 [00:00<00:00, 2321.46it/s]\n",
      "100%|███████████████████████████████████████████| 5/5 [00:00<00:00, 2621.77it/s]\n",
      "100%|███████████████████████████████████████████| 6/6 [00:00<00:00, 3438.42it/s]\n",
      "100%|███████████████████████████████████████████| 4/4 [00:00<00:00, 2924.39it/s]\n",
      "100%|███████████████████████████████████████████| 4/4 [00:00<00:00, 2654.20it/s]\n",
      "100%|███████████████████████████████████████████| 4/4 [00:00<00:00, 3012.07it/s]\n",
      "100%|███████████████████████████████████████████| 4/4 [00:00<00:00, 2245.95it/s]\n",
      "100%|███████████████████████████████████████████| 4/4 [00:00<00:00, 2482.94it/s]\n",
      "100%|███████████████████████████████████████████| 4/4 [00:00<00:00, 2612.46it/s]\n",
      "100%|███████████████████████████████████████████| 5/5 [00:00<00:00, 2332.24it/s]\n",
      "100%|███████████████████████████████████████████| 4/4 [00:00<00:00, 2159.51it/s]\n",
      "100%|███████████████████████████████████████████| 4/4 [00:00<00:00, 2124.51it/s]\n",
      "100%|███████████████████████████████████████████| 5/5 [00:00<00:00, 2430.35it/s]\n",
      "100%|███████████████████████████████████████████| 4/4 [00:00<00:00, 2797.14it/s]\n",
      "100%|███████████████████████████████████████████| 5/5 [00:00<00:00, 2679.72it/s]\n",
      "100%|███████████████████████████████████████████| 6/6 [00:00<00:00, 2707.46it/s]\n",
      "100%|███████████████████████████████████████████| 4/4 [00:00<00:00, 2528.21it/s]\n",
      "100%|███████████████████████████████████████████| 4/4 [00:00<00:00, 2489.20it/s]\n",
      "100%|███████████████████████████████████████████| 4/4 [00:00<00:00, 2848.42it/s]\n",
      "100%|███████████████████████████████████████████| 5/5 [00:00<00:00, 2143.01it/s]\n",
      "100%|███████████████████████████████████████████| 4/4 [00:00<00:00, 2222.44it/s]\n",
      "100%|███████████████████████████████████████████| 4/4 [00:00<00:00, 3119.60it/s]\n",
      "100%|███████████████████████████████████████████| 5/5 [00:00<00:00, 2927.35it/s]\n",
      "100%|███████████████████████████████████████████| 4/4 [00:00<00:00, 2587.08it/s]\n",
      "100%|███████████████████████████████████████████| 4/4 [00:00<00:00, 2922.35it/s]\n",
      "100%|███████████████████████████████████████████| 5/5 [00:00<00:00, 2885.46it/s]\n",
      "100%|███████████████████████████████████████████| 4/4 [00:00<00:00, 2691.68it/s]\n",
      "100%|███████████████████████████████████████████| 4/4 [00:00<00:00, 2515.70it/s]\n",
      "100%|███████████████████████████████████████████| 4/4 [00:00<00:00, 2353.05it/s]\n",
      "100%|███████████████████████████████████████████| 4/4 [00:00<00:00, 1404.89it/s]\n",
      "100%|███████████████████████████████████████████| 4/4 [00:00<00:00, 2715.64it/s]\n",
      "100%|███████████████████████████████████████████| 4/4 [00:00<00:00, 2302.35it/s]\n",
      "100%|███████████████████████████████████████████| 4/4 [00:00<00:00, 2177.45it/s]\n",
      "100%|███████████████████████████████████████████| 4/4 [00:00<00:00, 2996.47it/s]\n",
      "100%|███████████████████████████████████████████| 4/4 [00:00<00:00, 2384.14it/s]\n",
      "100%|███████████████████████████████████████████| 4/4 [00:00<00:00, 3016.94it/s]\n",
      "100%|███████████████████████████████████████████| 5/5 [00:00<00:00, 2962.08it/s]\n",
      "100%|███████████████████████████████████████████| 5/5 [00:00<00:00, 2901.83it/s]\n",
      "100%|███████████████████████████████████████████| 4/4 [00:00<00:00, 2602.33it/s]\n",
      "100%|███████████████████████████████████████████| 4/4 [00:00<00:00, 2638.76it/s]\n",
      "100%|███████████████████████████████████████████| 5/5 [00:00<00:00, 2821.79it/s]\n",
      "100%|███████████████████████████████████████████| 5/5 [00:00<00:00, 2877.94it/s]\n",
      "100%|███████████████████████████████████████████| 5/5 [00:00<00:00, 2689.69it/s]\n",
      "100%|███████████████████████████████████████████| 4/4 [00:00<00:00, 2288.22it/s]\n",
      "100%|███████████████████████████████████████████| 5/5 [00:00<00:00, 2807.43it/s]\n",
      "100%|███████████████████████████████████████████| 4/4 [00:00<00:00, 2732.45it/s]\n",
      "100%|███████████████████████████████████████████| 4/4 [00:00<00:00, 2840.71it/s]\n",
      "100%|███████████████████████████████████████████| 5/5 [00:00<00:00, 2429.23it/s]\n",
      "100%|███████████████████████████████████████████| 4/4 [00:00<00:00, 2875.77it/s]\n",
      "100%|███████████████████████████████████████████| 4/4 [00:00<00:00, 2697.30it/s]\n",
      "100%|███████████████████████████████████████████| 4/4 [00:00<00:00, 2587.48it/s]\n",
      "100%|███████████████████████████████████████████| 4/4 [00:00<00:00, 2917.78it/s]\n",
      "100%|███████████████████████████████████████████| 4/4 [00:00<00:00, 2921.84it/s]\n",
      "100%|███████████████████████████████████████████| 4/4 [00:00<00:00, 3069.94it/s]\n",
      "100%|███████████████████████████████████████████| 4/4 [00:00<00:00, 2728.45it/s]\n",
      "100%|███████████████████████████████████████████| 4/4 [00:00<00:00, 2330.82it/s]\n",
      "100%|███████████████████████████████████████████| 4/4 [00:00<00:00, 2679.21it/s]\n",
      "100%|███████████████████████████████████████████| 4/4 [00:00<00:00, 2266.27it/s]\n",
      "100%|███████████████████████████████████████████| 5/5 [00:00<00:00, 2917.17it/s]\n",
      "100%|███████████████████████████████████████████| 5/5 [00:00<00:00, 2756.15it/s]\n",
      "100%|███████████████████████████████████████████| 4/4 [00:00<00:00, 2645.83it/s]\n",
      "100%|███████████████████████████████████████████| 5/5 [00:00<00:00, 2997.22it/s]\n",
      "100%|███████████████████████████████████████████| 4/4 [00:00<00:00, 2233.39it/s]\n",
      "100%|███████████████████████████████████████████| 4/4 [00:00<00:00, 2753.07it/s]\n",
      "100%|███████████████████████████████████████████| 4/4 [00:00<00:00, 2488.83it/s]\n",
      "100%|███████████████████████████████████████████| 4/4 [00:00<00:00, 2469.42it/s]\n",
      "100%|███████████████████████████████████████████| 4/4 [00:00<00:00, 2287.28it/s]\n",
      "100%|███████████████████████████████████████████| 4/4 [00:00<00:00, 2251.07it/s]\n",
      "100%|███████████████████████████████████████████| 4/4 [00:00<00:00, 2263.83it/s]\n",
      "100%|█████████████████████████████████████| 9157/9157 [00:06<00:00, 1498.11it/s]\n"
     ]
    }
   ],
   "source": [
    "vest_base = do_smart_repair(vest_base, min_rook_length = 30.5)"
   ]
  },
  {
   "cell_type": "code",
   "execution_count": 31,
   "metadata": {},
   "outputs": [
    {
     "name": "stderr",
     "output_type": "stream",
     "text": [
      "100%|█████████████████████████████████████| 9157/9157 [00:05<00:00, 1827.48it/s]\n"
     ]
    },
    {
     "data": {
      "text/plain": [
       "True"
      ]
     },
     "execution_count": 31,
     "metadata": {},
     "output_type": "execute_result"
    }
   ],
   "source": [
    "\n",
    "maup.doctor(vest_base)"
   ]
  },
  {
   "cell_type": "code",
   "execution_count": 32,
   "metadata": {},
   "outputs": [
    {
     "name": "stderr",
     "output_type": "stream",
     "text": [
      "100%|█████████████████████████████████████| 9157/9157 [00:07<00:00, 1266.55it/s]\n",
      "100%|██████████████████████████████████████| 9157/9157 [00:24<00:00, 372.28it/s]\n"
     ]
    }
   ],
   "source": [
    "# vap and population have the same GEOID20\n",
    "blocks_to_precincts_assignment = maup.assign(population_df.geometry, vest_base.geometry)"
   ]
  },
  {
   "cell_type": "code",
   "execution_count": 33,
   "metadata": {},
   "outputs": [
    {
     "name": "stderr",
     "output_type": "stream",
     "text": [
      "100%|█████████████████████████████████████| 9157/9157 [00:06<00:00, 1329.95it/s]\n",
      "100%|██████████████████████████████████████| 9157/9157 [00:23<00:00, 385.95it/s]\n"
     ]
    }
   ],
   "source": [
    "# vap and population have the same GEOID20\n",
    "blocks_to_precincts_assignment = maup.assign(population_df.geometry, vest_base.geometry)"
   ]
  },
  {
   "cell_type": "code",
   "execution_count": 34,
   "metadata": {},
   "outputs": [],
   "source": [
    "vest_base[pop_col] = population_df[pop_col].groupby(blocks_to_precincts_assignment).sum()"
   ]
  },
  {
   "cell_type": "code",
   "execution_count": 35,
   "metadata": {},
   "outputs": [],
   "source": [
    "election_df = gpd.GeoDataFrame(vest_base)"
   ]
  },
  {
   "cell_type": "code",
   "execution_count": 36,
   "metadata": {},
   "outputs": [
    {
     "data": {
      "text/plain": [
       "Index(['ATG20D', 'ATG20O', 'ATG20R', 'AUD20D', 'AUD20O', 'AUD20R', 'COUNTYFP',\n",
       "       'MCD', 'NAME', 'PRE20D', 'PRE20O', 'PRE20R', 'PRECINCT', 'STATEFP',\n",
       "       'TRE20D', 'TRE20O', 'TRE20R', 'TYPE', 'geometry', 'TOTPOP', 'HISP',\n",
       "       'NH_WHITE', 'NH_BLACK', 'NH_AMIN', 'NH_ASIAN', 'NH_NHPI', 'NH_OTHER',\n",
       "       'NH_2MORE', 'H_WHITE', 'H_BLACK', 'H_AMIN', 'H_ASIAN', 'H_NHPI',\n",
       "       'H_OTHER', 'H_2MORE', 'VAP', 'HVAP', 'WVAP', 'BVAP', 'AMINVAP',\n",
       "       'ASIANVAP', 'NHPIVAP', 'OTHERVAP', '2MOREVAP'],\n",
       "      dtype='object')"
      ]
     },
     "execution_count": 36,
     "metadata": {},
     "output_type": "execute_result"
    }
   ],
   "source": [
    "election_df.columns"
   ]
  },
  {
   "cell_type": "markdown",
   "metadata": {},
   "source": [
    "## Check if Population Agrees"
   ]
  },
  {
   "cell_type": "code",
   "execution_count": 38,
   "metadata": {},
   "outputs": [
    {
     "name": "stdout",
     "output_type": "stream",
     "text": [
      "population agrees\n"
     ]
    }
   ],
   "source": [
    "check_population(population_df, vest_base)"
   ]
  },
  {
   "cell_type": "code",
   "execution_count": 39,
   "metadata": {},
   "outputs": [],
   "source": [
    "vest18 = gpd.read_file(vest18_data)"
   ]
  },
  {
   "cell_type": "code",
   "execution_count": 40,
   "metadata": {},
   "outputs": [
    {
     "data": {
      "text/plain": [
       "Index(['STATEFP', 'COUNTYFP', 'MCD', 'TYPE', 'PRECINCT', 'NAME', 'G18USSRBAR',\n",
       "       'G18USSDCAS', 'G18USSLKER', 'G18USSGGAL', 'G18GOVRWAG', 'G18GOVDWOL',\n",
       "       'G18GOVLKRA', 'G18GOVGGLO', 'geometry'],\n",
       "      dtype='object')"
      ]
     },
     "execution_count": 40,
     "metadata": {},
     "output_type": "execute_result"
    }
   ],
   "source": [
    "vest18.columns"
   ]
  },
  {
   "cell_type": "code",
   "execution_count": 41,
   "metadata": {},
   "outputs": [],
   "source": [
    "start_col = 6\n",
    "vest_base_data = vest18"
   ]
  },
  {
   "cell_type": "code",
   "execution_count": 42,
   "metadata": {},
   "outputs": [
    {
     "name": "stderr",
     "output_type": "stream",
     "text": [
      "100%|█████████████████████████████████████| 9160/9160 [00:05<00:00, 1746.68it/s]\n"
     ]
    },
    {
     "name": "stdout",
     "output_type": "stream",
     "text": [
      "There are 291 overlaps.\n",
      "There are 29 holes.\n",
      "Snapping all geometries to a grid with precision 10^( -5 ) to avoid GEOS errors.\n",
      "Identifying overlaps...\n"
     ]
    },
    {
     "name": "stderr",
     "output_type": "stream",
     "text": [
      "100%|█████████████████████████████████████| 9505/9505 [00:02<00:00, 4205.52it/s]\n"
     ]
    },
    {
     "name": "stdout",
     "output_type": "stream",
     "text": [
      "Resolving overlaps...\n",
      "Assigning order 2 pieces...\n",
      "Assigning order 3 pieces...\n",
      "Filling gaps...\n"
     ]
    },
    {
     "name": "stderr",
     "output_type": "stream",
     "text": [
      "Gaps to simplify: 100%|█████████████████████████| 54/54 [01:27<00:00,  1.63s/it]\n",
      "Gaps to fill: 100%|█████████████████████████████| 22/22 [00:35<00:00,  1.63s/it]\n",
      "100%|█████████████████████████████████████| 9160/9160 [00:04<00:00, 1839.62it/s]\n",
      "100%|█████████████████████████████████████| 9160/9160 [00:07<00:00, 1192.79it/s]\n",
      "100%|██████████████████████████████████████| 9160/9160 [00:24<00:00, 374.52it/s]\n",
      "100%|█████████████████████████████████████| 9157/9157 [00:07<00:00, 1214.23it/s]\n",
      "100%|██████████████████████████████████████| 9157/9157 [00:26<00:00, 351.04it/s]\n"
     ]
    },
    {
     "name": "stdout",
     "output_type": "stream",
     "text": [
      "population agrees\n"
     ]
    }
   ],
   "source": [
    "election_df = add_vest(vest18, election_df, '18', population_df, start_col)"
   ]
  },
  {
   "cell_type": "code",
   "execution_count": 43,
   "metadata": {},
   "outputs": [
    {
     "data": {
      "text/plain": [
       "Index(['2MOREVAP', 'AMINVAP', 'ASIANVAP', 'ATG20D', 'ATG20O', 'ATG20R',\n",
       "       'AUD20D', 'AUD20O', 'AUD20R', 'BVAP', 'COUNTYFP', 'GOV18D', 'GOV18O',\n",
       "       'GOV18R', 'HISP', 'HVAP', 'H_2MORE', 'H_AMIN', 'H_ASIAN', 'H_BLACK',\n",
       "       'H_NHPI', 'H_OTHER', 'H_WHITE', 'MCD', 'NAME', 'NHPIVAP', 'NH_2MORE',\n",
       "       'NH_AMIN', 'NH_ASIAN', 'NH_BLACK', 'NH_NHPI', 'NH_OTHER', 'NH_WHITE',\n",
       "       'OTHERVAP', 'PRE20D', 'PRE20O', 'PRE20R', 'PRECINCT', 'STATEFP',\n",
       "       'TOTPOP', 'TRE20D', 'TRE20O', 'TRE20R', 'TYPE', 'USS18D', 'USS18O',\n",
       "       'USS18R', 'VAP', 'WVAP', 'geometry'],\n",
       "      dtype='object')"
      ]
     },
     "execution_count": 43,
     "metadata": {},
     "output_type": "execute_result"
    }
   ],
   "source": [
    "election_df.columns"
   ]
  },
  {
   "cell_type": "code",
   "execution_count": 44,
   "metadata": {},
   "outputs": [],
   "source": [
    "vest16 = gpd.read_file(vest16_data)"
   ]
  },
  {
   "cell_type": "code",
   "execution_count": 45,
   "metadata": {},
   "outputs": [
    {
     "data": {
      "text/plain": [
       "Index(['STATEFP', 'COUNTYFP', 'MCD', 'TYPE', 'PRECINCT', 'NAME', 'G16PRERTRU',\n",
       "       'G16PREDCLI', 'G16PRELJOH', 'G16PREGSTE', 'G16PRECCAS', 'G16USSRTOO',\n",
       "       'G16USSDMCG', 'G16USSLCLI', 'G16ATGRRAF', 'G16ATGDSHA', 'G16AUDRBRO',\n",
       "       'G16AUDDDEP', 'G16AUDLMIN', 'G16AUDGSWE', 'G16TRERVOI', 'G16TREDTOR',\n",
       "       'G16TRELBAB', 'G16TREGCOM', 'geometry'],\n",
       "      dtype='object')"
      ]
     },
     "execution_count": 45,
     "metadata": {},
     "output_type": "execute_result"
    }
   ],
   "source": [
    "vest16.columns"
   ]
  },
  {
   "cell_type": "code",
   "execution_count": 46,
   "metadata": {},
   "outputs": [
    {
     "name": "stderr",
     "output_type": "stream",
     "text": [
      "100%|█████████████████████████████████████| 9166/9166 [00:05<00:00, 1601.31it/s]\n"
     ]
    },
    {
     "name": "stdout",
     "output_type": "stream",
     "text": [
      "There are 301 overlaps.\n",
      "There are 29 holes.\n",
      "Snapping all geometries to a grid with precision 10^( -5 ) to avoid GEOS errors.\n",
      "Identifying overlaps...\n"
     ]
    },
    {
     "name": "stderr",
     "output_type": "stream",
     "text": [
      "100%|█████████████████████████████████████| 9515/9515 [00:02<00:00, 3931.35it/s]\n"
     ]
    },
    {
     "name": "stdout",
     "output_type": "stream",
     "text": [
      "Resolving overlaps...\n",
      "Assigning order 2 pieces...\n",
      "Assigning order 3 pieces...\n",
      "Filling gaps...\n"
     ]
    },
    {
     "name": "stderr",
     "output_type": "stream",
     "text": [
      "Gaps to simplify: 100%|█████████████████████████| 54/54 [01:29<00:00,  1.65s/it]\n",
      "Gaps to fill: 100%|█████████████████████████████| 22/22 [00:36<00:00,  1.64s/it]\n",
      "100%|█████████████████████████████████████| 9166/9166 [00:05<00:00, 1825.73it/s]\n",
      "100%|█████████████████████████████████████| 9166/9166 [00:07<00:00, 1299.67it/s]\n",
      "100%|██████████████████████████████████████| 9166/9166 [00:24<00:00, 373.27it/s]\n",
      "100%|█████████████████████████████████████| 9157/9157 [00:06<00:00, 1337.24it/s]\n",
      "100%|██████████████████████████████████████| 9157/9157 [00:23<00:00, 386.57it/s]\n"
     ]
    },
    {
     "name": "stdout",
     "output_type": "stream",
     "text": [
      "population agrees\n"
     ]
    }
   ],
   "source": [
    "election_df = add_vest(vest16, election_df, '16', population_df, 6)"
   ]
  },
  {
   "cell_type": "markdown",
   "metadata": {},
   "source": [
    "##  Add the district data"
   ]
  },
  {
   "cell_type": "code",
   "execution_count": 48,
   "metadata": {},
   "outputs": [],
   "source": [
    "cong_df = gpd.read_file(cd_data)\n",
    "cong_df = cong_df.to_crs(cong_df.estimate_utm_crs())\n",
    "send = gpd.read_file(send_data)\n",
    "send = send.to_crs(send.estimate_utm_crs())\n",
    "hdist = gpd.read_file(hdist_data)\n",
    "hdist = hdist.to_crs(hdist.estimate_utm_crs())"
   ]
  },
  {
   "cell_type": "code",
   "execution_count": 49,
   "metadata": {},
   "outputs": [
    {
     "data": {
      "text/html": [
       "<div>\n",
       "<style scoped>\n",
       "    .dataframe tbody tr th:only-of-type {\n",
       "        vertical-align: middle;\n",
       "    }\n",
       "\n",
       "    .dataframe tbody tr th {\n",
       "        vertical-align: top;\n",
       "    }\n",
       "\n",
       "    .dataframe thead th {\n",
       "        text-align: right;\n",
       "    }\n",
       "</style>\n",
       "<table border=\"1\" class=\"dataframe\">\n",
       "  <thead>\n",
       "    <tr style=\"text-align: right;\">\n",
       "      <th></th>\n",
       "      <th>ID</th>\n",
       "      <th>AREA</th>\n",
       "      <th>DISTRICT</th>\n",
       "      <th>geometry</th>\n",
       "    </tr>\n",
       "  </thead>\n",
       "  <tbody>\n",
       "    <tr>\n",
       "      <th>0</th>\n",
       "      <td>2</td>\n",
       "      <td>67.39</td>\n",
       "      <td>2</td>\n",
       "      <td>POLYGON ((502219.399 4433151.135, 501924.857 4...</td>\n",
       "    </tr>\n",
       "    <tr>\n",
       "      <th>1</th>\n",
       "      <td>3</td>\n",
       "      <td>2836.43</td>\n",
       "      <td>8</td>\n",
       "      <td>POLYGON ((472269.989 4646522.845, 472304.971 4...</td>\n",
       "    </tr>\n",
       "    <tr>\n",
       "      <th>2</th>\n",
       "      <td>5</td>\n",
       "      <td>1183.00</td>\n",
       "      <td>7</td>\n",
       "      <td>POLYGON ((450008.636 4481719.177, 449840.585 4...</td>\n",
       "    </tr>\n",
       "    <tr>\n",
       "      <th>3</th>\n",
       "      <td>8</td>\n",
       "      <td>54.74</td>\n",
       "      <td>3</td>\n",
       "      <td>POLYGON ((481165.177 4428218.280, 481287.767 4...</td>\n",
       "    </tr>\n",
       "    <tr>\n",
       "      <th>4</th>\n",
       "      <td>10</td>\n",
       "      <td>717.30</td>\n",
       "      <td>1</td>\n",
       "      <td>POLYGON ((483351.034 4495325.819, 483359.048 4...</td>\n",
       "    </tr>\n",
       "  </tbody>\n",
       "</table>\n",
       "</div>"
      ],
      "text/plain": [
       "   ID     AREA DISTRICT                                           geometry\n",
       "0   2    67.39        2  POLYGON ((502219.399 4433151.135, 501924.857 4...\n",
       "1   3  2836.43        8  POLYGON ((472269.989 4646522.845, 472304.971 4...\n",
       "2   5  1183.00        7  POLYGON ((450008.636 4481719.177, 449840.585 4...\n",
       "3   8    54.74        3  POLYGON ((481165.177 4428218.280, 481287.767 4...\n",
       "4  10   717.30        1  POLYGON ((483351.034 4495325.819, 483359.048 4..."
      ]
     },
     "execution_count": 49,
     "metadata": {},
     "output_type": "execute_result"
    }
   ],
   "source": [
    "cong_df.head()"
   ]
  },
  {
   "cell_type": "code",
   "execution_count": 50,
   "metadata": {},
   "outputs": [
    {
     "name": "stderr",
     "output_type": "stream",
     "text": [
      "100%|██████████████████████████████████████████| 17/17 [00:00<00:00, 109.42it/s]\n",
      "100%|███████████████████████████████████████████| 17/17 [00:00<00:00, 91.01it/s]\n",
      "100%|███████████████████████████████████████████| 17/17 [00:01<00:00, 12.37it/s]\n"
     ]
    }
   ],
   "source": [
    "election_df = add_district(cong_df, \"CD\", election_df, \"DISTRICT\")"
   ]
  },
  {
   "cell_type": "code",
   "execution_count": 51,
   "metadata": {},
   "outputs": [
    {
     "data": {
      "text/html": [
       "<div>\n",
       "<style scoped>\n",
       "    .dataframe tbody tr th:only-of-type {\n",
       "        vertical-align: middle;\n",
       "    }\n",
       "\n",
       "    .dataframe tbody tr th {\n",
       "        vertical-align: top;\n",
       "    }\n",
       "\n",
       "    .dataframe thead th {\n",
       "        text-align: right;\n",
       "    }\n",
       "</style>\n",
       "<table border=\"1\" class=\"dataframe\">\n",
       "  <thead>\n",
       "    <tr style=\"text-align: right;\">\n",
       "      <th></th>\n",
       "      <th>ID</th>\n",
       "      <th>AREA</th>\n",
       "      <th>DISTRICT</th>\n",
       "      <th>MEMBERS</th>\n",
       "      <th>LOCKED</th>\n",
       "      <th>NAME</th>\n",
       "      <th>ADJ_POPULA</th>\n",
       "      <th>ADJ_NH_WHT</th>\n",
       "      <th>ADJ_NH_BLK</th>\n",
       "      <th>ADJ_NH_IND</th>\n",
       "      <th>...</th>\n",
       "      <th>F_ADJ_NH18</th>\n",
       "      <th>F_ADJ_NH11</th>\n",
       "      <th>F_ADJ_NH12</th>\n",
       "      <th>F_ADJ_NH13</th>\n",
       "      <th>F_ADJ_NH14</th>\n",
       "      <th>F_ADJ_NH15</th>\n",
       "      <th>F_ADJ_NH16</th>\n",
       "      <th>F_ADJ_H18_</th>\n",
       "      <th>DISTRICT_L</th>\n",
       "      <th>geometry</th>\n",
       "    </tr>\n",
       "  </thead>\n",
       "  <tbody>\n",
       "    <tr>\n",
       "      <th>0</th>\n",
       "      <td>1</td>\n",
       "      <td>26.593678</td>\n",
       "      <td>1</td>\n",
       "      <td>1.0</td>\n",
       "      <td>Y</td>\n",
       "      <td>None</td>\n",
       "      <td>250243</td>\n",
       "      <td>160098</td>\n",
       "      <td>20752</td>\n",
       "      <td>240</td>\n",
       "      <td>...</td>\n",
       "      <td>0.665370</td>\n",
       "      <td>0.081346</td>\n",
       "      <td>0.000853</td>\n",
       "      <td>0.128803</td>\n",
       "      <td>0.000216</td>\n",
       "      <td>0.005139</td>\n",
       "      <td>0.030306</td>\n",
       "      <td>0.087967</td>\n",
       "      <td>1|-3.77%</td>\n",
       "      <td>POLYGON ((492001.708 4424915.081, 491770.593 4...</td>\n",
       "    </tr>\n",
       "    <tr>\n",
       "      <th>1</th>\n",
       "      <td>2</td>\n",
       "      <td>227.877075</td>\n",
       "      <td>10</td>\n",
       "      <td>1.0</td>\n",
       "      <td>Y</td>\n",
       "      <td>None</td>\n",
       "      <td>269925</td>\n",
       "      <td>214251</td>\n",
       "      <td>13538</td>\n",
       "      <td>202</td>\n",
       "      <td>...</td>\n",
       "      <td>0.819453</td>\n",
       "      <td>0.047707</td>\n",
       "      <td>0.000803</td>\n",
       "      <td>0.046760</td>\n",
       "      <td>0.000163</td>\n",
       "      <td>0.003691</td>\n",
       "      <td>0.027043</td>\n",
       "      <td>0.054380</td>\n",
       "      <td>10|3.8%</td>\n",
       "      <td>POLYGON ((477532.399 4459627.510, 477637.665 4...</td>\n",
       "    </tr>\n",
       "    <tr>\n",
       "      <th>2</th>\n",
       "      <td>3</td>\n",
       "      <td>204.734299</td>\n",
       "      <td>11</td>\n",
       "      <td>1.0</td>\n",
       "      <td>Y</td>\n",
       "      <td>None</td>\n",
       "      <td>263931</td>\n",
       "      <td>144950</td>\n",
       "      <td>15107</td>\n",
       "      <td>291</td>\n",
       "      <td>...</td>\n",
       "      <td>0.602257</td>\n",
       "      <td>0.058512</td>\n",
       "      <td>0.001000</td>\n",
       "      <td>0.017471</td>\n",
       "      <td>0.000153</td>\n",
       "      <td>0.003015</td>\n",
       "      <td>0.021855</td>\n",
       "      <td>0.295737</td>\n",
       "      <td>11|1.49%</td>\n",
       "      <td>POLYGON ((437418.391 4492390.823, 437536.441 4...</td>\n",
       "    </tr>\n",
       "    <tr>\n",
       "      <th>3</th>\n",
       "      <td>4</td>\n",
       "      <td>145.972626</td>\n",
       "      <td>12</td>\n",
       "      <td>1.0</td>\n",
       "      <td>Y</td>\n",
       "      <td>None</td>\n",
       "      <td>263688</td>\n",
       "      <td>196324</td>\n",
       "      <td>14613</td>\n",
       "      <td>227</td>\n",
       "      <td>...</td>\n",
       "      <td>0.768420</td>\n",
       "      <td>0.053581</td>\n",
       "      <td>0.000898</td>\n",
       "      <td>0.106883</td>\n",
       "      <td>0.000192</td>\n",
       "      <td>0.003035</td>\n",
       "      <td>0.023236</td>\n",
       "      <td>0.043754</td>\n",
       "      <td>12|1.4%</td>\n",
       "      <td>POLYGON ((465849.524 4468860.385, 465872.860 4...</td>\n",
       "    </tr>\n",
       "    <tr>\n",
       "      <th>4</th>\n",
       "      <td>5</td>\n",
       "      <td>606.769287</td>\n",
       "      <td>13</td>\n",
       "      <td>1.0</td>\n",
       "      <td>Y</td>\n",
       "      <td>None</td>\n",
       "      <td>262878</td>\n",
       "      <td>194884</td>\n",
       "      <td>13165</td>\n",
       "      <td>274</td>\n",
       "      <td>...</td>\n",
       "      <td>0.764510</td>\n",
       "      <td>0.049672</td>\n",
       "      <td>0.001153</td>\n",
       "      <td>0.023455</td>\n",
       "      <td>0.000160</td>\n",
       "      <td>0.003139</td>\n",
       "      <td>0.021976</td>\n",
       "      <td>0.135935</td>\n",
       "      <td>13|1.09%</td>\n",
       "      <td>POLYGON ((415839.022 4421326.004, 415844.569 4...</td>\n",
       "    </tr>\n",
       "  </tbody>\n",
       "</table>\n",
       "<p>5 rows × 49 columns</p>\n",
       "</div>"
      ],
      "text/plain": [
       "   ID        AREA DISTRICT  MEMBERS LOCKED  NAME  ADJ_POPULA  ADJ_NH_WHT  \\\n",
       "0   1   26.593678        1      1.0      Y  None      250243      160098   \n",
       "1   2  227.877075       10      1.0      Y  None      269925      214251   \n",
       "2   3  204.734299       11      1.0      Y  None      263931      144950   \n",
       "3   4  145.972626       12      1.0      Y  None      263688      196324   \n",
       "4   5  606.769287       13      1.0      Y  None      262878      194884   \n",
       "\n",
       "   ADJ_NH_BLK  ADJ_NH_IND  ...  F_ADJ_NH18  F_ADJ_NH11  F_ADJ_NH12  \\\n",
       "0       20752         240  ...    0.665370    0.081346    0.000853   \n",
       "1       13538         202  ...    0.819453    0.047707    0.000803   \n",
       "2       15107         291  ...    0.602257    0.058512    0.001000   \n",
       "3       14613         227  ...    0.768420    0.053581    0.000898   \n",
       "4       13165         274  ...    0.764510    0.049672    0.001153   \n",
       "\n",
       "   F_ADJ_NH13  F_ADJ_NH14  F_ADJ_NH15  F_ADJ_NH16  F_ADJ_H18_  DISTRICT_L  \\\n",
       "0    0.128803    0.000216    0.005139    0.030306    0.087967    1|-3.77%   \n",
       "1    0.046760    0.000163    0.003691    0.027043    0.054380     10|3.8%   \n",
       "2    0.017471    0.000153    0.003015    0.021855    0.295737    11|1.49%   \n",
       "3    0.106883    0.000192    0.003035    0.023236    0.043754     12|1.4%   \n",
       "4    0.023455    0.000160    0.003139    0.021976    0.135935    13|1.09%   \n",
       "\n",
       "                                            geometry  \n",
       "0  POLYGON ((492001.708 4424915.081, 491770.593 4...  \n",
       "1  POLYGON ((477532.399 4459627.510, 477637.665 4...  \n",
       "2  POLYGON ((437418.391 4492390.823, 437536.441 4...  \n",
       "3  POLYGON ((465849.524 4468860.385, 465872.860 4...  \n",
       "4  POLYGON ((415839.022 4421326.004, 415844.569 4...  \n",
       "\n",
       "[5 rows x 49 columns]"
      ]
     },
     "execution_count": 51,
     "metadata": {},
     "output_type": "execute_result"
    }
   ],
   "source": [
    "send.head()"
   ]
  },
  {
   "cell_type": "code",
   "execution_count": 52,
   "metadata": {},
   "outputs": [
    {
     "name": "stderr",
     "output_type": "stream",
     "text": [
      "100%|██████████████████████████████████████████| 50/50 [00:00<00:00, 200.83it/s]\n",
      "100%|██████████████████████████████████████████| 50/50 [00:00<00:00, 259.91it/s]\n",
      "100%|███████████████████████████████████████████| 50/50 [00:01<00:00, 31.24it/s]\n"
     ]
    }
   ],
   "source": [
    "election_df = add_district(send, \"SEND\", election_df, \"DISTRICT\")"
   ]
  },
  {
   "cell_type": "code",
   "execution_count": 53,
   "metadata": {},
   "outputs": [
    {
     "data": {
      "text/html": [
       "<div>\n",
       "<style scoped>\n",
       "    .dataframe tbody tr th:only-of-type {\n",
       "        vertical-align: middle;\n",
       "    }\n",
       "\n",
       "    .dataframe tbody tr th {\n",
       "        vertical-align: top;\n",
       "    }\n",
       "\n",
       "    .dataframe thead th {\n",
       "        text-align: right;\n",
       "    }\n",
       "</style>\n",
       "<table border=\"1\" class=\"dataframe\">\n",
       "  <thead>\n",
       "    <tr style=\"text-align: right;\">\n",
       "      <th></th>\n",
       "      <th>ID</th>\n",
       "      <th>AREA</th>\n",
       "      <th>DISTRICT</th>\n",
       "      <th>MEMBERS</th>\n",
       "      <th>LOCKED</th>\n",
       "      <th>NAME</th>\n",
       "      <th>ADJ_POPULA</th>\n",
       "      <th>ADJ_NH_WHT</th>\n",
       "      <th>ADJ_NH_BLK</th>\n",
       "      <th>ADJ_NH_IND</th>\n",
       "      <th>...</th>\n",
       "      <th>F_ADJ_NH11</th>\n",
       "      <th>F_ADJ_NH12</th>\n",
       "      <th>F_ADJ_NH13</th>\n",
       "      <th>F_ADJ_NH14</th>\n",
       "      <th>F_ADJ_NH15</th>\n",
       "      <th>F_ADJ_NH16</th>\n",
       "      <th>F_ADJ_H18_</th>\n",
       "      <th>DISTRICT_N</th>\n",
       "      <th>DISTRICT_L</th>\n",
       "      <th>geometry</th>\n",
       "    </tr>\n",
       "  </thead>\n",
       "  <tbody>\n",
       "    <tr>\n",
       "      <th>0</th>\n",
       "      <td>1</td>\n",
       "      <td>766.475586</td>\n",
       "      <td>1</td>\n",
       "      <td>1.0</td>\n",
       "      <td>Y</td>\n",
       "      <td>None</td>\n",
       "      <td>65227</td>\n",
       "      <td>42592</td>\n",
       "      <td>10660</td>\n",
       "      <td>97</td>\n",
       "      <td>...</td>\n",
       "      <td>0.143063</td>\n",
       "      <td>0.001576</td>\n",
       "      <td>0.029188</td>\n",
       "      <td>0.000414</td>\n",
       "      <td>0.005258</td>\n",
       "      <td>0.041300</td>\n",
       "      <td>0.067750</td>\n",
       "      <td>1</td>\n",
       "      <td>1|1.83%</td>\n",
       "      <td>POLYGON ((61425.810 4668741.141, 61402.884 466...</td>\n",
       "    </tr>\n",
       "    <tr>\n",
       "      <th>1</th>\n",
       "      <td>2</td>\n",
       "      <td>2.996813</td>\n",
       "      <td>10</td>\n",
       "      <td>1.0</td>\n",
       "      <td>Y</td>\n",
       "      <td>None</td>\n",
       "      <td>61532</td>\n",
       "      <td>15630</td>\n",
       "      <td>35227</td>\n",
       "      <td>121</td>\n",
       "      <td>...</td>\n",
       "      <td>0.527985</td>\n",
       "      <td>0.001954</td>\n",
       "      <td>0.097049</td>\n",
       "      <td>0.000586</td>\n",
       "      <td>0.004534</td>\n",
       "      <td>0.031171</td>\n",
       "      <td>0.045144</td>\n",
       "      <td>10</td>\n",
       "      <td>10|-3.94%</td>\n",
       "      <td>POLYGON ((479629.944 4422621.752, 479461.489 4...</td>\n",
       "    </tr>\n",
       "    <tr>\n",
       "      <th>2</th>\n",
       "      <td>3</td>\n",
       "      <td>309.422150</td>\n",
       "      <td>100</td>\n",
       "      <td>1.0</td>\n",
       "      <td>Y</td>\n",
       "      <td>None</td>\n",
       "      <td>64207</td>\n",
       "      <td>59347</td>\n",
       "      <td>577</td>\n",
       "      <td>60</td>\n",
       "      <td>...</td>\n",
       "      <td>0.009113</td>\n",
       "      <td>0.001008</td>\n",
       "      <td>0.003461</td>\n",
       "      <td>0.000044</td>\n",
       "      <td>0.001818</td>\n",
       "      <td>0.018993</td>\n",
       "      <td>0.031655</td>\n",
       "      <td>100</td>\n",
       "      <td>100|0.24%</td>\n",
       "      <td>POLYGON ((415839.022 4421326.004, 415844.569 4...</td>\n",
       "    </tr>\n",
       "    <tr>\n",
       "      <th>3</th>\n",
       "      <td>4</td>\n",
       "      <td>70.999825</td>\n",
       "      <td>101</td>\n",
       "      <td>1.0</td>\n",
       "      <td>Y</td>\n",
       "      <td>None</td>\n",
       "      <td>65422</td>\n",
       "      <td>43860</td>\n",
       "      <td>1800</td>\n",
       "      <td>63</td>\n",
       "      <td>...</td>\n",
       "      <td>0.026436</td>\n",
       "      <td>0.001067</td>\n",
       "      <td>0.014601</td>\n",
       "      <td>0.000178</td>\n",
       "      <td>0.002331</td>\n",
       "      <td>0.017031</td>\n",
       "      <td>0.217691</td>\n",
       "      <td>101</td>\n",
       "      <td>101|2.14%</td>\n",
       "      <td>POLYGON ((375252.199 4454138.935, 375232.326 4...</td>\n",
       "    </tr>\n",
       "    <tr>\n",
       "      <th>4</th>\n",
       "      <td>5</td>\n",
       "      <td>247.142853</td>\n",
       "      <td>102</td>\n",
       "      <td>1.0</td>\n",
       "      <td>Y</td>\n",
       "      <td>None</td>\n",
       "      <td>65771</td>\n",
       "      <td>59409</td>\n",
       "      <td>666</td>\n",
       "      <td>54</td>\n",
       "      <td>...</td>\n",
       "      <td>0.009238</td>\n",
       "      <td>0.000935</td>\n",
       "      <td>0.012473</td>\n",
       "      <td>0.000468</td>\n",
       "      <td>0.002865</td>\n",
       "      <td>0.020093</td>\n",
       "      <td>0.037127</td>\n",
       "      <td>102</td>\n",
       "      <td>102|2.68%</td>\n",
       "      <td>POLYGON ((373860.234 4465456.786, 373846.877 4...</td>\n",
       "    </tr>\n",
       "  </tbody>\n",
       "</table>\n",
       "<p>5 rows × 48 columns</p>\n",
       "</div>"
      ],
      "text/plain": [
       "   ID        AREA DISTRICT  MEMBERS LOCKED  NAME  ADJ_POPULA  ADJ_NH_WHT  \\\n",
       "0   1  766.475586        1      1.0      Y  None       65227       42592   \n",
       "1   2    2.996813       10      1.0      Y  None       61532       15630   \n",
       "2   3  309.422150      100      1.0      Y  None       64207       59347   \n",
       "3   4   70.999825      101      1.0      Y  None       65422       43860   \n",
       "4   5  247.142853      102      1.0      Y  None       65771       59409   \n",
       "\n",
       "   ADJ_NH_BLK  ADJ_NH_IND  ...  F_ADJ_NH11  F_ADJ_NH12  F_ADJ_NH13  \\\n",
       "0       10660          97  ...    0.143063    0.001576    0.029188   \n",
       "1       35227         121  ...    0.527985    0.001954    0.097049   \n",
       "2         577          60  ...    0.009113    0.001008    0.003461   \n",
       "3        1800          63  ...    0.026436    0.001067    0.014601   \n",
       "4         666          54  ...    0.009238    0.000935    0.012473   \n",
       "\n",
       "   F_ADJ_NH14  F_ADJ_NH15  F_ADJ_NH16  F_ADJ_H18_  DISTRICT_N  DISTRICT_L  \\\n",
       "0    0.000414    0.005258    0.041300    0.067750           1     1|1.83%   \n",
       "1    0.000586    0.004534    0.031171    0.045144          10   10|-3.94%   \n",
       "2    0.000044    0.001818    0.018993    0.031655         100   100|0.24%   \n",
       "3    0.000178    0.002331    0.017031    0.217691         101   101|2.14%   \n",
       "4    0.000468    0.002865    0.020093    0.037127         102   102|2.68%   \n",
       "\n",
       "                                            geometry  \n",
       "0  POLYGON ((61425.810 4668741.141, 61402.884 466...  \n",
       "1  POLYGON ((479629.944 4422621.752, 479461.489 4...  \n",
       "2  POLYGON ((415839.022 4421326.004, 415844.569 4...  \n",
       "3  POLYGON ((375252.199 4454138.935, 375232.326 4...  \n",
       "4  POLYGON ((373860.234 4465456.786, 373846.877 4...  \n",
       "\n",
       "[5 rows x 48 columns]"
      ]
     },
     "execution_count": 53,
     "metadata": {},
     "output_type": "execute_result"
    }
   ],
   "source": [
    "hdist.head()"
   ]
  },
  {
   "cell_type": "code",
   "execution_count": 54,
   "metadata": {},
   "outputs": [
    {
     "name": "stderr",
     "output_type": "stream",
     "text": [
      "100%|████████████████████████████████████████| 203/203 [00:00<00:00, 353.40it/s]\n",
      "100%|████████████████████████████████████████| 203/203 [00:00<00:00, 853.49it/s]\n",
      "100%|█████████████████████████████████████████| 203/203 [00:02<00:00, 83.58it/s]\n"
     ]
    }
   ],
   "source": [
    "election_df = add_district(hdist, \"HDIST\", election_df, \"DISTRICT\")"
   ]
  },
  {
   "cell_type": "code",
   "execution_count": 55,
   "metadata": {},
   "outputs": [
    {
     "data": {
      "text/plain": [
       "Index(['2MOREVAP', 'AMINVAP', 'ASIANVAP', 'ATG16D', 'ATG16R', 'ATG20D',\n",
       "       'ATG20O', 'ATG20R', 'AUD16D', 'AUD16O', 'AUD16R', 'AUD20D', 'AUD20O',\n",
       "       'AUD20R', 'BVAP', 'COUNTYFP', 'GOV18D', 'GOV18O', 'GOV18R', 'HISP',\n",
       "       'HVAP', 'H_2MORE', 'H_AMIN', 'H_ASIAN', 'H_BLACK', 'H_NHPI', 'H_OTHER',\n",
       "       'H_WHITE', 'MCD', 'NAME', 'NHPIVAP', 'NH_2MORE', 'NH_AMIN', 'NH_ASIAN',\n",
       "       'NH_BLACK', 'NH_NHPI', 'NH_OTHER', 'NH_WHITE', 'OTHERVAP', 'PRE16D',\n",
       "       'PRE16O', 'PRE16R', 'PRE20D', 'PRE20O', 'PRE20R', 'PRECINCT', 'STATEFP',\n",
       "       'TOTPOP', 'TRE16D', 'TRE16O', 'TRE16R', 'TRE20D', 'TRE20O', 'TRE20R',\n",
       "       'TYPE', 'USS16D', 'USS16O', 'USS16R', 'USS18D', 'USS18O', 'USS18R',\n",
       "       'VAP', 'WVAP', 'geometry', 'CD', 'SEND', 'HDIST'],\n",
       "      dtype='object')"
      ]
     },
     "execution_count": 55,
     "metadata": {},
     "output_type": "execute_result"
    }
   ],
   "source": [
    "election_df.columns"
   ]
  },
  {
   "cell_type": "markdown",
   "metadata": {},
   "source": [
    "### Put the base precinct year after the precinct information column"
   ]
  },
  {
   "cell_type": "code",
   "execution_count": 57,
   "metadata": {},
   "outputs": [],
   "source": [
    "base_columns = {}\n",
    "if 'COUNTYFP' + year not in election_df.columns:\n",
    "    base_columns = {\n",
    "        'STATEFP':'STATEFP' + year, \n",
    "        'COUNTYFP':'COUNTYFP' + year, \n",
    "        'MCD':'MCD' + year, \n",
    "        'TYPE':'TYPE' + year, \n",
    "        'PRECINCT':'PRECINCT' + year, \n",
    "        'NAME':'NAME' + year}\n",
    "election_df.rename(columns=base_columns, inplace = True)"
   ]
  },
  {
   "cell_type": "code",
   "execution_count": 58,
   "metadata": {},
   "outputs": [
    {
     "data": {
      "text/plain": [
       "Index(['2MOREVAP', 'AMINVAP', 'ASIANVAP', 'ATG16D', 'ATG16R', 'ATG20D',\n",
       "       'ATG20O', 'ATG20R', 'AUD16D', 'AUD16O', 'AUD16R', 'AUD20D', 'AUD20O',\n",
       "       'AUD20R', 'BVAP', 'COUNTYFP20', 'GOV18D', 'GOV18O', 'GOV18R', 'HISP',\n",
       "       'HVAP', 'H_2MORE', 'H_AMIN', 'H_ASIAN', 'H_BLACK', 'H_NHPI', 'H_OTHER',\n",
       "       'H_WHITE', 'MCD20', 'NAME20', 'NHPIVAP', 'NH_2MORE', 'NH_AMIN',\n",
       "       'NH_ASIAN', 'NH_BLACK', 'NH_NHPI', 'NH_OTHER', 'NH_WHITE', 'OTHERVAP',\n",
       "       'PRE16D', 'PRE16O', 'PRE16R', 'PRE20D', 'PRE20O', 'PRE20R',\n",
       "       'PRECINCT20', 'STATEFP20', 'TOTPOP', 'TRE16D', 'TRE16O', 'TRE16R',\n",
       "       'TRE20D', 'TRE20O', 'TRE20R', 'TYPE20', 'USS16D', 'USS16O', 'USS16R',\n",
       "       'USS18D', 'USS18O', 'USS18R', 'VAP', 'WVAP', 'geometry', 'CD', 'SEND',\n",
       "       'HDIST'],\n",
       "      dtype='object')"
      ]
     },
     "execution_count": 58,
     "metadata": {},
     "output_type": "execute_result"
    }
   ],
   "source": [
    "election_df.columns"
   ]
  },
  {
   "cell_type": "code",
   "execution_count": 59,
   "metadata": {},
   "outputs": [],
   "source": [
    "# reorder the columns\n",
    "fixed_columns = [\n",
    "    'STATEFP' + year, \n",
    "    'COUNTYFP' + year, \n",
    "    'MCD' + year, \n",
    "    'TYPE' + year, \n",
    "    'PRECINCT' + year, \n",
    "    'NAME' + year,\n",
    "    'CD',\n",
    "    'SEND',\n",
    "    'HDIST',\n",
    "    'TOTPOP',\n",
    "    'NH_2MORE',\n",
    "    'NH_AMIN',\n",
    "    'NH_ASIAN',\n",
    "    'NH_BLACK',\n",
    "    'NH_NHPI',\n",
    "    'NH_OTHER',\n",
    "    'NH_WHITE',\n",
    "    'HISP',\n",
    "    'H_AMIN',\n",
    "    'H_ASIAN',\n",
    "    'H_BLACK',\n",
    "    'H_NHPI',\n",
    "    'H_OTHER',\n",
    "    'H_WHITE',\n",
    "    'H_2MORE',\n",
    "    'VAP',\n",
    "    'HVAP',\n",
    "    'WVAP',\n",
    "    'BVAP',\n",
    "    'AMINVAP',\n",
    "    'ASIANVAP',\n",
    "    'NHPIVAP',\n",
    "    'OTHERVAP',\n",
    "    '2MOREVAP']\n",
    "\n",
    "election_columns = [col for col in election_df.columns if col not in fixed_columns]\n",
    "final_col = fixed_columns + election_columns\n",
    "election_df = election_df[final_col]"
   ]
  },
  {
   "cell_type": "code",
   "execution_count": 60,
   "metadata": {},
   "outputs": [],
   "source": [
    "import os\n",
    "\n",
    "# store the result in directory \"il\"\n",
    "directory = \"./{}\".format(state_ab)\n",
    "if not os.path.exists(directory):\n",
    "    os.makedirs(directory)\n",
    "\n",
    "shapefile_path = \"./{}/{}.shp\".format(state_ab, state_ab)\n",
    "geojson_path = './{}/{}.geojson'.format(state_ab, state_ab)\n",
    "json_path = \"./{}.json\".format(state_ab, state_ab)\n",
    "\n",
    "# Check if the shapefile or geojson file already exists\n",
    "if os.path.exists(shapefile_path):\n",
    "    os.remove(shapefile_path)\n",
    "if os.path.exists(geojson_path):\n",
    "    os.remove(geojson_path)\n",
    "\n",
    "election_df.to_file(shapefile_path)\n",
    "election_df.to_file(geojson_path, driver='GeoJSON')\n",
    "\n",
    "# Only do once to build json and read from file when generating ensembles\n",
    "graph = Graph.from_file(shapefile_path, ignore_errors=True)\n",
    "graph.to_json(json_path)"
   ]
  },
  {
   "cell_type": "code",
   "execution_count": 61,
   "metadata": {},
   "outputs": [
    {
     "data": {
      "text/plain": [
       "<Axes: >"
      ]
     },
     "execution_count": 61,
     "metadata": {},
     "output_type": "execute_result"
    },
    {
     "data": {
      "image/png": "[encoded data removed]",
      "text/plain": [
       "<Figure size 640x480 with 1 Axes>"
      ]
     },
     "metadata": {},
     "output_type": "display_data"
    }
   ],
   "source": [
    "shapefile_path = \"./{}/{}.shp\".format(state_ab, state_ab)\n",
    "shape=gpd.read_file(shapefile_path)\n",
    "shape.plot()"
   ]
  },
  {
   "cell_type": "code",
   "execution_count": 62,
   "metadata": {},
   "outputs": [
    {
     "name": "stdout",
     "output_type": "stream",
     "text": [
      "['STATEFP20', 'COUNTYFP20', 'MCD20', 'TYPE20', 'PRECINCT20', 'NAME20', 'CD', 'SEND', 'HDIST', 'TOTPOP', 'NH_2MORE', 'NH_AMIN', 'NH_ASIAN', 'NH_BLACK', 'NH_NHPI', 'NH_OTHER', 'NH_WHITE', 'HISP', 'H_AMIN', 'H_ASIAN', 'H_BLACK', 'H_NHPI', 'H_OTHER', 'H_WHITE', 'H_2MORE', 'VAP', 'HVAP', 'WVAP', 'BVAP', 'AMINVAP', 'ASIANVAP', 'NHPIVAP', 'OTHERVAP', '2MOREVAP', 'ATG16D', 'ATG16R', 'ATG20D', 'ATG20O', 'ATG20R', 'AUD16D', 'AUD16O', 'AUD16R', 'AUD20D', 'AUD20O', 'AUD20R', 'GOV18D', 'GOV18O', 'GOV18R', 'PRE16D', 'PRE16O', 'PRE16R', 'PRE20D', 'PRE20O', 'PRE20R', 'TRE16D', 'TRE16O', 'TRE16R', 'TRE20D', 'TRE20O', 'TRE20R', 'USS16D', 'USS16O', 'USS16R', 'USS18D', 'USS18O', 'USS18R', 'geometry']\n"
     ]
    }
   ],
   "source": [
    "print(list(election_df.columns))"
   ]
  },
  {
   "cell_type": "code",
   "execution_count": 63,
   "metadata": {},
   "outputs": [
    {
     "data": {
      "text/plain": [
       "67"
      ]
     },
     "execution_count": 63,
     "metadata": {},
     "output_type": "execute_result"
    }
   ],
   "source": [
    "len(election_df.columns)\n"
   ]
  },
  {
   "cell_type": "code",
   "execution_count": null,
   "metadata": {},
   "outputs": [],
   "source": []
  }
 ],
 "metadata": {
  "kernelspec": {
   "display_name": "gerry",
   "language": "python",
   "name": "gerry"
  },
  "language_info": {
   "codemirror_mode": {
    "name": "ipython",
    "version": 3
   },
   "file_extension": ".py",
   "mimetype": "text/x-python",
   "name": "python",
   "nbconvert_exporter": "python",
   "pygments_lexer": "ipython3",
   "version": "3.11.4"
  }
 },
 "nbformat": 4,
 "nbformat_minor": 4
}
