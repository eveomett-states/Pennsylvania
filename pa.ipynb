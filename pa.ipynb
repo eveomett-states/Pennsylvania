{
 "cells": [
  {
   "cell_type": "code",
   "execution_count": 1,
   "metadata": {},
   "outputs": [],
   "source": [
    "import pandas as pd\n",
    "import geopandas as gpd\n",
    "import maup\n",
    "import time\n",
    "from maup import smart_repair\n",
    "from gerrychain import Graph\n",
    "\n",
    "maup.progress.enabled = True"
   ]
  },
  {
   "cell_type": "code",
   "execution_count": 2,
   "metadata": {},
   "outputs": [],
   "source": [
    "import warnings\n",
    "warnings.filterwarnings(\"ignore\")"
   ]
  },
  {
   "cell_type": "code",
   "execution_count": 3,
   "metadata": {},
   "outputs": [],
   "source": [
    "# state = Pennsylvania\n",
    "state_ab = \"pa\""
   ]
  },
  {
   "cell_type": "markdown",
   "metadata": {},
   "source": [
    "## Data\n",
    "1. Download all the data in directory \"pa_data\"\n",
    "2. Extract them all"
   ]
  },
  {
   "cell_type": "code",
   "execution_count": 4,
   "metadata": {},
   "outputs": [],
   "source": [
    "data_folder = state_ab + \"_data/\"\n",
    "population1_data = \"./{}{}_pl2020_b/{}_pl2020_p1_b.shp\".format(data_folder, state_ab, state_ab)\n",
    "population2_data = \"./{}{}_pl2020_b/{}_pl2020_p2_b.shp\".format(data_folder, state_ab, state_ab)\n",
    "vap_data =  \"./{}{}_pl2020_b/{}_pl2020_p4_b.shp\".format(data_folder, state_ab, state_ab)\n",
    "vest20_data = \"./{}{}_vest_20/{}_vest_20.shp\".format(data_folder, state_ab, state_ab)\n",
    "vest18_data = \"./{}{}_vest_18/{}_vest_18.shp\".format(data_folder, state_ab, state_ab)\n",
    "vest16_data = \"./{}{}_vest_16/{}_vest_16.shp\".format(data_folder, state_ab, state_ab)\n",
    "cd_data = \"./{}{}_cong_adopted_2022/carter_boundaries.shp\".format(data_folder, state_ab)\n",
    "send_data = \"./{}{}_sldu_adopted_2022/2022 LRC-Senate-Final.shp\".format(data_folder, state_ab)\n",
    "hdist_data = \"./{}{}_sldl_adopted_2022/2022 LRC-House-Final.shp\".format(data_folder, state_ab)"
   ]
  },
  {
   "cell_type": "code",
   "execution_count": 5,
   "metadata": {},
   "outputs": [],
   "source": [
    "def do_smart_repair(df):\n",
    "    # change it to the UTM it needs for smart_repair\n",
    "    df = df.to_crs(df.estimate_utm_crs())\n",
    "    df = smart_repair(df)\n",
    "    if maup.doctor(df):\n",
    "        print('smart_repair successful')\n",
    "            \n",
    "        # change it back to this UTM for this data\n",
    "        df = df.to_crs('EPSG:4269')\n",
    "    else:\n",
    "        raise Exception('smart_repair failed')\n",
    "    return df"
   ]
  },
  {
   "cell_type": "code",
   "execution_count": 6,
   "metadata": {},
   "outputs": [],
   "source": [
    "def add_district(dist_df, dist_name, election_df, col_name):\n",
    "    # check if it needs to be smart_repair\n",
    "    if maup.doctor(dist_df) != True:\n",
    "        dist_df = do_smart_repair(dist_df)\n",
    "    \n",
    "    election_df = gpd.GeoDataFrame(election_df, crs=\"EPSG:4269\")\n",
    "    \n",
    "    # assign the pricincts\n",
    "    precincts_to_district_assignment = maup.assign(election_df.geometry, dist_df.geometry)\n",
    "    election_df[dist_name] = precincts_to_district_assignment\n",
    "    for precinct_index in range(len(election_df)):\n",
    "        election_df.at[precinct_index, dist_name] = dist_df.at[election_df.at[precinct_index, dist_name], col_name]\n",
    "    \n",
    "    return election_df"
   ]
  },
  {
   "cell_type": "code",
   "execution_count": 7,
   "metadata": {},
   "outputs": [],
   "source": [
    "def rename(original, year):\n",
    "    party = original[6]\n",
    "    if party == 'R' or party == 'D':\n",
    "        return original[3:6] + year + original[6]\n",
    "    else:\n",
    "        return original[3:6] + year + 'O'"
   ]
  },
  {
   "cell_type": "code",
   "execution_count": 8,
   "metadata": {},
   "outputs": [],
   "source": [
    "pop_col = ['TOTPOP', 'HISP', 'NH_WHITE', 'NH_BLACK', 'NH_AMIN', 'NH_ASIAN', 'NH_NHPI', 'NH_OTHER', 'NH_2MORE', 'H_WHITE', 'H_BLACK', 'H_AMIN', 'H_ASIAN', 'H_NHPI', 'H_OTHER', 'H_2MORE', 'VAP', 'HVAP', 'WVAP', 'BVAP', 'AMINVAP', 'ASIANVAP', 'NHPIVAP', 'OTHERVAP', '2MOREVAP']"
   ]
  },
  {
   "cell_type": "code",
   "execution_count": 9,
   "metadata": {},
   "outputs": [],
   "source": [
    "def check_population(population, df):\n",
    "    pop_check = pd.DataFrame({\n",
    "        'pop_col': pop_col,\n",
    "        'population_df': population[pop_col].sum(), \n",
    "        'vest_base': df[pop_col].sum(),\n",
    "        'equal': [x == y for x, y in zip(population[pop_col].sum(), df[pop_col].sum())]\n",
    "    })\n",
    "    if pop_check['equal'].mean() < 1:\n",
    "        print(pop_check)\n",
    "        raise Exception(\"population doesn't agree\")\n",
    "\n",
    "    else:\n",
    "        print(\"population agrees\")"
   ]
  },
  {
   "cell_type": "code",
   "execution_count": 10,
   "metadata": {},
   "outputs": [],
   "source": [
    "def add_vest(vest, df, year, population, start_col):    \n",
    "     # check if it needs to be smart_repair\n",
    "    if maup.doctor(vest) != True:\n",
    "        vest = do_smart_repair(vest)\n",
    "    \n",
    "    # rename the columns\n",
    "    original_col = vest.columns[start_col:-1]\n",
    "    new_col = [rename(i, year) for i in original_col]\n",
    "    rename_dict = dict(zip(original_col, new_col))\n",
    "    vest = vest.rename(columns=rename_dict)\n",
    "    vest = vest.groupby(level=0, axis=1).sum() # combine all the other party's vote into columns with sufix \"O\"\n",
    "    col_name = list(set(new_col))\n",
    "    col_name.sort()\n",
    "    \n",
    "    # make the blocks from precincts by weight\n",
    "    vest = gpd.GeoDataFrame(vest, crs=\"EPSG:4269\")\n",
    "    election_in_block = population[[\"VAP\", 'geometry']] # population_df is in block scale\n",
    "    blocks_to_precincts_assignment = maup.assign(election_in_block.geometry, vest.geometry)\n",
    "\n",
    "    weights = election_in_block[\"VAP\"] / blocks_to_precincts_assignment.map(election_in_block[\"VAP\"].groupby(blocks_to_precincts_assignment).sum())\n",
    "    weights = weights.fillna(0)\n",
    "    prorated = maup.prorate(blocks_to_precincts_assignment, vest[col_name], weights)\n",
    "    election_in_block[col_name] = prorated\n",
    "\n",
    "    # assign blocks to precincts\n",
    "    election_in_block = gpd.GeoDataFrame(election_in_block, crs=\"EPSG:4269\")\n",
    "    df = gpd.GeoDataFrame(df, crs=\"EPSG:4269\")\n",
    "    block_to_pricinct_assginment = maup.assign(election_in_block.geometry, df.geometry)\n",
    "    df[col_name] = election_in_block[col_name].groupby(block_to_pricinct_assginment).sum()\n",
    "    df = df.groupby(level=0, axis=1).sum()\n",
    "    \n",
    "    # check if population agrees\n",
    "    check_population(population, df)\n",
    "        \n",
    "    return df"
   ]
  },
  {
   "cell_type": "markdown",
   "metadata": {},
   "source": [
    "### Read the census data"
   ]
  },
  {
   "cell_type": "code",
   "execution_count": 11,
   "metadata": {},
   "outputs": [],
   "source": [
    "population1_df = gpd.read_file(population1_data)\n",
    "population2_df = gpd.read_file(population2_data)\n",
    "vap_df = gpd.read_file(vap_data)"
   ]
  },
  {
   "cell_type": "code",
   "execution_count": 12,
   "metadata": {},
   "outputs": [],
   "source": [
    "population2_df = population2_df.drop(columns=['SUMLEV', 'LOGRECNO', 'GEOID', 'COUNTY', 'geometry'])\n",
    "vap_df = vap_df.drop(columns=['SUMLEV', 'LOGRECNO', 'GEOID', 'COUNTY', 'geometry'])"
   ]
  },
  {
   "cell_type": "code",
   "execution_count": 13,
   "metadata": {},
   "outputs": [],
   "source": [
    "population_df = pd.merge(population1_df, population2_df, on='GEOID20')\n",
    "population_df = pd.merge(population_df, vap_df, on='GEOID20')"
   ]
  },
  {
   "cell_type": "code",
   "execution_count": 14,
   "metadata": {},
   "outputs": [
    {
     "name": "stderr",
     "output_type": "stream",
     "text": [
      "100%|██████████| 336985/336985 [16:26<00:00, 341.46it/s]  \n"
     ]
    },
    {
     "data": {
      "text/plain": [
       "True"
      ]
     },
     "execution_count": 14,
     "metadata": {},
     "output_type": "execute_result"
    }
   ],
   "source": [
    "maup.doctor(population_df)"
   ]
  },
  {
   "cell_type": "code",
   "execution_count": 15,
   "metadata": {},
   "outputs": [],
   "source": [
    "population_df['H_WHITE'] = population_df.apply(lambda t: t['P0010003'] - t['P0020005'], 1)\n",
    "population_df['H_BLACK'] = population_df.apply(lambda t: t['P0010004'] - t['P0020006'], 1)\n",
    "population_df['H_AMIN'] = population_df.apply(lambda t: t['P0010005'] - t['P0020007'], 1)\n",
    "population_df['H_ASIAN'] = population_df.apply(lambda t: t['P0010006'] - t['P0020008'], 1)\n",
    "population_df['H_NHPI'] = population_df.apply(lambda t: t['P0010007'] - t['P0020009'], 1)\n",
    "population_df['H_OTHER'] = population_df.apply(lambda t: t['P0010008'] - t['P0020010'], 1)\n",
    "population_df['H_2MORE'] = population_df.apply(lambda t: t['P0010009'] - t['P0020011'], 1)"
   ]
  },
  {
   "cell_type": "code",
   "execution_count": 16,
   "metadata": {},
   "outputs": [],
   "source": [
    "rename_dict = {'P0020001': 'TOTPOP', 'P0020002': 'HISP', 'P0020005': 'NH_WHITE', 'P0020006': 'NH_BLACK', 'P0020007': 'NH_AMIN',\n",
    "                    'P0020008': 'NH_ASIAN', 'P0020009': 'NH_NHPI', 'P0020010': 'NH_OTHER', 'P0020011': 'NH_2MORE',\n",
    "                    'P0040001': 'VAP', 'P0040002': 'HVAP', 'P0040005': 'WVAP', 'P0040006': 'BVAP', 'P0040007': 'AMINVAP',\n",
    "                                        'P0040008': 'ASIANVAP', 'P0040009': 'NHPIVAP', 'P0040010': 'OTHERVAP', 'P0040011': '2MOREVAP'}"
   ]
  },
  {
   "cell_type": "code",
   "execution_count": 17,
   "metadata": {},
   "outputs": [],
   "source": [
    "population_df.rename(columns=rename_dict, inplace = True)"
   ]
  },
  {
   "cell_type": "code",
   "execution_count": 18,
   "metadata": {},
   "outputs": [
    {
     "name": "stderr",
     "output_type": "stream",
     "text": [
      "100%|██████████| 17/17 [00:00<00:00, 38.03it/s]\n"
     ]
    }
   ],
   "source": [
    "cong_df = gpd.read_file(cd_data)\n",
    "if maup.doctor(cong_df) != True:\n",
    "    cong_df = do_smart_repair(cong_df)"
   ]
  },
  {
   "cell_type": "markdown",
   "metadata": {},
   "source": [
    "## Read the vest 20 data\n",
    "\n",
    "Now using it as a \"base pricinct\""
   ]
  },
  {
   "cell_type": "code",
   "execution_count": 19,
   "metadata": {},
   "outputs": [],
   "source": [
    "def add_vest_base(vest, start_col, year):\n",
    "    original_col = vest.columns[start_col:-1]\n",
    "    new_col = [rename(i, year) for i in original_col]\n",
    "    rename_dict = dict(zip(original_col, new_col))\n",
    "    vest = vest.rename(columns=rename_dict)\n",
    "    vest = vest.groupby(level=0, axis=1).sum()\n",
    "    vest = gpd.GeoDataFrame(vest, crs=\"EPSG:4269\")\n",
    "    \n",
    "    return vest"
   ]
  },
  {
   "cell_type": "markdown",
   "metadata": {},
   "source": [
    "## Check if vest20 can be used as base"
   ]
  },
  {
   "cell_type": "code",
   "execution_count": 20,
   "metadata": {},
   "outputs": [
    {
     "name": "stderr",
     "output_type": "stream",
     "text": [
      "100%|██████████| 9150/9150 [00:19<00:00, 459.02it/s]\n"
     ]
    },
    {
     "name": "stdout",
     "output_type": "stream",
     "text": [
      "There are 709 overlaps.\n",
      "There are 1872 holes.\n",
      "Snapping all geometries to a grid with precision 10^( -5 ) to avoid GEOS errors.\n",
      "Identifying overlaps...\n"
     ]
    },
    {
     "name": "stderr",
     "output_type": "stream",
     "text": [
      "100%|██████████| 11883/11883 [00:12<00:00, 940.21it/s] \n"
     ]
    },
    {
     "name": "stdout",
     "output_type": "stream",
     "text": [
      "Resolving overlaps...\n",
      "Assigning order 2 pieces...\n",
      "Assigning order 3 pieces...\n",
      "Filling gaps...\n"
     ]
    },
    {
     "name": "stderr",
     "output_type": "stream",
     "text": [
      "Gaps to simplify: 100%|██████████| 979/979 [6:41:42<00:00, 24.62s/it]      \n",
      "Gaps to fill: 100%|██████████| 357/357 [30:41<00:00,  5.16s/it] \n",
      "100%|██████████| 9150/9150 [00:19<00:00, 469.19it/s]\n"
     ]
    },
    {
     "name": "stdout",
     "output_type": "stream",
     "text": [
      "smart_repair successful\n"
     ]
    }
   ],
   "source": [
    "vest20 = gpd.read_file(vest20_data)\n",
    "if maup.doctor(vest20) != True:\n",
    "    vest20 = do_smart_repair(vest20)"
   ]
  },
  {
   "cell_type": "code",
   "execution_count": 21,
   "metadata": {},
   "outputs": [
    {
     "data": {
      "text/plain": [
       "Index(['STATEFP', 'COUNTYFP', 'VTDST', 'NAME', 'G20PREDBID', 'G20PRERTRU',\n",
       "       'G20PRELJOR', 'G20ATGDSHA', 'G20ATGRHEI', 'G20ATGLWAS', 'G20ATGGWEI',\n",
       "       'G20AUDDAHM', 'G20AUDRDEF', 'G20AUDLMOO', 'G20AUDGFAI', 'G20TREDTOR',\n",
       "       'G20TRERGAR', 'G20TRELSOL', 'G20TREGRUN', 'geometry'],\n",
       "      dtype='object')"
      ]
     },
     "execution_count": 21,
     "metadata": {},
     "output_type": "execute_result"
    }
   ],
   "source": [
    "vest20.columns"
   ]
  },
  {
   "cell_type": "code",
   "execution_count": 22,
   "metadata": {},
   "outputs": [],
   "source": [
    "start_col = 4\n",
    "vest_base_data = vest20\n",
    "year = '20'"
   ]
  },
  {
   "cell_type": "code",
   "execution_count": 23,
   "metadata": {},
   "outputs": [],
   "source": [
    "vest_base = add_vest_base(vest_base_data, start_col, year)"
   ]
  },
  {
   "cell_type": "code",
   "execution_count": 24,
   "metadata": {},
   "outputs": [
    {
     "name": "stderr",
     "output_type": "stream",
     "text": [
      "100%|██████████| 9150/9150 [00:25<00:00, 358.00it/s]\n",
      " 75%|███████▌  | 6889/9150 [00:59<00:19, 116.56it/s]\n"
     ]
    },
    {
     "ename": "GEOSException",
     "evalue": "TopologyException: Input geom 1 is invalid: Self-intersection at -75.328815953537884 40.595119145679654",
     "output_type": "error",
     "traceback": [
      "\u001b[0;31m---------------------------------------------------------------------------\u001b[0m",
      "\u001b[0;31mGEOSException\u001b[0m                             Traceback (most recent call last)",
      "\u001b[1;32m/Users/aagarwal/Desktop/Redestring AI/Pennsylvania/pa.ipynb Cell 28\u001b[0m line \u001b[0;36m2\n\u001b[1;32m      <a href='vscode-notebook-cell:/Users/aagarwal/Desktop/Redestring%20AI/Pennsylvania/pa.ipynb#X36sZmlsZQ%3D%3D?line=0'>1</a>\u001b[0m \u001b[39m# vap and population have the same GEOID20\u001b[39;00m\n\u001b[0;32m----> <a href='vscode-notebook-cell:/Users/aagarwal/Desktop/Redestring%20AI/Pennsylvania/pa.ipynb#X36sZmlsZQ%3D%3D?line=1'>2</a>\u001b[0m blocks_to_precincts_assignment \u001b[39m=\u001b[39m maup\u001b[39m.\u001b[39massign(population_df\u001b[39m.\u001b[39mgeometry, vest_base\u001b[39m.\u001b[39mgeometry)\n",
      "File \u001b[0;32m~/anaconda3/envs/gerry/lib/python3.11/site-packages/maup/crs.py:14\u001b[0m, in \u001b[0;36mrequire_same_crs.<locals>.wrapped\u001b[0;34m(*args, **kwargs)\u001b[0m\n\u001b[1;32m      8\u001b[0m \u001b[39mif\u001b[39;00m \u001b[39mnot\u001b[39;00m geoms1\u001b[39m.\u001b[39mcrs \u001b[39m==\u001b[39m geoms2\u001b[39m.\u001b[39mcrs:\n\u001b[1;32m      9\u001b[0m     \u001b[39mraise\u001b[39;00m \u001b[39mTypeError\u001b[39;00m(\n\u001b[1;32m     10\u001b[0m         \u001b[39m\"\u001b[39m\u001b[39mthe source and target geometries must have the same CRS. \u001b[39m\u001b[39m{}\u001b[39;00m\u001b[39m \u001b[39m\u001b[39m{}\u001b[39;00m\u001b[39m\"\u001b[39m\u001b[39m.\u001b[39mformat(\n\u001b[1;32m     11\u001b[0m             geoms1\u001b[39m.\u001b[39mcrs, geoms2\u001b[39m.\u001b[39mcrs\n\u001b[1;32m     12\u001b[0m         )\n\u001b[1;32m     13\u001b[0m     )\n\u001b[0;32m---> 14\u001b[0m \u001b[39mreturn\u001b[39;00m f(\u001b[39m*\u001b[39margs, \u001b[39m*\u001b[39m\u001b[39m*\u001b[39mkwargs)\n",
      "File \u001b[0;32m~/anaconda3/envs/gerry/lib/python3.11/site-packages/maup/assign.py:23\u001b[0m, in \u001b[0;36massign\u001b[0;34m(sources, targets)\u001b[0m\n\u001b[1;32m     19\u001b[0m unassigned \u001b[39m=\u001b[39m sources[assignment\u001b[39m.\u001b[39misna()]\n\u001b[1;32m     21\u001b[0m \u001b[39mif\u001b[39;00m \u001b[39mlen\u001b[39m(unassigned):  \u001b[39m# skip if done\u001b[39;00m\n\u001b[1;32m     22\u001b[0m     assignments_by_area \u001b[39m=\u001b[39m pandas\u001b[39m.\u001b[39mSeries(\n\u001b[0;32m---> 23\u001b[0m         assign_by_area(unassigned, targets),\n\u001b[1;32m     24\u001b[0m         dtype\u001b[39m=\u001b[39m\u001b[39m\"\u001b[39m\u001b[39mfloat\u001b[39m\u001b[39m\"\u001b[39m\n\u001b[1;32m     25\u001b[0m     )\n\u001b[1;32m     26\u001b[0m     assignment\u001b[39m.\u001b[39mupdate(assignments_by_area)\n\u001b[1;32m     28\u001b[0m \u001b[39m# TODO: add a warning here if there are still unassigned source geometries.\u001b[39;00m\n",
      "File \u001b[0;32m~/anaconda3/envs/gerry/lib/python3.11/site-packages/maup/assign.py:38\u001b[0m, in \u001b[0;36massign_by_area\u001b[0;34m(sources, targets)\u001b[0m\n\u001b[1;32m     37\u001b[0m \u001b[39mdef\u001b[39;00m \u001b[39massign_by_area\u001b[39m(sources, targets):\n\u001b[0;32m---> 38\u001b[0m     \u001b[39mreturn\u001b[39;00m assign_to_max(intersections(sources, targets, area_cutoff\u001b[39m=\u001b[39m\u001b[39m0\u001b[39m)\u001b[39m.\u001b[39marea)\n",
      "File \u001b[0;32m~/anaconda3/envs/gerry/lib/python3.11/site-packages/maup/crs.py:14\u001b[0m, in \u001b[0;36mrequire_same_crs.<locals>.wrapped\u001b[0;34m(*args, **kwargs)\u001b[0m\n\u001b[1;32m      8\u001b[0m \u001b[39mif\u001b[39;00m \u001b[39mnot\u001b[39;00m geoms1\u001b[39m.\u001b[39mcrs \u001b[39m==\u001b[39m geoms2\u001b[39m.\u001b[39mcrs:\n\u001b[1;32m      9\u001b[0m     \u001b[39mraise\u001b[39;00m \u001b[39mTypeError\u001b[39;00m(\n\u001b[1;32m     10\u001b[0m         \u001b[39m\"\u001b[39m\u001b[39mthe source and target geometries must have the same CRS. \u001b[39m\u001b[39m{}\u001b[39;00m\u001b[39m \u001b[39m\u001b[39m{}\u001b[39;00m\u001b[39m\"\u001b[39m\u001b[39m.\u001b[39mformat(\n\u001b[1;32m     11\u001b[0m             geoms1\u001b[39m.\u001b[39mcrs, geoms2\u001b[39m.\u001b[39mcrs\n\u001b[1;32m     12\u001b[0m         )\n\u001b[1;32m     13\u001b[0m     )\n\u001b[0;32m---> 14\u001b[0m \u001b[39mreturn\u001b[39;00m f(\u001b[39m*\u001b[39margs, \u001b[39m*\u001b[39m\u001b[39m*\u001b[39mkwargs)\n",
      "File \u001b[0;32m~/anaconda3/envs/gerry/lib/python3.11/site-packages/maup/intersections.py:32\u001b[0m, in \u001b[0;36mintersections\u001b[0;34m(sources, targets, output_type, area_cutoff)\u001b[0m\n\u001b[1;32m     29\u001b[0m reindexed_targets \u001b[39m=\u001b[39m get_geometries_with_range_index(targets)\n\u001b[1;32m     30\u001b[0m spatially_indexed_sources \u001b[39m=\u001b[39m IndexedGeometries(reindexed_sources)\n\u001b[0;32m---> 32\u001b[0m records \u001b[39m=\u001b[39m [\n\u001b[1;32m     33\u001b[0m     \u001b[39m# Flip i, j to j, i so that the index is [\"source\", \"target\"]\u001b[39;00m\n\u001b[1;32m     34\u001b[0m     (sources\u001b[39m.\u001b[39mindex[j], targets\u001b[39m.\u001b[39mindex[i], geometry)\n\u001b[1;32m     35\u001b[0m     \u001b[39mfor\u001b[39;00m i, j, geometry \u001b[39min\u001b[39;00m spatially_indexed_sources\u001b[39m.\u001b[39menumerate_intersections(\n\u001b[1;32m     36\u001b[0m         reindexed_targets\n\u001b[1;32m     37\u001b[0m     )\n\u001b[1;32m     38\u001b[0m ]\n\u001b[1;32m     40\u001b[0m df \u001b[39m=\u001b[39m GeoDataFrame\u001b[39m.\u001b[39mfrom_records(records, columns\u001b[39m=\u001b[39m[\u001b[39m\"\u001b[39m\u001b[39msource\u001b[39m\u001b[39m\"\u001b[39m, \u001b[39m\"\u001b[39m\u001b[39mtarget\u001b[39m\u001b[39m\"\u001b[39m, \u001b[39m\"\u001b[39m\u001b[39mgeometry\u001b[39m\u001b[39m\"\u001b[39m])\n\u001b[1;32m     41\u001b[0m df \u001b[39m=\u001b[39m df\u001b[39m.\u001b[39msort_values(by\u001b[39m=\u001b[39m[\u001b[39m\"\u001b[39m\u001b[39msource\u001b[39m\u001b[39m\"\u001b[39m, \u001b[39m\"\u001b[39m\u001b[39mtarget\u001b[39m\u001b[39m\"\u001b[39m])\u001b[39m.\u001b[39mreset_index(drop\u001b[39m=\u001b[39m\u001b[39mTrue\u001b[39;00m)\n",
      "File \u001b[0;32m~/anaconda3/envs/gerry/lib/python3.11/site-packages/maup/intersections.py:32\u001b[0m, in \u001b[0;36m<listcomp>\u001b[0;34m(.0)\u001b[0m\n\u001b[1;32m     29\u001b[0m reindexed_targets \u001b[39m=\u001b[39m get_geometries_with_range_index(targets)\n\u001b[1;32m     30\u001b[0m spatially_indexed_sources \u001b[39m=\u001b[39m IndexedGeometries(reindexed_sources)\n\u001b[0;32m---> 32\u001b[0m records \u001b[39m=\u001b[39m [\n\u001b[1;32m     33\u001b[0m     \u001b[39m# Flip i, j to j, i so that the index is [\"source\", \"target\"]\u001b[39;00m\n\u001b[1;32m     34\u001b[0m     (sources\u001b[39m.\u001b[39mindex[j], targets\u001b[39m.\u001b[39mindex[i], geometry)\n\u001b[1;32m     35\u001b[0m     \u001b[39mfor\u001b[39;00m i, j, geometry \u001b[39min\u001b[39;00m spatially_indexed_sources\u001b[39m.\u001b[39menumerate_intersections(\n\u001b[1;32m     36\u001b[0m         reindexed_targets\n\u001b[1;32m     37\u001b[0m     )\n\u001b[1;32m     38\u001b[0m ]\n\u001b[1;32m     40\u001b[0m df \u001b[39m=\u001b[39m GeoDataFrame\u001b[39m.\u001b[39mfrom_records(records, columns\u001b[39m=\u001b[39m[\u001b[39m\"\u001b[39m\u001b[39msource\u001b[39m\u001b[39m\"\u001b[39m, \u001b[39m\"\u001b[39m\u001b[39mtarget\u001b[39m\u001b[39m\"\u001b[39m, \u001b[39m\"\u001b[39m\u001b[39mgeometry\u001b[39m\u001b[39m\"\u001b[39m])\n\u001b[1;32m     41\u001b[0m df \u001b[39m=\u001b[39m df\u001b[39m.\u001b[39msort_values(by\u001b[39m=\u001b[39m[\u001b[39m\"\u001b[39m\u001b[39msource\u001b[39m\u001b[39m\"\u001b[39m, \u001b[39m\"\u001b[39m\u001b[39mtarget\u001b[39m\u001b[39m\"\u001b[39m])\u001b[39m.\u001b[39mreset_index(drop\u001b[39m=\u001b[39m\u001b[39mTrue\u001b[39;00m)\n",
      "File \u001b[0;32m~/anaconda3/envs/gerry/lib/python3.11/site-packages/maup/indexed_geometries.py:76\u001b[0m, in \u001b[0;36mIndexedGeometries.enumerate_intersections\u001b[0;34m(self, targets)\u001b[0m\n\u001b[1;32m     74\u001b[0m target_geometries \u001b[39m=\u001b[39m get_geometries(targets)\n\u001b[1;32m     75\u001b[0m \u001b[39mfor\u001b[39;00m i, target \u001b[39min\u001b[39;00m progress(target_geometries\u001b[39m.\u001b[39mitems(), \u001b[39mlen\u001b[39m(target_geometries)):\n\u001b[0;32m---> 76\u001b[0m     \u001b[39mfor\u001b[39;00m j, intersection \u001b[39min\u001b[39;00m \u001b[39mself\u001b[39m\u001b[39m.\u001b[39mintersections(target)\u001b[39m.\u001b[39mitems():\n\u001b[1;32m     77\u001b[0m         \u001b[39myield\u001b[39;00m i, j, intersection\n",
      "File \u001b[0;32m~/anaconda3/envs/gerry/lib/python3.11/site-packages/maup/indexed_geometries.py:33\u001b[0m, in \u001b[0;36mIndexedGeometries.intersections\u001b[0;34m(self, geometry)\u001b[0m\n\u001b[1;32m     31\u001b[0m \u001b[39mdef\u001b[39;00m \u001b[39mintersections\u001b[39m(\u001b[39mself\u001b[39m, geometry):\n\u001b[1;32m     32\u001b[0m     relevant_geometries \u001b[39m=\u001b[39m \u001b[39mself\u001b[39m\u001b[39m.\u001b[39mquery(geometry)\n\u001b[0;32m---> 33\u001b[0m     intersections \u001b[39m=\u001b[39m relevant_geometries\u001b[39m.\u001b[39mintersection(geometry)\n\u001b[1;32m     34\u001b[0m     \u001b[39mreturn\u001b[39;00m intersections[\u001b[39m-\u001b[39m(intersections\u001b[39m.\u001b[39mis_empty \u001b[39m|\u001b[39m intersections\u001b[39m.\u001b[39misna())]\n",
      "File \u001b[0;32m~/anaconda3/envs/gerry/lib/python3.11/site-packages/geopandas/base.py:3266\u001b[0m, in \u001b[0;36mGeoPandasBase.intersection\u001b[0;34m(self, other, align)\u001b[0m\n\u001b[1;32m   3155\u001b[0m \u001b[39mdef\u001b[39;00m \u001b[39mintersection\u001b[39m(\u001b[39mself\u001b[39m, other, align\u001b[39m=\u001b[39m\u001b[39mTrue\u001b[39;00m):\n\u001b[1;32m   3156\u001b[0m \u001b[39m    \u001b[39m\u001b[39m\"\"\"Returns a ``GeoSeries`` of the intersection of points in each\u001b[39;00m\n\u001b[1;32m   3157\u001b[0m \u001b[39m    aligned geometry with `other`.\u001b[39;00m\n\u001b[1;32m   3158\u001b[0m \n\u001b[0;32m   (...)\u001b[0m\n\u001b[1;32m   3264\u001b[0m \u001b[39m    GeoSeries.union\u001b[39;00m\n\u001b[1;32m   3265\u001b[0m \u001b[39m    \"\"\"\u001b[39;00m\n\u001b[0;32m-> 3266\u001b[0m     \u001b[39mreturn\u001b[39;00m _binary_geo(\u001b[39m\"\u001b[39m\u001b[39mintersection\u001b[39m\u001b[39m\"\u001b[39m, \u001b[39mself\u001b[39m, other, align)\n",
      "File \u001b[0;32m~/anaconda3/envs/gerry/lib/python3.11/site-packages/geopandas/base.py:56\u001b[0m, in \u001b[0;36m_binary_geo\u001b[0;34m(op, this, other, align)\u001b[0m\n\u001b[1;32m     53\u001b[0m \u001b[39m\u001b[39m\u001b[39m\"\"\"Binary operation on GeoSeries objects that returns a GeoSeries\"\"\"\u001b[39;00m\n\u001b[1;32m     54\u001b[0m \u001b[39mfrom\u001b[39;00m \u001b[39m.\u001b[39;00m\u001b[39mgeoseries\u001b[39;00m \u001b[39mimport\u001b[39;00m GeoSeries\n\u001b[0;32m---> 56\u001b[0m geoms, index \u001b[39m=\u001b[39m _delegate_binary_method(op, this, other, align)\n\u001b[1;32m     57\u001b[0m \u001b[39mreturn\u001b[39;00m GeoSeries(geoms, index\u001b[39m=\u001b[39mindex, crs\u001b[39m=\u001b[39mthis\u001b[39m.\u001b[39mcrs)\n",
      "File \u001b[0;32m~/anaconda3/envs/gerry/lib/python3.11/site-packages/geopandas/base.py:47\u001b[0m, in \u001b[0;36m_delegate_binary_method\u001b[0;34m(op, this, other, align, *args, **kwargs)\u001b[0m\n\u001b[1;32m     44\u001b[0m \u001b[39melse\u001b[39;00m:\n\u001b[1;32m     45\u001b[0m     \u001b[39mraise\u001b[39;00m \u001b[39mTypeError\u001b[39;00m(\u001b[39mtype\u001b[39m(this), \u001b[39mtype\u001b[39m(other))\n\u001b[0;32m---> 47\u001b[0m data \u001b[39m=\u001b[39m \u001b[39mgetattr\u001b[39m(a_this, op)(other, \u001b[39m*\u001b[39margs, \u001b[39m*\u001b[39m\u001b[39m*\u001b[39mkwargs)\n\u001b[1;32m     48\u001b[0m \u001b[39mreturn\u001b[39;00m data, this\u001b[39m.\u001b[39mindex\n",
      "File \u001b[0;32m~/anaconda3/envs/gerry/lib/python3.11/site-packages/geopandas/array.py:671\u001b[0m, in \u001b[0;36mGeometryArray.intersection\u001b[0;34m(self, other)\u001b[0m\n\u001b[1;32m    669\u001b[0m \u001b[39mdef\u001b[39;00m \u001b[39mintersection\u001b[39m(\u001b[39mself\u001b[39m, other):\n\u001b[1;32m    670\u001b[0m     \u001b[39mreturn\u001b[39;00m GeometryArray(\n\u001b[0;32m--> 671\u001b[0m         \u001b[39mself\u001b[39m\u001b[39m.\u001b[39m_binary_method(\u001b[39m\"\u001b[39m\u001b[39mintersection\u001b[39m\u001b[39m\"\u001b[39m, \u001b[39mself\u001b[39m, other), crs\u001b[39m=\u001b[39m\u001b[39mself\u001b[39m\u001b[39m.\u001b[39mcrs\n\u001b[1;32m    672\u001b[0m     )\n",
      "File \u001b[0;32m~/anaconda3/envs/gerry/lib/python3.11/site-packages/geopandas/array.py:611\u001b[0m, in \u001b[0;36mGeometryArray._binary_method\u001b[0;34m(op, left, right, **kwargs)\u001b[0m\n\u001b[1;32m    608\u001b[0m         _crs_mismatch_warn(left, right, stacklevel\u001b[39m=\u001b[39m\u001b[39m7\u001b[39m)\n\u001b[1;32m    609\u001b[0m     right \u001b[39m=\u001b[39m right\u001b[39m.\u001b[39m_data\n\u001b[0;32m--> 611\u001b[0m \u001b[39mreturn\u001b[39;00m \u001b[39mgetattr\u001b[39m(vectorized, op)(left\u001b[39m.\u001b[39m_data, right, \u001b[39m*\u001b[39m\u001b[39m*\u001b[39mkwargs)\n",
      "File \u001b[0;32m~/anaconda3/envs/gerry/lib/python3.11/site-packages/geopandas/_vectorized.py:938\u001b[0m, in \u001b[0;36mintersection\u001b[0;34m(data, other)\u001b[0m\n\u001b[1;32m    936\u001b[0m \u001b[39mdef\u001b[39;00m \u001b[39mintersection\u001b[39m(data, other):\n\u001b[1;32m    937\u001b[0m     \u001b[39mif\u001b[39;00m compat\u001b[39m.\u001b[39mUSE_SHAPELY_20:\n\u001b[0;32m--> 938\u001b[0m         \u001b[39mreturn\u001b[39;00m shapely\u001b[39m.\u001b[39mintersection(data, other)\n\u001b[1;32m    939\u001b[0m     \u001b[39melif\u001b[39;00m compat\u001b[39m.\u001b[39mUSE_PYGEOS:\n\u001b[1;32m    940\u001b[0m         \u001b[39mreturn\u001b[39;00m _binary_method(\u001b[39m\"\u001b[39m\u001b[39mintersection\u001b[39m\u001b[39m\"\u001b[39m, data, other)\n",
      "File \u001b[0;32m~/anaconda3/envs/gerry/lib/python3.11/site-packages/shapely/decorators.py:77\u001b[0m, in \u001b[0;36mmultithreading_enabled.<locals>.wrapped\u001b[0;34m(*args, **kwargs)\u001b[0m\n\u001b[1;32m     75\u001b[0m     \u001b[39mfor\u001b[39;00m arr \u001b[39min\u001b[39;00m array_args:\n\u001b[1;32m     76\u001b[0m         arr\u001b[39m.\u001b[39mflags\u001b[39m.\u001b[39mwriteable \u001b[39m=\u001b[39m \u001b[39mFalse\u001b[39;00m\n\u001b[0;32m---> 77\u001b[0m     \u001b[39mreturn\u001b[39;00m func(\u001b[39m*\u001b[39margs, \u001b[39m*\u001b[39m\u001b[39m*\u001b[39mkwargs)\n\u001b[1;32m     78\u001b[0m \u001b[39mfinally\u001b[39;00m:\n\u001b[1;32m     79\u001b[0m     \u001b[39mfor\u001b[39;00m arr, old_flag \u001b[39min\u001b[39;00m \u001b[39mzip\u001b[39m(array_args, old_flags):\n",
      "File \u001b[0;32m~/anaconda3/envs/gerry/lib/python3.11/site-packages/shapely/set_operations.py:131\u001b[0m, in \u001b[0;36mintersection\u001b[0;34m(a, b, grid_size, **kwargs)\u001b[0m\n\u001b[1;32m    127\u001b[0m         \u001b[39mraise\u001b[39;00m \u001b[39mValueError\u001b[39;00m(\u001b[39m\"\u001b[39m\u001b[39mgrid_size parameter only accepts scalar values\u001b[39m\u001b[39m\"\u001b[39m)\n\u001b[1;32m    129\u001b[0m     \u001b[39mreturn\u001b[39;00m lib\u001b[39m.\u001b[39mintersection_prec(a, b, grid_size, \u001b[39m*\u001b[39m\u001b[39m*\u001b[39mkwargs)\n\u001b[0;32m--> 131\u001b[0m \u001b[39mreturn\u001b[39;00m lib\u001b[39m.\u001b[39mintersection(a, b, \u001b[39m*\u001b[39m\u001b[39m*\u001b[39mkwargs)\n",
      "\u001b[0;31mGEOSException\u001b[0m: TopologyException: Input geom 1 is invalid: Self-intersection at -75.328815953537884 40.595119145679654"
     ]
    }
   ],
   "source": [
    "# vap and population have the same GEOID20\n",
    "blocks_to_precincts_assignment = maup.assign(population_df.geometry, vest_base.geometry)"
   ]
  },
  {
   "cell_type": "markdown",
   "metadata": {},
   "source": [
    "### Doing SNAP_PRECISION because of the above error"
   ]
  },
  {
   "cell_type": "code",
   "execution_count": 25,
   "metadata": {},
   "outputs": [],
   "source": [
    "def do_smart_repair_with_snap_precision(df):\n",
    "    # change it to the UTM it needs for smart_repair\n",
    "    df = df.to_crs(df.estimate_utm_crs())\n",
    "    df = smart_repair(df, snap_precision=8)\n",
    "    if maup.doctor(df):\n",
    "        print('smart_repair successful')\n",
    "            \n",
    "        # change it back to this UTM for this data\n",
    "        df = df.to_crs('EPSG:4269')\n",
    "    else:\n",
    "        raise Exception('smart_repair failed')\n",
    "    return df"
   ]
  },
  {
   "cell_type": "code",
   "execution_count": 26,
   "metadata": {},
   "outputs": [
    {
     "name": "stderr",
     "output_type": "stream",
     "text": [
      "100%|██████████| 9150/9150 [00:20<00:00, 457.06it/s]\n"
     ]
    },
    {
     "name": "stdout",
     "output_type": "stream",
     "text": [
      "There are 709 overlaps.\n",
      "There are 1872 holes.\n",
      "Snapping all geometries to a grid with precision 10^( -3 ) to avoid GEOS errors.\n",
      "Identifying overlaps...\n"
     ]
    },
    {
     "name": "stderr",
     "output_type": "stream",
     "text": [
      "100%|██████████| 11697/11697 [00:12<00:00, 950.59it/s] \n"
     ]
    },
    {
     "name": "stdout",
     "output_type": "stream",
     "text": [
      "Resolving overlaps...\n",
      "Assigning order 2 pieces...\n",
      "Assigning order 3 pieces...\n",
      "Filling gaps...\n"
     ]
    },
    {
     "name": "stderr",
     "output_type": "stream",
     "text": [
      "Gaps to simplify: 100%|██████████| 953/953 [57:48<00:00,  3.64s/it]  \n",
      "Gaps to fill: 100%|██████████| 365/365 [18:52<00:00,  3.10s/it]\n",
      "100%|██████████| 9150/9150 [00:11<00:00, 817.35it/s] \n"
     ]
    },
    {
     "name": "stdout",
     "output_type": "stream",
     "text": [
      "smart_repair successful\n"
     ]
    }
   ],
   "source": [
    "vest20 = gpd.read_file(vest20_data)\n",
    "if maup.doctor(vest20) != True:\n",
    "    vest20 = do_smart_repair_with_snap_precision(vest20)"
   ]
  },
  {
   "cell_type": "code",
   "execution_count": 27,
   "metadata": {},
   "outputs": [
    {
     "data": {
      "text/plain": [
       "Index(['STATEFP', 'COUNTYFP', 'VTDST', 'NAME', 'G20PREDBID', 'G20PRERTRU',\n",
       "       'G20PRELJOR', 'G20ATGDSHA', 'G20ATGRHEI', 'G20ATGLWAS', 'G20ATGGWEI',\n",
       "       'G20AUDDAHM', 'G20AUDRDEF', 'G20AUDLMOO', 'G20AUDGFAI', 'G20TREDTOR',\n",
       "       'G20TRERGAR', 'G20TRELSOL', 'G20TREGRUN', 'geometry'],\n",
       "      dtype='object')"
      ]
     },
     "execution_count": 27,
     "metadata": {},
     "output_type": "execute_result"
    }
   ],
   "source": [
    "vest20.columns"
   ]
  },
  {
   "cell_type": "code",
   "execution_count": 28,
   "metadata": {},
   "outputs": [],
   "source": [
    "start_col = 4\n",
    "vest_base_data = vest20\n",
    "year = '20'"
   ]
  },
  {
   "cell_type": "code",
   "execution_count": 29,
   "metadata": {},
   "outputs": [],
   "source": [
    "vest_base = add_vest_base(vest_base_data, start_col, year)"
   ]
  },
  {
   "cell_type": "code",
   "execution_count": 30,
   "metadata": {},
   "outputs": [
    {
     "name": "stderr",
     "output_type": "stream",
     "text": [
      "100%|██████████| 9150/9150 [00:14<00:00, 623.28it/s] \n",
      "100%|██████████| 9150/9150 [00:46<00:00, 195.42it/s]\n"
     ]
    }
   ],
   "source": [
    "# vap and population have the same GEOID20\n",
    "blocks_to_precincts_assignment = maup.assign(population_df.geometry, vest_base.geometry)"
   ]
  },
  {
   "cell_type": "code",
   "execution_count": 38,
   "metadata": {},
   "outputs": [],
   "source": [
    "vest_base[pop_col] = population_df[pop_col].groupby(blocks_to_precincts_assignment).sum()"
   ]
  },
  {
   "cell_type": "code",
   "execution_count": 39,
   "metadata": {},
   "outputs": [],
   "source": [
    "election_df = gpd.GeoDataFrame(vest_base, crs=\"EPSG:4269\")"
   ]
  },
  {
   "cell_type": "code",
   "execution_count": 40,
   "metadata": {},
   "outputs": [
    {
     "data": {
      "text/html": [
       "<div>\n",
       "<style scoped>\n",
       "    .dataframe tbody tr th:only-of-type {\n",
       "        vertical-align: middle;\n",
       "    }\n",
       "\n",
       "    .dataframe tbody tr th {\n",
       "        vertical-align: top;\n",
       "    }\n",
       "\n",
       "    .dataframe thead th {\n",
       "        text-align: right;\n",
       "    }\n",
       "</style>\n",
       "<table border=\"1\" class=\"dataframe\">\n",
       "  <thead>\n",
       "    <tr style=\"text-align: right;\">\n",
       "      <th></th>\n",
       "      <th>pop_col</th>\n",
       "      <th>population_df</th>\n",
       "      <th>vest_base</th>\n",
       "      <th>equal</th>\n",
       "    </tr>\n",
       "  </thead>\n",
       "  <tbody>\n",
       "    <tr>\n",
       "      <th>TOTPOP</th>\n",
       "      <td>TOTPOP</td>\n",
       "      <td>13002700</td>\n",
       "      <td>13002700.0</td>\n",
       "      <td>True</td>\n",
       "    </tr>\n",
       "    <tr>\n",
       "      <th>HISP</th>\n",
       "      <td>HISP</td>\n",
       "      <td>1049615</td>\n",
       "      <td>1049615.0</td>\n",
       "      <td>True</td>\n",
       "    </tr>\n",
       "    <tr>\n",
       "      <th>NH_WHITE</th>\n",
       "      <td>NH_WHITE</td>\n",
       "      <td>9553417</td>\n",
       "      <td>9553417.0</td>\n",
       "      <td>True</td>\n",
       "    </tr>\n",
       "    <tr>\n",
       "      <th>NH_BLACK</th>\n",
       "      <td>NH_BLACK</td>\n",
       "      <td>1368978</td>\n",
       "      <td>1368978.0</td>\n",
       "      <td>True</td>\n",
       "    </tr>\n",
       "    <tr>\n",
       "      <th>NH_AMIN</th>\n",
       "      <td>NH_AMIN</td>\n",
       "      <td>15028</td>\n",
       "      <td>15028.0</td>\n",
       "      <td>True</td>\n",
       "    </tr>\n",
       "    <tr>\n",
       "      <th>NH_ASIAN</th>\n",
       "      <td>NH_ASIAN</td>\n",
       "      <td>506674</td>\n",
       "      <td>506674.0</td>\n",
       "      <td>True</td>\n",
       "    </tr>\n",
       "    <tr>\n",
       "      <th>NH_NHPI</th>\n",
       "      <td>NH_NHPI</td>\n",
       "      <td>3162</td>\n",
       "      <td>3162.0</td>\n",
       "      <td>True</td>\n",
       "    </tr>\n",
       "    <tr>\n",
       "      <th>NH_OTHER</th>\n",
       "      <td>NH_OTHER</td>\n",
       "      <td>54541</td>\n",
       "      <td>54541.0</td>\n",
       "      <td>True</td>\n",
       "    </tr>\n",
       "    <tr>\n",
       "      <th>NH_2MORE</th>\n",
       "      <td>NH_2MORE</td>\n",
       "      <td>451285</td>\n",
       "      <td>451285.0</td>\n",
       "      <td>True</td>\n",
       "    </tr>\n",
       "    <tr>\n",
       "      <th>H_WHITE</th>\n",
       "      <td>H_WHITE</td>\n",
       "      <td>197270</td>\n",
       "      <td>197270.0</td>\n",
       "      <td>True</td>\n",
       "    </tr>\n",
       "    <tr>\n",
       "      <th>H_BLACK</th>\n",
       "      <td>H_BLACK</td>\n",
       "      <td>54191</td>\n",
       "      <td>54191.0</td>\n",
       "      <td>True</td>\n",
       "    </tr>\n",
       "    <tr>\n",
       "      <th>H_AMIN</th>\n",
       "      <td>H_AMIN</td>\n",
       "      <td>16024</td>\n",
       "      <td>16024.0</td>\n",
       "      <td>True</td>\n",
       "    </tr>\n",
       "    <tr>\n",
       "      <th>H_ASIAN</th>\n",
       "      <td>H_ASIAN</td>\n",
       "      <td>3827</td>\n",
       "      <td>3827.0</td>\n",
       "      <td>True</td>\n",
       "    </tr>\n",
       "    <tr>\n",
       "      <th>H_NHPI</th>\n",
       "      <td>H_NHPI</td>\n",
       "      <td>1114</td>\n",
       "      <td>1114.0</td>\n",
       "      <td>True</td>\n",
       "    </tr>\n",
       "    <tr>\n",
       "      <th>H_OTHER</th>\n",
       "      <td>H_OTHER</td>\n",
       "      <td>453990</td>\n",
       "      <td>453990.0</td>\n",
       "      <td>True</td>\n",
       "    </tr>\n",
       "    <tr>\n",
       "      <th>H_2MORE</th>\n",
       "      <td>H_2MORE</td>\n",
       "      <td>323199</td>\n",
       "      <td>323199.0</td>\n",
       "      <td>True</td>\n",
       "    </tr>\n",
       "    <tr>\n",
       "      <th>VAP</th>\n",
       "      <td>VAP</td>\n",
       "      <td>10353548</td>\n",
       "      <td>10353548.0</td>\n",
       "      <td>True</td>\n",
       "    </tr>\n",
       "    <tr>\n",
       "      <th>HVAP</th>\n",
       "      <td>HVAP</td>\n",
       "      <td>704258</td>\n",
       "      <td>704258.0</td>\n",
       "      <td>True</td>\n",
       "    </tr>\n",
       "    <tr>\n",
       "      <th>WVAP</th>\n",
       "      <td>WVAP</td>\n",
       "      <td>7884010</td>\n",
       "      <td>7884010.0</td>\n",
       "      <td>True</td>\n",
       "    </tr>\n",
       "    <tr>\n",
       "      <th>BVAP</th>\n",
       "      <td>BVAP</td>\n",
       "      <td>1039831</td>\n",
       "      <td>1039831.0</td>\n",
       "      <td>True</td>\n",
       "    </tr>\n",
       "    <tr>\n",
       "      <th>AMINVAP</th>\n",
       "      <td>AMINVAP</td>\n",
       "      <td>12123</td>\n",
       "      <td>12123.0</td>\n",
       "      <td>True</td>\n",
       "    </tr>\n",
       "    <tr>\n",
       "      <th>ASIANVAP</th>\n",
       "      <td>ASIANVAP</td>\n",
       "      <td>398348</td>\n",
       "      <td>398348.0</td>\n",
       "      <td>True</td>\n",
       "    </tr>\n",
       "    <tr>\n",
       "      <th>NHPIVAP</th>\n",
       "      <td>NHPIVAP</td>\n",
       "      <td>2519</td>\n",
       "      <td>2519.0</td>\n",
       "      <td>True</td>\n",
       "    </tr>\n",
       "    <tr>\n",
       "      <th>OTHERVAP</th>\n",
       "      <td>OTHERVAP</td>\n",
       "      <td>36798</td>\n",
       "      <td>36798.0</td>\n",
       "      <td>True</td>\n",
       "    </tr>\n",
       "    <tr>\n",
       "      <th>2MOREVAP</th>\n",
       "      <td>2MOREVAP</td>\n",
       "      <td>275661</td>\n",
       "      <td>275661.0</td>\n",
       "      <td>True</td>\n",
       "    </tr>\n",
       "  </tbody>\n",
       "</table>\n",
       "</div>"
      ],
      "text/plain": [
       "           pop_col  population_df   vest_base  equal\n",
       "TOTPOP      TOTPOP       13002700  13002700.0   True\n",
       "HISP          HISP        1049615   1049615.0   True\n",
       "NH_WHITE  NH_WHITE        9553417   9553417.0   True\n",
       "NH_BLACK  NH_BLACK        1368978   1368978.0   True\n",
       "NH_AMIN    NH_AMIN          15028     15028.0   True\n",
       "NH_ASIAN  NH_ASIAN         506674    506674.0   True\n",
       "NH_NHPI    NH_NHPI           3162      3162.0   True\n",
       "NH_OTHER  NH_OTHER          54541     54541.0   True\n",
       "NH_2MORE  NH_2MORE         451285    451285.0   True\n",
       "H_WHITE    H_WHITE         197270    197270.0   True\n",
       "H_BLACK    H_BLACK          54191     54191.0   True\n",
       "H_AMIN      H_AMIN          16024     16024.0   True\n",
       "H_ASIAN    H_ASIAN           3827      3827.0   True\n",
       "H_NHPI      H_NHPI           1114      1114.0   True\n",
       "H_OTHER    H_OTHER         453990    453990.0   True\n",
       "H_2MORE    H_2MORE         323199    323199.0   True\n",
       "VAP            VAP       10353548  10353548.0   True\n",
       "HVAP          HVAP         704258    704258.0   True\n",
       "WVAP          WVAP        7884010   7884010.0   True\n",
       "BVAP          BVAP        1039831   1039831.0   True\n",
       "AMINVAP    AMINVAP          12123     12123.0   True\n",
       "ASIANVAP  ASIANVAP         398348    398348.0   True\n",
       "NHPIVAP    NHPIVAP           2519      2519.0   True\n",
       "OTHERVAP  OTHERVAP          36798     36798.0   True\n",
       "2MOREVAP  2MOREVAP         275661    275661.0   True"
      ]
     },
     "execution_count": 40,
     "metadata": {},
     "output_type": "execute_result"
    }
   ],
   "source": [
    "pd.DataFrame({\n",
    "    'pop_col': pop_col,\n",
    "    'population_df': population_df[pop_col].sum(), \n",
    "    'vest_base': vest_base[pop_col].sum(),\n",
    "    'equal': [x == y for x, y in zip(population_df[pop_col].sum(), vest_base[pop_col].sum())]\n",
    "})"
   ]
  },
  {
   "cell_type": "code",
   "execution_count": 31,
   "metadata": {},
   "outputs": [
    {
     "name": "stderr",
     "output_type": "stream",
     "text": [
      "100%|██████████| 9160/9160 [00:12<00:00, 734.88it/s] \n"
     ]
    },
    {
     "name": "stdout",
     "output_type": "stream",
     "text": [
      "There are 697 overlaps.\n",
      "There are 1923 holes.\n",
      "Snapping all geometries to a grid with precision 10^( -5 ) to avoid GEOS errors.\n",
      "Identifying overlaps...\n"
     ]
    },
    {
     "name": "stderr",
     "output_type": "stream",
     "text": [
      "100%|██████████| 11951/11951 [00:07<00:00, 1582.88it/s]\n"
     ]
    },
    {
     "name": "stdout",
     "output_type": "stream",
     "text": [
      "Resolving overlaps...\n",
      "Assigning order 2 pieces...\n",
      "Assigning order 3 pieces...\n",
      "Filling gaps...\n"
     ]
    },
    {
     "name": "stderr",
     "output_type": "stream",
     "text": [
      "Gaps to simplify: 100%|██████████| 1000/1000 [51:20<00:00,  3.08s/it]\n",
      "Gaps to fill: 100%|██████████| 370/370 [20:05<00:00,  3.26s/it]\n",
      "100%|██████████| 9160/9160 [00:11<00:00, 785.43it/s] \n"
     ]
    },
    {
     "name": "stdout",
     "output_type": "stream",
     "text": [
      "smart_repair successful\n"
     ]
    }
   ],
   "source": [
    "vest18 = gpd.read_file(vest18_data)\n",
    "if maup.doctor(vest18) != True:\n",
    "    vest18 = do_smart_repair(vest18)"
   ]
  },
  {
   "cell_type": "code",
   "execution_count": 32,
   "metadata": {},
   "outputs": [
    {
     "data": {
      "text/plain": [
       "Index(['STATEFP', 'COUNTYFP', 'VTDST', 'NAME', 'G18USSDCAS', 'G18USSRBAR',\n",
       "       'G18USSLKER', 'G18USSGGAL', 'G18GOVDWOL', 'G18GOVRWAG', 'G18GOVLKRA',\n",
       "       'G18GOVGGLO', 'geometry'],\n",
       "      dtype='object')"
      ]
     },
     "execution_count": 32,
     "metadata": {},
     "output_type": "execute_result"
    }
   ],
   "source": [
    "vest18.columns"
   ]
  },
  {
   "cell_type": "code",
   "execution_count": 33,
   "metadata": {},
   "outputs": [],
   "source": [
    "start_col = 4\n",
    "vest_base_data = vest18\n",
    "year = '18'"
   ]
  },
  {
   "cell_type": "code",
   "execution_count": 34,
   "metadata": {},
   "outputs": [],
   "source": [
    "vest_base = add_vest_base(vest_base_data, start_col, year)"
   ]
  },
  {
   "cell_type": "code",
   "execution_count": 35,
   "metadata": {},
   "outputs": [
    {
     "name": "stderr",
     "output_type": "stream",
     "text": [
      "100%|██████████| 9160/9160 [00:16<00:00, 563.86it/s] \n",
      " 78%|███████▊  | 7123/9160 [00:37<00:10, 189.01it/s]\n"
     ]
    },
    {
     "ename": "GEOSException",
     "evalue": "TopologyException: Input geom 1 is invalid: Self-intersection at -75.328815953537884 40.595119145679654",
     "output_type": "error",
     "traceback": [
      "\u001b[0;31m---------------------------------------------------------------------------\u001b[0m",
      "\u001b[0;31mGEOSException\u001b[0m                             Traceback (most recent call last)",
      "\u001b[1;32m/Users/aagarwal/Desktop/Redestring AI/Pennsylvania/pa.ipynb Cell 40\u001b[0m line \u001b[0;36m2\n\u001b[1;32m      <a href='vscode-notebook-cell:/Users/aagarwal/Desktop/Redestring%20AI/Pennsylvania/pa.ipynb#X44sZmlsZQ%3D%3D?line=0'>1</a>\u001b[0m \u001b[39m# vap and population have the same GEOID20\u001b[39;00m\n\u001b[0;32m----> <a href='vscode-notebook-cell:/Users/aagarwal/Desktop/Redestring%20AI/Pennsylvania/pa.ipynb#X44sZmlsZQ%3D%3D?line=1'>2</a>\u001b[0m blocks_to_precincts_assignment \u001b[39m=\u001b[39m maup\u001b[39m.\u001b[39massign(population_df\u001b[39m.\u001b[39mgeometry, vest_base\u001b[39m.\u001b[39mgeometry)\n",
      "File \u001b[0;32m~/anaconda3/envs/gerry/lib/python3.11/site-packages/maup/crs.py:14\u001b[0m, in \u001b[0;36mrequire_same_crs.<locals>.wrapped\u001b[0;34m(*args, **kwargs)\u001b[0m\n\u001b[1;32m      8\u001b[0m \u001b[39mif\u001b[39;00m \u001b[39mnot\u001b[39;00m geoms1\u001b[39m.\u001b[39mcrs \u001b[39m==\u001b[39m geoms2\u001b[39m.\u001b[39mcrs:\n\u001b[1;32m      9\u001b[0m     \u001b[39mraise\u001b[39;00m \u001b[39mTypeError\u001b[39;00m(\n\u001b[1;32m     10\u001b[0m         \u001b[39m\"\u001b[39m\u001b[39mthe source and target geometries must have the same CRS. \u001b[39m\u001b[39m{}\u001b[39;00m\u001b[39m \u001b[39m\u001b[39m{}\u001b[39;00m\u001b[39m\"\u001b[39m\u001b[39m.\u001b[39mformat(\n\u001b[1;32m     11\u001b[0m             geoms1\u001b[39m.\u001b[39mcrs, geoms2\u001b[39m.\u001b[39mcrs\n\u001b[1;32m     12\u001b[0m         )\n\u001b[1;32m     13\u001b[0m     )\n\u001b[0;32m---> 14\u001b[0m \u001b[39mreturn\u001b[39;00m f(\u001b[39m*\u001b[39margs, \u001b[39m*\u001b[39m\u001b[39m*\u001b[39mkwargs)\n",
      "File \u001b[0;32m~/anaconda3/envs/gerry/lib/python3.11/site-packages/maup/assign.py:23\u001b[0m, in \u001b[0;36massign\u001b[0;34m(sources, targets)\u001b[0m\n\u001b[1;32m     19\u001b[0m unassigned \u001b[39m=\u001b[39m sources[assignment\u001b[39m.\u001b[39misna()]\n\u001b[1;32m     21\u001b[0m \u001b[39mif\u001b[39;00m \u001b[39mlen\u001b[39m(unassigned):  \u001b[39m# skip if done\u001b[39;00m\n\u001b[1;32m     22\u001b[0m     assignments_by_area \u001b[39m=\u001b[39m pandas\u001b[39m.\u001b[39mSeries(\n\u001b[0;32m---> 23\u001b[0m         assign_by_area(unassigned, targets),\n\u001b[1;32m     24\u001b[0m         dtype\u001b[39m=\u001b[39m\u001b[39m\"\u001b[39m\u001b[39mfloat\u001b[39m\u001b[39m\"\u001b[39m\n\u001b[1;32m     25\u001b[0m     )\n\u001b[1;32m     26\u001b[0m     assignment\u001b[39m.\u001b[39mupdate(assignments_by_area)\n\u001b[1;32m     28\u001b[0m \u001b[39m# TODO: add a warning here if there are still unassigned source geometries.\u001b[39;00m\n",
      "File \u001b[0;32m~/anaconda3/envs/gerry/lib/python3.11/site-packages/maup/assign.py:38\u001b[0m, in \u001b[0;36massign_by_area\u001b[0;34m(sources, targets)\u001b[0m\n\u001b[1;32m     37\u001b[0m \u001b[39mdef\u001b[39;00m \u001b[39massign_by_area\u001b[39m(sources, targets):\n\u001b[0;32m---> 38\u001b[0m     \u001b[39mreturn\u001b[39;00m assign_to_max(intersections(sources, targets, area_cutoff\u001b[39m=\u001b[39m\u001b[39m0\u001b[39m)\u001b[39m.\u001b[39marea)\n",
      "File \u001b[0;32m~/anaconda3/envs/gerry/lib/python3.11/site-packages/maup/crs.py:14\u001b[0m, in \u001b[0;36mrequire_same_crs.<locals>.wrapped\u001b[0;34m(*args, **kwargs)\u001b[0m\n\u001b[1;32m      8\u001b[0m \u001b[39mif\u001b[39;00m \u001b[39mnot\u001b[39;00m geoms1\u001b[39m.\u001b[39mcrs \u001b[39m==\u001b[39m geoms2\u001b[39m.\u001b[39mcrs:\n\u001b[1;32m      9\u001b[0m     \u001b[39mraise\u001b[39;00m \u001b[39mTypeError\u001b[39;00m(\n\u001b[1;32m     10\u001b[0m         \u001b[39m\"\u001b[39m\u001b[39mthe source and target geometries must have the same CRS. \u001b[39m\u001b[39m{}\u001b[39;00m\u001b[39m \u001b[39m\u001b[39m{}\u001b[39;00m\u001b[39m\"\u001b[39m\u001b[39m.\u001b[39mformat(\n\u001b[1;32m     11\u001b[0m             geoms1\u001b[39m.\u001b[39mcrs, geoms2\u001b[39m.\u001b[39mcrs\n\u001b[1;32m     12\u001b[0m         )\n\u001b[1;32m     13\u001b[0m     )\n\u001b[0;32m---> 14\u001b[0m \u001b[39mreturn\u001b[39;00m f(\u001b[39m*\u001b[39margs, \u001b[39m*\u001b[39m\u001b[39m*\u001b[39mkwargs)\n",
      "File \u001b[0;32m~/anaconda3/envs/gerry/lib/python3.11/site-packages/maup/intersections.py:32\u001b[0m, in \u001b[0;36mintersections\u001b[0;34m(sources, targets, output_type, area_cutoff)\u001b[0m\n\u001b[1;32m     29\u001b[0m reindexed_targets \u001b[39m=\u001b[39m get_geometries_with_range_index(targets)\n\u001b[1;32m     30\u001b[0m spatially_indexed_sources \u001b[39m=\u001b[39m IndexedGeometries(reindexed_sources)\n\u001b[0;32m---> 32\u001b[0m records \u001b[39m=\u001b[39m [\n\u001b[1;32m     33\u001b[0m     \u001b[39m# Flip i, j to j, i so that the index is [\"source\", \"target\"]\u001b[39;00m\n\u001b[1;32m     34\u001b[0m     (sources\u001b[39m.\u001b[39mindex[j], targets\u001b[39m.\u001b[39mindex[i], geometry)\n\u001b[1;32m     35\u001b[0m     \u001b[39mfor\u001b[39;00m i, j, geometry \u001b[39min\u001b[39;00m spatially_indexed_sources\u001b[39m.\u001b[39menumerate_intersections(\n\u001b[1;32m     36\u001b[0m         reindexed_targets\n\u001b[1;32m     37\u001b[0m     )\n\u001b[1;32m     38\u001b[0m ]\n\u001b[1;32m     40\u001b[0m df \u001b[39m=\u001b[39m GeoDataFrame\u001b[39m.\u001b[39mfrom_records(records, columns\u001b[39m=\u001b[39m[\u001b[39m\"\u001b[39m\u001b[39msource\u001b[39m\u001b[39m\"\u001b[39m, \u001b[39m\"\u001b[39m\u001b[39mtarget\u001b[39m\u001b[39m\"\u001b[39m, \u001b[39m\"\u001b[39m\u001b[39mgeometry\u001b[39m\u001b[39m\"\u001b[39m])\n\u001b[1;32m     41\u001b[0m df \u001b[39m=\u001b[39m df\u001b[39m.\u001b[39msort_values(by\u001b[39m=\u001b[39m[\u001b[39m\"\u001b[39m\u001b[39msource\u001b[39m\u001b[39m\"\u001b[39m, \u001b[39m\"\u001b[39m\u001b[39mtarget\u001b[39m\u001b[39m\"\u001b[39m])\u001b[39m.\u001b[39mreset_index(drop\u001b[39m=\u001b[39m\u001b[39mTrue\u001b[39;00m)\n",
      "File \u001b[0;32m~/anaconda3/envs/gerry/lib/python3.11/site-packages/maup/intersections.py:32\u001b[0m, in \u001b[0;36m<listcomp>\u001b[0;34m(.0)\u001b[0m\n\u001b[1;32m     29\u001b[0m reindexed_targets \u001b[39m=\u001b[39m get_geometries_with_range_index(targets)\n\u001b[1;32m     30\u001b[0m spatially_indexed_sources \u001b[39m=\u001b[39m IndexedGeometries(reindexed_sources)\n\u001b[0;32m---> 32\u001b[0m records \u001b[39m=\u001b[39m [\n\u001b[1;32m     33\u001b[0m     \u001b[39m# Flip i, j to j, i so that the index is [\"source\", \"target\"]\u001b[39;00m\n\u001b[1;32m     34\u001b[0m     (sources\u001b[39m.\u001b[39mindex[j], targets\u001b[39m.\u001b[39mindex[i], geometry)\n\u001b[1;32m     35\u001b[0m     \u001b[39mfor\u001b[39;00m i, j, geometry \u001b[39min\u001b[39;00m spatially_indexed_sources\u001b[39m.\u001b[39menumerate_intersections(\n\u001b[1;32m     36\u001b[0m         reindexed_targets\n\u001b[1;32m     37\u001b[0m     )\n\u001b[1;32m     38\u001b[0m ]\n\u001b[1;32m     40\u001b[0m df \u001b[39m=\u001b[39m GeoDataFrame\u001b[39m.\u001b[39mfrom_records(records, columns\u001b[39m=\u001b[39m[\u001b[39m\"\u001b[39m\u001b[39msource\u001b[39m\u001b[39m\"\u001b[39m, \u001b[39m\"\u001b[39m\u001b[39mtarget\u001b[39m\u001b[39m\"\u001b[39m, \u001b[39m\"\u001b[39m\u001b[39mgeometry\u001b[39m\u001b[39m\"\u001b[39m])\n\u001b[1;32m     41\u001b[0m df \u001b[39m=\u001b[39m df\u001b[39m.\u001b[39msort_values(by\u001b[39m=\u001b[39m[\u001b[39m\"\u001b[39m\u001b[39msource\u001b[39m\u001b[39m\"\u001b[39m, \u001b[39m\"\u001b[39m\u001b[39mtarget\u001b[39m\u001b[39m\"\u001b[39m])\u001b[39m.\u001b[39mreset_index(drop\u001b[39m=\u001b[39m\u001b[39mTrue\u001b[39;00m)\n",
      "File \u001b[0;32m~/anaconda3/envs/gerry/lib/python3.11/site-packages/maup/indexed_geometries.py:76\u001b[0m, in \u001b[0;36mIndexedGeometries.enumerate_intersections\u001b[0;34m(self, targets)\u001b[0m\n\u001b[1;32m     74\u001b[0m target_geometries \u001b[39m=\u001b[39m get_geometries(targets)\n\u001b[1;32m     75\u001b[0m \u001b[39mfor\u001b[39;00m i, target \u001b[39min\u001b[39;00m progress(target_geometries\u001b[39m.\u001b[39mitems(), \u001b[39mlen\u001b[39m(target_geometries)):\n\u001b[0;32m---> 76\u001b[0m     \u001b[39mfor\u001b[39;00m j, intersection \u001b[39min\u001b[39;00m \u001b[39mself\u001b[39m\u001b[39m.\u001b[39mintersections(target)\u001b[39m.\u001b[39mitems():\n\u001b[1;32m     77\u001b[0m         \u001b[39myield\u001b[39;00m i, j, intersection\n",
      "File \u001b[0;32m~/anaconda3/envs/gerry/lib/python3.11/site-packages/maup/indexed_geometries.py:33\u001b[0m, in \u001b[0;36mIndexedGeometries.intersections\u001b[0;34m(self, geometry)\u001b[0m\n\u001b[1;32m     31\u001b[0m \u001b[39mdef\u001b[39;00m \u001b[39mintersections\u001b[39m(\u001b[39mself\u001b[39m, geometry):\n\u001b[1;32m     32\u001b[0m     relevant_geometries \u001b[39m=\u001b[39m \u001b[39mself\u001b[39m\u001b[39m.\u001b[39mquery(geometry)\n\u001b[0;32m---> 33\u001b[0m     intersections \u001b[39m=\u001b[39m relevant_geometries\u001b[39m.\u001b[39mintersection(geometry)\n\u001b[1;32m     34\u001b[0m     \u001b[39mreturn\u001b[39;00m intersections[\u001b[39m-\u001b[39m(intersections\u001b[39m.\u001b[39mis_empty \u001b[39m|\u001b[39m intersections\u001b[39m.\u001b[39misna())]\n",
      "File \u001b[0;32m~/anaconda3/envs/gerry/lib/python3.11/site-packages/geopandas/base.py:3266\u001b[0m, in \u001b[0;36mGeoPandasBase.intersection\u001b[0;34m(self, other, align)\u001b[0m\n\u001b[1;32m   3155\u001b[0m \u001b[39mdef\u001b[39;00m \u001b[39mintersection\u001b[39m(\u001b[39mself\u001b[39m, other, align\u001b[39m=\u001b[39m\u001b[39mTrue\u001b[39;00m):\n\u001b[1;32m   3156\u001b[0m \u001b[39m    \u001b[39m\u001b[39m\"\"\"Returns a ``GeoSeries`` of the intersection of points in each\u001b[39;00m\n\u001b[1;32m   3157\u001b[0m \u001b[39m    aligned geometry with `other`.\u001b[39;00m\n\u001b[1;32m   3158\u001b[0m \n\u001b[0;32m   (...)\u001b[0m\n\u001b[1;32m   3264\u001b[0m \u001b[39m    GeoSeries.union\u001b[39;00m\n\u001b[1;32m   3265\u001b[0m \u001b[39m    \"\"\"\u001b[39;00m\n\u001b[0;32m-> 3266\u001b[0m     \u001b[39mreturn\u001b[39;00m _binary_geo(\u001b[39m\"\u001b[39m\u001b[39mintersection\u001b[39m\u001b[39m\"\u001b[39m, \u001b[39mself\u001b[39m, other, align)\n",
      "File \u001b[0;32m~/anaconda3/envs/gerry/lib/python3.11/site-packages/geopandas/base.py:56\u001b[0m, in \u001b[0;36m_binary_geo\u001b[0;34m(op, this, other, align)\u001b[0m\n\u001b[1;32m     53\u001b[0m \u001b[39m\u001b[39m\u001b[39m\"\"\"Binary operation on GeoSeries objects that returns a GeoSeries\"\"\"\u001b[39;00m\n\u001b[1;32m     54\u001b[0m \u001b[39mfrom\u001b[39;00m \u001b[39m.\u001b[39;00m\u001b[39mgeoseries\u001b[39;00m \u001b[39mimport\u001b[39;00m GeoSeries\n\u001b[0;32m---> 56\u001b[0m geoms, index \u001b[39m=\u001b[39m _delegate_binary_method(op, this, other, align)\n\u001b[1;32m     57\u001b[0m \u001b[39mreturn\u001b[39;00m GeoSeries(geoms, index\u001b[39m=\u001b[39mindex, crs\u001b[39m=\u001b[39mthis\u001b[39m.\u001b[39mcrs)\n",
      "File \u001b[0;32m~/anaconda3/envs/gerry/lib/python3.11/site-packages/geopandas/base.py:47\u001b[0m, in \u001b[0;36m_delegate_binary_method\u001b[0;34m(op, this, other, align, *args, **kwargs)\u001b[0m\n\u001b[1;32m     44\u001b[0m \u001b[39melse\u001b[39;00m:\n\u001b[1;32m     45\u001b[0m     \u001b[39mraise\u001b[39;00m \u001b[39mTypeError\u001b[39;00m(\u001b[39mtype\u001b[39m(this), \u001b[39mtype\u001b[39m(other))\n\u001b[0;32m---> 47\u001b[0m data \u001b[39m=\u001b[39m \u001b[39mgetattr\u001b[39m(a_this, op)(other, \u001b[39m*\u001b[39margs, \u001b[39m*\u001b[39m\u001b[39m*\u001b[39mkwargs)\n\u001b[1;32m     48\u001b[0m \u001b[39mreturn\u001b[39;00m data, this\u001b[39m.\u001b[39mindex\n",
      "File \u001b[0;32m~/anaconda3/envs/gerry/lib/python3.11/site-packages/geopandas/array.py:671\u001b[0m, in \u001b[0;36mGeometryArray.intersection\u001b[0;34m(self, other)\u001b[0m\n\u001b[1;32m    669\u001b[0m \u001b[39mdef\u001b[39;00m \u001b[39mintersection\u001b[39m(\u001b[39mself\u001b[39m, other):\n\u001b[1;32m    670\u001b[0m     \u001b[39mreturn\u001b[39;00m GeometryArray(\n\u001b[0;32m--> 671\u001b[0m         \u001b[39mself\u001b[39m\u001b[39m.\u001b[39m_binary_method(\u001b[39m\"\u001b[39m\u001b[39mintersection\u001b[39m\u001b[39m\"\u001b[39m, \u001b[39mself\u001b[39m, other), crs\u001b[39m=\u001b[39m\u001b[39mself\u001b[39m\u001b[39m.\u001b[39mcrs\n\u001b[1;32m    672\u001b[0m     )\n",
      "File \u001b[0;32m~/anaconda3/envs/gerry/lib/python3.11/site-packages/geopandas/array.py:611\u001b[0m, in \u001b[0;36mGeometryArray._binary_method\u001b[0;34m(op, left, right, **kwargs)\u001b[0m\n\u001b[1;32m    608\u001b[0m         _crs_mismatch_warn(left, right, stacklevel\u001b[39m=\u001b[39m\u001b[39m7\u001b[39m)\n\u001b[1;32m    609\u001b[0m     right \u001b[39m=\u001b[39m right\u001b[39m.\u001b[39m_data\n\u001b[0;32m--> 611\u001b[0m \u001b[39mreturn\u001b[39;00m \u001b[39mgetattr\u001b[39m(vectorized, op)(left\u001b[39m.\u001b[39m_data, right, \u001b[39m*\u001b[39m\u001b[39m*\u001b[39mkwargs)\n",
      "File \u001b[0;32m~/anaconda3/envs/gerry/lib/python3.11/site-packages/geopandas/_vectorized.py:938\u001b[0m, in \u001b[0;36mintersection\u001b[0;34m(data, other)\u001b[0m\n\u001b[1;32m    936\u001b[0m \u001b[39mdef\u001b[39;00m \u001b[39mintersection\u001b[39m(data, other):\n\u001b[1;32m    937\u001b[0m     \u001b[39mif\u001b[39;00m compat\u001b[39m.\u001b[39mUSE_SHAPELY_20:\n\u001b[0;32m--> 938\u001b[0m         \u001b[39mreturn\u001b[39;00m shapely\u001b[39m.\u001b[39mintersection(data, other)\n\u001b[1;32m    939\u001b[0m     \u001b[39melif\u001b[39;00m compat\u001b[39m.\u001b[39mUSE_PYGEOS:\n\u001b[1;32m    940\u001b[0m         \u001b[39mreturn\u001b[39;00m _binary_method(\u001b[39m\"\u001b[39m\u001b[39mintersection\u001b[39m\u001b[39m\"\u001b[39m, data, other)\n",
      "File \u001b[0;32m~/anaconda3/envs/gerry/lib/python3.11/site-packages/shapely/decorators.py:77\u001b[0m, in \u001b[0;36mmultithreading_enabled.<locals>.wrapped\u001b[0;34m(*args, **kwargs)\u001b[0m\n\u001b[1;32m     75\u001b[0m     \u001b[39mfor\u001b[39;00m arr \u001b[39min\u001b[39;00m array_args:\n\u001b[1;32m     76\u001b[0m         arr\u001b[39m.\u001b[39mflags\u001b[39m.\u001b[39mwriteable \u001b[39m=\u001b[39m \u001b[39mFalse\u001b[39;00m\n\u001b[0;32m---> 77\u001b[0m     \u001b[39mreturn\u001b[39;00m func(\u001b[39m*\u001b[39margs, \u001b[39m*\u001b[39m\u001b[39m*\u001b[39mkwargs)\n\u001b[1;32m     78\u001b[0m \u001b[39mfinally\u001b[39;00m:\n\u001b[1;32m     79\u001b[0m     \u001b[39mfor\u001b[39;00m arr, old_flag \u001b[39min\u001b[39;00m \u001b[39mzip\u001b[39m(array_args, old_flags):\n",
      "File \u001b[0;32m~/anaconda3/envs/gerry/lib/python3.11/site-packages/shapely/set_operations.py:131\u001b[0m, in \u001b[0;36mintersection\u001b[0;34m(a, b, grid_size, **kwargs)\u001b[0m\n\u001b[1;32m    127\u001b[0m         \u001b[39mraise\u001b[39;00m \u001b[39mValueError\u001b[39;00m(\u001b[39m\"\u001b[39m\u001b[39mgrid_size parameter only accepts scalar values\u001b[39m\u001b[39m\"\u001b[39m)\n\u001b[1;32m    129\u001b[0m     \u001b[39mreturn\u001b[39;00m lib\u001b[39m.\u001b[39mintersection_prec(a, b, grid_size, \u001b[39m*\u001b[39m\u001b[39m*\u001b[39mkwargs)\n\u001b[0;32m--> 131\u001b[0m \u001b[39mreturn\u001b[39;00m lib\u001b[39m.\u001b[39mintersection(a, b, \u001b[39m*\u001b[39m\u001b[39m*\u001b[39mkwargs)\n",
      "\u001b[0;31mGEOSException\u001b[0m: TopologyException: Input geom 1 is invalid: Self-intersection at -75.328815953537884 40.595119145679654"
     ]
    }
   ],
   "source": [
    "# vap and population have the same GEOID20\n",
    "blocks_to_precincts_assignment = maup.assign(population_df.geometry, vest_base.geometry)"
   ]
  },
  {
   "cell_type": "code",
   "execution_count": 36,
   "metadata": {},
   "outputs": [],
   "source": [
    "def add_vest_with_snap_precision(vest, df, year, population, start_col):    \n",
    "     # check if it needs to be smart_repair\n",
    "    if maup.doctor(vest) != True:\n",
    "        vest = do_smart_repair_with_snap_precision(vest)\n",
    "    \n",
    "    # rename the columns\n",
    "    original_col = vest.columns[start_col:-1]\n",
    "    new_col = [rename(i, year) for i in original_col]\n",
    "    rename_dict = dict(zip(original_col, new_col))\n",
    "    vest = vest.rename(columns=rename_dict)\n",
    "    vest = vest.groupby(level=0, axis=1).sum() # combine all the other party's vote into columns with sufix \"O\"\n",
    "    col_name = list(set(new_col))\n",
    "    col_name.sort()\n",
    "    \n",
    "    # make the blocks from precincts by weight\n",
    "    vest = gpd.GeoDataFrame(vest, crs=\"EPSG:4269\")\n",
    "    election_in_block = population[[\"VAP\", 'geometry']] # population_df is in block scale\n",
    "    blocks_to_precincts_assignment = maup.assign(election_in_block.geometry, vest.geometry)\n",
    "\n",
    "    weights = election_in_block[\"VAP\"] / blocks_to_precincts_assignment.map(election_in_block[\"VAP\"].groupby(blocks_to_precincts_assignment).sum())\n",
    "    weights = weights.fillna(0)\n",
    "    prorated = maup.prorate(blocks_to_precincts_assignment, vest[col_name], weights)\n",
    "    election_in_block[col_name] = prorated\n",
    "\n",
    "    # assign blocks to precincts\n",
    "    election_in_block = gpd.GeoDataFrame(election_in_block, crs=\"EPSG:4269\")\n",
    "    df = gpd.GeoDataFrame(df, crs=\"EPSG:4269\")\n",
    "    block_to_pricinct_assginment = maup.assign(election_in_block.geometry, df.geometry)\n",
    "    df[col_name] = election_in_block[col_name].groupby(block_to_pricinct_assginment).sum()\n",
    "    df = df.groupby(level=0, axis=1).sum()\n",
    "    \n",
    "    # check if population agrees\n",
    "    check_population(population, df)\n",
    "        \n",
    "    return df"
   ]
  },
  {
   "cell_type": "code",
   "execution_count": null,
   "metadata": {},
   "outputs": [],
   "source": [
    "vest18 = gpd.read_file(vest18_data)"
   ]
  },
  {
   "cell_type": "code",
   "execution_count": null,
   "metadata": {},
   "outputs": [
    {
     "ename": "GEOSException",
     "evalue": "TopologyException: side location conflict at -75.328815953537884 40.595119145679654. This can occur if the input geometry is invalid.",
     "output_type": "error",
     "traceback": [
      "\u001b[0;31m---------------------------------------------------------------------------\u001b[0m",
      "\u001b[0;31mGEOSException\u001b[0m                             Traceback (most recent call last)",
      "\u001b[1;32m/Users/aagarwal/Desktop/Redestring AI/Pennsylvania/pa.ipynb Cell 45\u001b[0m line \u001b[0;36m1\n\u001b[0;32m----> <a href='vscode-notebook-cell:/Users/aagarwal/Desktop/Redestring%20AI/Pennsylvania/pa.ipynb#Y143sZmlsZQ%3D%3D?line=0'>1</a>\u001b[0m election_df \u001b[39m=\u001b[39m add_vest_with_snap_precision(vest18, election_df, \u001b[39m'\u001b[39m\u001b[39m18\u001b[39m\u001b[39m'\u001b[39m, population_df, \u001b[39m4\u001b[39m)\n",
      "\u001b[1;32m/Users/aagarwal/Desktop/Redestring AI/Pennsylvania/pa.ipynb Cell 45\u001b[0m line \u001b[0;36m3\n\u001b[1;32m      <a href='vscode-notebook-cell:/Users/aagarwal/Desktop/Redestring%20AI/Pennsylvania/pa.ipynb#Y143sZmlsZQ%3D%3D?line=0'>1</a>\u001b[0m \u001b[39mdef\u001b[39;00m \u001b[39madd_vest_with_snap_precision\u001b[39m(vest, df, year, population, start_col):    \n\u001b[1;32m      <a href='vscode-notebook-cell:/Users/aagarwal/Desktop/Redestring%20AI/Pennsylvania/pa.ipynb#Y143sZmlsZQ%3D%3D?line=1'>2</a>\u001b[0m      \u001b[39m# check if it needs to be smart_repair\u001b[39;00m\n\u001b[0;32m----> <a href='vscode-notebook-cell:/Users/aagarwal/Desktop/Redestring%20AI/Pennsylvania/pa.ipynb#Y143sZmlsZQ%3D%3D?line=2'>3</a>\u001b[0m     \u001b[39mif\u001b[39;00m maup\u001b[39m.\u001b[39mdoctor(vest) \u001b[39m!=\u001b[39m \u001b[39mTrue\u001b[39;00m:\n\u001b[1;32m      <a href='vscode-notebook-cell:/Users/aagarwal/Desktop/Redestring%20AI/Pennsylvania/pa.ipynb#Y143sZmlsZQ%3D%3D?line=3'>4</a>\u001b[0m         vest \u001b[39m=\u001b[39m do_smart_repair_with_snap_precision(vest)\n\u001b[1;32m      <a href='vscode-notebook-cell:/Users/aagarwal/Desktop/Redestring%20AI/Pennsylvania/pa.ipynb#Y143sZmlsZQ%3D%3D?line=5'>6</a>\u001b[0m     \u001b[39m# rename the columns\u001b[39;00m\n",
      "File \u001b[0;32m~/anaconda3/envs/gerry/lib/python3.11/site-packages/maup/repair.py:284\u001b[0m, in \u001b[0;36mdoctor\u001b[0;34m(source, target, silent, accept_holes)\u001b[0m\n\u001b[1;32m    271\u001b[0m \u001b[39m\u001b[39m\u001b[39m\"\"\"\u001b[39;00m\n\u001b[1;32m    272\u001b[0m \u001b[39mDetects quality issues in a given set of source and target geometries. Quality\u001b[39;00m\n\u001b[1;32m    273\u001b[0m \u001b[39missues include overlaps, gaps, invalid geometries, non-perfect\u001b[39;00m\n\u001b[0;32m   (...)\u001b[0m\n\u001b[1;32m    281\u001b[0m \u001b[39mFalse. (Default is accept_holes = False.)\u001b[39;00m\n\u001b[1;32m    282\u001b[0m \u001b[39m\"\"\"\u001b[39;00m\n\u001b[1;32m    283\u001b[0m shapefiles \u001b[39m=\u001b[39m [source]\n\u001b[0;32m--> 284\u001b[0m source_union \u001b[39m=\u001b[39m unary_union(get_geometries(source))\n\u001b[1;32m    286\u001b[0m health_check \u001b[39m=\u001b[39m \u001b[39mTrue\u001b[39;00m\n\u001b[1;32m    288\u001b[0m \u001b[39mif\u001b[39;00m target \u001b[39mis\u001b[39;00m \u001b[39mnot\u001b[39;00m \u001b[39mNone\u001b[39;00m:\n",
      "File \u001b[0;32m~/anaconda3/envs/gerry/lib/python3.11/site-packages/shapely/ops.py:135\u001b[0m, in \u001b[0;36mCollectionOperator.unary_union\u001b[0;34m(self, geoms)\u001b[0m\n\u001b[1;32m    129\u001b[0m \u001b[39mdef\u001b[39;00m \u001b[39munary_union\u001b[39m(\u001b[39mself\u001b[39m, geoms):\n\u001b[1;32m    130\u001b[0m \u001b[39m    \u001b[39m\u001b[39m\"\"\"Returns the union of a sequence of geometries\u001b[39;00m\n\u001b[1;32m    131\u001b[0m \n\u001b[1;32m    132\u001b[0m \u001b[39m    Usually used to convert a collection into the smallest set of polygons\u001b[39;00m\n\u001b[1;32m    133\u001b[0m \u001b[39m    that cover the same area.\u001b[39;00m\n\u001b[1;32m    134\u001b[0m \u001b[39m    \"\"\"\u001b[39;00m\n\u001b[0;32m--> 135\u001b[0m     \u001b[39mreturn\u001b[39;00m shapely\u001b[39m.\u001b[39munion_all(geoms, axis\u001b[39m=\u001b[39m\u001b[39mNone\u001b[39;00m)\n",
      "File \u001b[0;32m~/anaconda3/envs/gerry/lib/python3.11/site-packages/shapely/decorators.py:77\u001b[0m, in \u001b[0;36mmultithreading_enabled.<locals>.wrapped\u001b[0;34m(*args, **kwargs)\u001b[0m\n\u001b[1;32m     75\u001b[0m     \u001b[39mfor\u001b[39;00m arr \u001b[39min\u001b[39;00m array_args:\n\u001b[1;32m     76\u001b[0m         arr\u001b[39m.\u001b[39mflags\u001b[39m.\u001b[39mwriteable \u001b[39m=\u001b[39m \u001b[39mFalse\u001b[39;00m\n\u001b[0;32m---> 77\u001b[0m     \u001b[39mreturn\u001b[39;00m func(\u001b[39m*\u001b[39margs, \u001b[39m*\u001b[39m\u001b[39m*\u001b[39mkwargs)\n\u001b[1;32m     78\u001b[0m \u001b[39mfinally\u001b[39;00m:\n\u001b[1;32m     79\u001b[0m     \u001b[39mfor\u001b[39;00m arr, old_flag \u001b[39min\u001b[39;00m \u001b[39mzip\u001b[39m(array_args, old_flags):\n",
      "File \u001b[0;32m~/anaconda3/envs/gerry/lib/python3.11/site-packages/shapely/set_operations.py:419\u001b[0m, in \u001b[0;36munion_all\u001b[0;34m(geometries, grid_size, axis, **kwargs)\u001b[0m\n\u001b[1;32m    415\u001b[0m         \u001b[39mraise\u001b[39;00m \u001b[39mValueError\u001b[39;00m(\u001b[39m\"\u001b[39m\u001b[39mgrid_size parameter only accepts scalar values\u001b[39m\u001b[39m\"\u001b[39m)\n\u001b[1;32m    417\u001b[0m     \u001b[39mreturn\u001b[39;00m lib\u001b[39m.\u001b[39munary_union_prec(collections, grid_size, \u001b[39m*\u001b[39m\u001b[39m*\u001b[39mkwargs)\n\u001b[0;32m--> 419\u001b[0m \u001b[39mreturn\u001b[39;00m lib\u001b[39m.\u001b[39munary_union(collections, \u001b[39m*\u001b[39m\u001b[39m*\u001b[39mkwargs)\n",
      "\u001b[0;31mGEOSException\u001b[0m: TopologyException: side location conflict at -75.328815953537884 40.595119145679654. This can occur if the input geometry is invalid."
     ]
    }
   ],
   "source": [
    "election_df = add_vest_with_snap_precision(vest18, election_df, '18', population_df, 4)"
   ]
  },
  {
   "cell_type": "code",
   "execution_count": 43,
   "metadata": {},
   "outputs": [
    {
     "name": "stderr",
     "output_type": "stream",
     "text": [
      "100%|██████████| 9167/9167 [00:14<00:00, 650.58it/s] \n"
     ]
    },
    {
     "name": "stdout",
     "output_type": "stream",
     "text": [
      "There are 723 overlaps.\n",
      "There are 2070 holes.\n",
      "Snapping all geometries to a grid with precision 10^( -5 ) to avoid GEOS errors.\n",
      "Identifying overlaps...\n"
     ]
    },
    {
     "name": "stderr",
     "output_type": "stream",
     "text": [
      "100%|██████████| 12277/12277 [00:08<00:00, 1370.97it/s]\n"
     ]
    },
    {
     "name": "stdout",
     "output_type": "stream",
     "text": [
      "Resolving overlaps...\n",
      "Assigning order 2 pieces...\n",
      "Assigning order 3 pieces...\n",
      "Filling gaps...\n"
     ]
    },
    {
     "name": "stderr",
     "output_type": "stream",
     "text": [
      "Gaps to simplify: 100%|██████████| 1153/1153 [59:25<00:00,  3.09s/it]\n",
      "Gaps to fill: 100%|██████████| 393/393 [22:16<00:00,  3.40s/it]\n",
      "100%|██████████| 9167/9167 [00:11<00:00, 784.98it/s] \n"
     ]
    },
    {
     "name": "stdout",
     "output_type": "stream",
     "text": [
      "smart_repair successful\n"
     ]
    }
   ],
   "source": [
    "vest16 = gpd.read_file(vest16_data)\n",
    "if maup.doctor(vest16) != True:\n",
    "    vest16 = do_smart_repair(vest16)"
   ]
  },
  {
   "cell_type": "code",
   "execution_count": 44,
   "metadata": {},
   "outputs": [
    {
     "data": {
      "text/plain": [
       "Index(['STATEFP', 'COUNTYFP', 'VTDST', 'NAME', 'G16PREDCLI', 'G16PRERTRU',\n",
       "       'G16PRELJOH', 'G16PREGSTE', 'G16PRECCAS', 'G16USSDMCG', 'G16USSRTOO',\n",
       "       'G16USSLCLI', 'G16ATGDSHA', 'G16ATGRRAF', 'G16AUDDDEP', 'G16AUDRBRO',\n",
       "       'G16AUDLMIN', 'G16AUDGSWE', 'G16TREDTOR', 'G16TRERVOI', 'G16TRELBAB',\n",
       "       'G16TREGCOM', 'geometry'],\n",
       "      dtype='object')"
      ]
     },
     "execution_count": 44,
     "metadata": {},
     "output_type": "execute_result"
    }
   ],
   "source": [
    "vest16.columns"
   ]
  },
  {
   "cell_type": "code",
   "execution_count": 45,
   "metadata": {},
   "outputs": [],
   "source": [
    "start_col = 4\n",
    "vest_base_data = vest16\n",
    "year = '16'"
   ]
  },
  {
   "cell_type": "code",
   "execution_count": 46,
   "metadata": {},
   "outputs": [],
   "source": [
    "vest_base = add_vest_base(vest_base_data, start_col, year)"
   ]
  },
  {
   "cell_type": "code",
   "execution_count": 47,
   "metadata": {},
   "outputs": [
    {
     "name": "stderr",
     "output_type": "stream",
     "text": [
      "100%|██████████| 9167/9167 [00:14<00:00, 617.07it/s] \n",
      " 78%|███████▊  | 7126/9167 [00:36<00:10, 194.81it/s]\n"
     ]
    },
    {
     "ename": "GEOSException",
     "evalue": "TopologyException: Input geom 1 is invalid: Self-intersection at -75.328815953537884 40.595119145679654",
     "output_type": "error",
     "traceback": [
      "\u001b[0;31m---------------------------------------------------------------------------\u001b[0m",
      "\u001b[0;31mGEOSException\u001b[0m                             Traceback (most recent call last)",
      "\u001b[1;32m/Users/aagarwal/Desktop/Redestring AI/Pennsylvania/pa.ipynb Cell 50\u001b[0m line \u001b[0;36m2\n\u001b[1;32m      <a href='vscode-notebook-cell:/Users/aagarwal/Desktop/Redestring%20AI/Pennsylvania/pa.ipynb#X52sZmlsZQ%3D%3D?line=0'>1</a>\u001b[0m \u001b[39m# vap and population have the same GEOID20\u001b[39;00m\n\u001b[0;32m----> <a href='vscode-notebook-cell:/Users/aagarwal/Desktop/Redestring%20AI/Pennsylvania/pa.ipynb#X52sZmlsZQ%3D%3D?line=1'>2</a>\u001b[0m blocks_to_precincts_assignment \u001b[39m=\u001b[39m maup\u001b[39m.\u001b[39massign(population_df\u001b[39m.\u001b[39mgeometry, vest_base\u001b[39m.\u001b[39mgeometry)\n",
      "File \u001b[0;32m~/anaconda3/envs/gerry/lib/python3.11/site-packages/maup/crs.py:14\u001b[0m, in \u001b[0;36mrequire_same_crs.<locals>.wrapped\u001b[0;34m(*args, **kwargs)\u001b[0m\n\u001b[1;32m      8\u001b[0m \u001b[39mif\u001b[39;00m \u001b[39mnot\u001b[39;00m geoms1\u001b[39m.\u001b[39mcrs \u001b[39m==\u001b[39m geoms2\u001b[39m.\u001b[39mcrs:\n\u001b[1;32m      9\u001b[0m     \u001b[39mraise\u001b[39;00m \u001b[39mTypeError\u001b[39;00m(\n\u001b[1;32m     10\u001b[0m         \u001b[39m\"\u001b[39m\u001b[39mthe source and target geometries must have the same CRS. \u001b[39m\u001b[39m{}\u001b[39;00m\u001b[39m \u001b[39m\u001b[39m{}\u001b[39;00m\u001b[39m\"\u001b[39m\u001b[39m.\u001b[39mformat(\n\u001b[1;32m     11\u001b[0m             geoms1\u001b[39m.\u001b[39mcrs, geoms2\u001b[39m.\u001b[39mcrs\n\u001b[1;32m     12\u001b[0m         )\n\u001b[1;32m     13\u001b[0m     )\n\u001b[0;32m---> 14\u001b[0m \u001b[39mreturn\u001b[39;00m f(\u001b[39m*\u001b[39margs, \u001b[39m*\u001b[39m\u001b[39m*\u001b[39mkwargs)\n",
      "File \u001b[0;32m~/anaconda3/envs/gerry/lib/python3.11/site-packages/maup/assign.py:23\u001b[0m, in \u001b[0;36massign\u001b[0;34m(sources, targets)\u001b[0m\n\u001b[1;32m     19\u001b[0m unassigned \u001b[39m=\u001b[39m sources[assignment\u001b[39m.\u001b[39misna()]\n\u001b[1;32m     21\u001b[0m \u001b[39mif\u001b[39;00m \u001b[39mlen\u001b[39m(unassigned):  \u001b[39m# skip if done\u001b[39;00m\n\u001b[1;32m     22\u001b[0m     assignments_by_area \u001b[39m=\u001b[39m pandas\u001b[39m.\u001b[39mSeries(\n\u001b[0;32m---> 23\u001b[0m         assign_by_area(unassigned, targets),\n\u001b[1;32m     24\u001b[0m         dtype\u001b[39m=\u001b[39m\u001b[39m\"\u001b[39m\u001b[39mfloat\u001b[39m\u001b[39m\"\u001b[39m\n\u001b[1;32m     25\u001b[0m     )\n\u001b[1;32m     26\u001b[0m     assignment\u001b[39m.\u001b[39mupdate(assignments_by_area)\n\u001b[1;32m     28\u001b[0m \u001b[39m# TODO: add a warning here if there are still unassigned source geometries.\u001b[39;00m\n",
      "File \u001b[0;32m~/anaconda3/envs/gerry/lib/python3.11/site-packages/maup/assign.py:38\u001b[0m, in \u001b[0;36massign_by_area\u001b[0;34m(sources, targets)\u001b[0m\n\u001b[1;32m     37\u001b[0m \u001b[39mdef\u001b[39;00m \u001b[39massign_by_area\u001b[39m(sources, targets):\n\u001b[0;32m---> 38\u001b[0m     \u001b[39mreturn\u001b[39;00m assign_to_max(intersections(sources, targets, area_cutoff\u001b[39m=\u001b[39m\u001b[39m0\u001b[39m)\u001b[39m.\u001b[39marea)\n",
      "File \u001b[0;32m~/anaconda3/envs/gerry/lib/python3.11/site-packages/maup/crs.py:14\u001b[0m, in \u001b[0;36mrequire_same_crs.<locals>.wrapped\u001b[0;34m(*args, **kwargs)\u001b[0m\n\u001b[1;32m      8\u001b[0m \u001b[39mif\u001b[39;00m \u001b[39mnot\u001b[39;00m geoms1\u001b[39m.\u001b[39mcrs \u001b[39m==\u001b[39m geoms2\u001b[39m.\u001b[39mcrs:\n\u001b[1;32m      9\u001b[0m     \u001b[39mraise\u001b[39;00m \u001b[39mTypeError\u001b[39;00m(\n\u001b[1;32m     10\u001b[0m         \u001b[39m\"\u001b[39m\u001b[39mthe source and target geometries must have the same CRS. \u001b[39m\u001b[39m{}\u001b[39;00m\u001b[39m \u001b[39m\u001b[39m{}\u001b[39;00m\u001b[39m\"\u001b[39m\u001b[39m.\u001b[39mformat(\n\u001b[1;32m     11\u001b[0m             geoms1\u001b[39m.\u001b[39mcrs, geoms2\u001b[39m.\u001b[39mcrs\n\u001b[1;32m     12\u001b[0m         )\n\u001b[1;32m     13\u001b[0m     )\n\u001b[0;32m---> 14\u001b[0m \u001b[39mreturn\u001b[39;00m f(\u001b[39m*\u001b[39margs, \u001b[39m*\u001b[39m\u001b[39m*\u001b[39mkwargs)\n",
      "File \u001b[0;32m~/anaconda3/envs/gerry/lib/python3.11/site-packages/maup/intersections.py:32\u001b[0m, in \u001b[0;36mintersections\u001b[0;34m(sources, targets, output_type, area_cutoff)\u001b[0m\n\u001b[1;32m     29\u001b[0m reindexed_targets \u001b[39m=\u001b[39m get_geometries_with_range_index(targets)\n\u001b[1;32m     30\u001b[0m spatially_indexed_sources \u001b[39m=\u001b[39m IndexedGeometries(reindexed_sources)\n\u001b[0;32m---> 32\u001b[0m records \u001b[39m=\u001b[39m [\n\u001b[1;32m     33\u001b[0m     \u001b[39m# Flip i, j to j, i so that the index is [\"source\", \"target\"]\u001b[39;00m\n\u001b[1;32m     34\u001b[0m     (sources\u001b[39m.\u001b[39mindex[j], targets\u001b[39m.\u001b[39mindex[i], geometry)\n\u001b[1;32m     35\u001b[0m     \u001b[39mfor\u001b[39;00m i, j, geometry \u001b[39min\u001b[39;00m spatially_indexed_sources\u001b[39m.\u001b[39menumerate_intersections(\n\u001b[1;32m     36\u001b[0m         reindexed_targets\n\u001b[1;32m     37\u001b[0m     )\n\u001b[1;32m     38\u001b[0m ]\n\u001b[1;32m     40\u001b[0m df \u001b[39m=\u001b[39m GeoDataFrame\u001b[39m.\u001b[39mfrom_records(records, columns\u001b[39m=\u001b[39m[\u001b[39m\"\u001b[39m\u001b[39msource\u001b[39m\u001b[39m\"\u001b[39m, \u001b[39m\"\u001b[39m\u001b[39mtarget\u001b[39m\u001b[39m\"\u001b[39m, \u001b[39m\"\u001b[39m\u001b[39mgeometry\u001b[39m\u001b[39m\"\u001b[39m])\n\u001b[1;32m     41\u001b[0m df \u001b[39m=\u001b[39m df\u001b[39m.\u001b[39msort_values(by\u001b[39m=\u001b[39m[\u001b[39m\"\u001b[39m\u001b[39msource\u001b[39m\u001b[39m\"\u001b[39m, \u001b[39m\"\u001b[39m\u001b[39mtarget\u001b[39m\u001b[39m\"\u001b[39m])\u001b[39m.\u001b[39mreset_index(drop\u001b[39m=\u001b[39m\u001b[39mTrue\u001b[39;00m)\n",
      "File \u001b[0;32m~/anaconda3/envs/gerry/lib/python3.11/site-packages/maup/intersections.py:32\u001b[0m, in \u001b[0;36m<listcomp>\u001b[0;34m(.0)\u001b[0m\n\u001b[1;32m     29\u001b[0m reindexed_targets \u001b[39m=\u001b[39m get_geometries_with_range_index(targets)\n\u001b[1;32m     30\u001b[0m spatially_indexed_sources \u001b[39m=\u001b[39m IndexedGeometries(reindexed_sources)\n\u001b[0;32m---> 32\u001b[0m records \u001b[39m=\u001b[39m [\n\u001b[1;32m     33\u001b[0m     \u001b[39m# Flip i, j to j, i so that the index is [\"source\", \"target\"]\u001b[39;00m\n\u001b[1;32m     34\u001b[0m     (sources\u001b[39m.\u001b[39mindex[j], targets\u001b[39m.\u001b[39mindex[i], geometry)\n\u001b[1;32m     35\u001b[0m     \u001b[39mfor\u001b[39;00m i, j, geometry \u001b[39min\u001b[39;00m spatially_indexed_sources\u001b[39m.\u001b[39menumerate_intersections(\n\u001b[1;32m     36\u001b[0m         reindexed_targets\n\u001b[1;32m     37\u001b[0m     )\n\u001b[1;32m     38\u001b[0m ]\n\u001b[1;32m     40\u001b[0m df \u001b[39m=\u001b[39m GeoDataFrame\u001b[39m.\u001b[39mfrom_records(records, columns\u001b[39m=\u001b[39m[\u001b[39m\"\u001b[39m\u001b[39msource\u001b[39m\u001b[39m\"\u001b[39m, \u001b[39m\"\u001b[39m\u001b[39mtarget\u001b[39m\u001b[39m\"\u001b[39m, \u001b[39m\"\u001b[39m\u001b[39mgeometry\u001b[39m\u001b[39m\"\u001b[39m])\n\u001b[1;32m     41\u001b[0m df \u001b[39m=\u001b[39m df\u001b[39m.\u001b[39msort_values(by\u001b[39m=\u001b[39m[\u001b[39m\"\u001b[39m\u001b[39msource\u001b[39m\u001b[39m\"\u001b[39m, \u001b[39m\"\u001b[39m\u001b[39mtarget\u001b[39m\u001b[39m\"\u001b[39m])\u001b[39m.\u001b[39mreset_index(drop\u001b[39m=\u001b[39m\u001b[39mTrue\u001b[39;00m)\n",
      "File \u001b[0;32m~/anaconda3/envs/gerry/lib/python3.11/site-packages/maup/indexed_geometries.py:76\u001b[0m, in \u001b[0;36mIndexedGeometries.enumerate_intersections\u001b[0;34m(self, targets)\u001b[0m\n\u001b[1;32m     74\u001b[0m target_geometries \u001b[39m=\u001b[39m get_geometries(targets)\n\u001b[1;32m     75\u001b[0m \u001b[39mfor\u001b[39;00m i, target \u001b[39min\u001b[39;00m progress(target_geometries\u001b[39m.\u001b[39mitems(), \u001b[39mlen\u001b[39m(target_geometries)):\n\u001b[0;32m---> 76\u001b[0m     \u001b[39mfor\u001b[39;00m j, intersection \u001b[39min\u001b[39;00m \u001b[39mself\u001b[39m\u001b[39m.\u001b[39mintersections(target)\u001b[39m.\u001b[39mitems():\n\u001b[1;32m     77\u001b[0m         \u001b[39myield\u001b[39;00m i, j, intersection\n",
      "File \u001b[0;32m~/anaconda3/envs/gerry/lib/python3.11/site-packages/maup/indexed_geometries.py:33\u001b[0m, in \u001b[0;36mIndexedGeometries.intersections\u001b[0;34m(self, geometry)\u001b[0m\n\u001b[1;32m     31\u001b[0m \u001b[39mdef\u001b[39;00m \u001b[39mintersections\u001b[39m(\u001b[39mself\u001b[39m, geometry):\n\u001b[1;32m     32\u001b[0m     relevant_geometries \u001b[39m=\u001b[39m \u001b[39mself\u001b[39m\u001b[39m.\u001b[39mquery(geometry)\n\u001b[0;32m---> 33\u001b[0m     intersections \u001b[39m=\u001b[39m relevant_geometries\u001b[39m.\u001b[39mintersection(geometry)\n\u001b[1;32m     34\u001b[0m     \u001b[39mreturn\u001b[39;00m intersections[\u001b[39m-\u001b[39m(intersections\u001b[39m.\u001b[39mis_empty \u001b[39m|\u001b[39m intersections\u001b[39m.\u001b[39misna())]\n",
      "File \u001b[0;32m~/anaconda3/envs/gerry/lib/python3.11/site-packages/geopandas/base.py:3266\u001b[0m, in \u001b[0;36mGeoPandasBase.intersection\u001b[0;34m(self, other, align)\u001b[0m\n\u001b[1;32m   3155\u001b[0m \u001b[39mdef\u001b[39;00m \u001b[39mintersection\u001b[39m(\u001b[39mself\u001b[39m, other, align\u001b[39m=\u001b[39m\u001b[39mTrue\u001b[39;00m):\n\u001b[1;32m   3156\u001b[0m \u001b[39m    \u001b[39m\u001b[39m\"\"\"Returns a ``GeoSeries`` of the intersection of points in each\u001b[39;00m\n\u001b[1;32m   3157\u001b[0m \u001b[39m    aligned geometry with `other`.\u001b[39;00m\n\u001b[1;32m   3158\u001b[0m \n\u001b[0;32m   (...)\u001b[0m\n\u001b[1;32m   3264\u001b[0m \u001b[39m    GeoSeries.union\u001b[39;00m\n\u001b[1;32m   3265\u001b[0m \u001b[39m    \"\"\"\u001b[39;00m\n\u001b[0;32m-> 3266\u001b[0m     \u001b[39mreturn\u001b[39;00m _binary_geo(\u001b[39m\"\u001b[39m\u001b[39mintersection\u001b[39m\u001b[39m\"\u001b[39m, \u001b[39mself\u001b[39m, other, align)\n",
      "File \u001b[0;32m~/anaconda3/envs/gerry/lib/python3.11/site-packages/geopandas/base.py:56\u001b[0m, in \u001b[0;36m_binary_geo\u001b[0;34m(op, this, other, align)\u001b[0m\n\u001b[1;32m     53\u001b[0m \u001b[39m\u001b[39m\u001b[39m\"\"\"Binary operation on GeoSeries objects that returns a GeoSeries\"\"\"\u001b[39;00m\n\u001b[1;32m     54\u001b[0m \u001b[39mfrom\u001b[39;00m \u001b[39m.\u001b[39;00m\u001b[39mgeoseries\u001b[39;00m \u001b[39mimport\u001b[39;00m GeoSeries\n\u001b[0;32m---> 56\u001b[0m geoms, index \u001b[39m=\u001b[39m _delegate_binary_method(op, this, other, align)\n\u001b[1;32m     57\u001b[0m \u001b[39mreturn\u001b[39;00m GeoSeries(geoms, index\u001b[39m=\u001b[39mindex, crs\u001b[39m=\u001b[39mthis\u001b[39m.\u001b[39mcrs)\n",
      "File \u001b[0;32m~/anaconda3/envs/gerry/lib/python3.11/site-packages/geopandas/base.py:47\u001b[0m, in \u001b[0;36m_delegate_binary_method\u001b[0;34m(op, this, other, align, *args, **kwargs)\u001b[0m\n\u001b[1;32m     44\u001b[0m \u001b[39melse\u001b[39;00m:\n\u001b[1;32m     45\u001b[0m     \u001b[39mraise\u001b[39;00m \u001b[39mTypeError\u001b[39;00m(\u001b[39mtype\u001b[39m(this), \u001b[39mtype\u001b[39m(other))\n\u001b[0;32m---> 47\u001b[0m data \u001b[39m=\u001b[39m \u001b[39mgetattr\u001b[39m(a_this, op)(other, \u001b[39m*\u001b[39margs, \u001b[39m*\u001b[39m\u001b[39m*\u001b[39mkwargs)\n\u001b[1;32m     48\u001b[0m \u001b[39mreturn\u001b[39;00m data, this\u001b[39m.\u001b[39mindex\n",
      "File \u001b[0;32m~/anaconda3/envs/gerry/lib/python3.11/site-packages/geopandas/array.py:671\u001b[0m, in \u001b[0;36mGeometryArray.intersection\u001b[0;34m(self, other)\u001b[0m\n\u001b[1;32m    669\u001b[0m \u001b[39mdef\u001b[39;00m \u001b[39mintersection\u001b[39m(\u001b[39mself\u001b[39m, other):\n\u001b[1;32m    670\u001b[0m     \u001b[39mreturn\u001b[39;00m GeometryArray(\n\u001b[0;32m--> 671\u001b[0m         \u001b[39mself\u001b[39m\u001b[39m.\u001b[39m_binary_method(\u001b[39m\"\u001b[39m\u001b[39mintersection\u001b[39m\u001b[39m\"\u001b[39m, \u001b[39mself\u001b[39m, other), crs\u001b[39m=\u001b[39m\u001b[39mself\u001b[39m\u001b[39m.\u001b[39mcrs\n\u001b[1;32m    672\u001b[0m     )\n",
      "File \u001b[0;32m~/anaconda3/envs/gerry/lib/python3.11/site-packages/geopandas/array.py:611\u001b[0m, in \u001b[0;36mGeometryArray._binary_method\u001b[0;34m(op, left, right, **kwargs)\u001b[0m\n\u001b[1;32m    608\u001b[0m         _crs_mismatch_warn(left, right, stacklevel\u001b[39m=\u001b[39m\u001b[39m7\u001b[39m)\n\u001b[1;32m    609\u001b[0m     right \u001b[39m=\u001b[39m right\u001b[39m.\u001b[39m_data\n\u001b[0;32m--> 611\u001b[0m \u001b[39mreturn\u001b[39;00m \u001b[39mgetattr\u001b[39m(vectorized, op)(left\u001b[39m.\u001b[39m_data, right, \u001b[39m*\u001b[39m\u001b[39m*\u001b[39mkwargs)\n",
      "File \u001b[0;32m~/anaconda3/envs/gerry/lib/python3.11/site-packages/geopandas/_vectorized.py:938\u001b[0m, in \u001b[0;36mintersection\u001b[0;34m(data, other)\u001b[0m\n\u001b[1;32m    936\u001b[0m \u001b[39mdef\u001b[39;00m \u001b[39mintersection\u001b[39m(data, other):\n\u001b[1;32m    937\u001b[0m     \u001b[39mif\u001b[39;00m compat\u001b[39m.\u001b[39mUSE_SHAPELY_20:\n\u001b[0;32m--> 938\u001b[0m         \u001b[39mreturn\u001b[39;00m shapely\u001b[39m.\u001b[39mintersection(data, other)\n\u001b[1;32m    939\u001b[0m     \u001b[39melif\u001b[39;00m compat\u001b[39m.\u001b[39mUSE_PYGEOS:\n\u001b[1;32m    940\u001b[0m         \u001b[39mreturn\u001b[39;00m _binary_method(\u001b[39m\"\u001b[39m\u001b[39mintersection\u001b[39m\u001b[39m\"\u001b[39m, data, other)\n",
      "File \u001b[0;32m~/anaconda3/envs/gerry/lib/python3.11/site-packages/shapely/decorators.py:77\u001b[0m, in \u001b[0;36mmultithreading_enabled.<locals>.wrapped\u001b[0;34m(*args, **kwargs)\u001b[0m\n\u001b[1;32m     75\u001b[0m     \u001b[39mfor\u001b[39;00m arr \u001b[39min\u001b[39;00m array_args:\n\u001b[1;32m     76\u001b[0m         arr\u001b[39m.\u001b[39mflags\u001b[39m.\u001b[39mwriteable \u001b[39m=\u001b[39m \u001b[39mFalse\u001b[39;00m\n\u001b[0;32m---> 77\u001b[0m     \u001b[39mreturn\u001b[39;00m func(\u001b[39m*\u001b[39margs, \u001b[39m*\u001b[39m\u001b[39m*\u001b[39mkwargs)\n\u001b[1;32m     78\u001b[0m \u001b[39mfinally\u001b[39;00m:\n\u001b[1;32m     79\u001b[0m     \u001b[39mfor\u001b[39;00m arr, old_flag \u001b[39min\u001b[39;00m \u001b[39mzip\u001b[39m(array_args, old_flags):\n",
      "File \u001b[0;32m~/anaconda3/envs/gerry/lib/python3.11/site-packages/shapely/set_operations.py:131\u001b[0m, in \u001b[0;36mintersection\u001b[0;34m(a, b, grid_size, **kwargs)\u001b[0m\n\u001b[1;32m    127\u001b[0m         \u001b[39mraise\u001b[39;00m \u001b[39mValueError\u001b[39;00m(\u001b[39m\"\u001b[39m\u001b[39mgrid_size parameter only accepts scalar values\u001b[39m\u001b[39m\"\u001b[39m)\n\u001b[1;32m    129\u001b[0m     \u001b[39mreturn\u001b[39;00m lib\u001b[39m.\u001b[39mintersection_prec(a, b, grid_size, \u001b[39m*\u001b[39m\u001b[39m*\u001b[39mkwargs)\n\u001b[0;32m--> 131\u001b[0m \u001b[39mreturn\u001b[39;00m lib\u001b[39m.\u001b[39mintersection(a, b, \u001b[39m*\u001b[39m\u001b[39m*\u001b[39mkwargs)\n",
      "\u001b[0;31mGEOSException\u001b[0m: TopologyException: Input geom 1 is invalid: Self-intersection at -75.328815953537884 40.595119145679654"
     ]
    }
   ],
   "source": [
    "# vap and population have the same GEOID20\n",
    "blocks_to_precincts_assignment = maup.assign(population_df.geometry, vest_base.geometry)"
   ]
  },
  {
   "cell_type": "code",
   "execution_count": 49,
   "metadata": {},
   "outputs": [],
   "source": [
    "vest16 = gpd.read_file(vest16_data)"
   ]
  },
  {
   "cell_type": "code",
   "execution_count": 50,
   "metadata": {},
   "outputs": [
    {
     "name": "stderr",
     "output_type": "stream",
     "text": [
      "100%|██████████| 9167/9167 [00:20<00:00, 447.18it/s]\n"
     ]
    },
    {
     "name": "stdout",
     "output_type": "stream",
     "text": [
      "There are 723 overlaps.\n",
      "There are 2070 holes.\n",
      "Snapping all geometries to a grid with precision 10^( -3 ) to avoid GEOS errors.\n",
      "Identifying overlaps...\n"
     ]
    },
    {
     "name": "stderr",
     "output_type": "stream",
     "text": [
      "100%|██████████| 11831/11831 [00:12<00:00, 952.33it/s] \n"
     ]
    },
    {
     "name": "stdout",
     "output_type": "stream",
     "text": [
      "Resolving overlaps...\n",
      "Assigning order 2 pieces...\n",
      "Assigning order 3 pieces...\n",
      "Filling gaps...\n"
     ]
    },
    {
     "name": "stderr",
     "output_type": "stream",
     "text": [
      "Gaps to simplify: 100%|██████████| 1004/1004 [1:10:11<00:00,  4.19s/it]\n",
      "Gaps to fill: 100%|██████████| 388/388 [20:24<00:00,  3.16s/it]\n",
      "100%|██████████| 9167/9167 [00:11<00:00, 796.32it/s] \n"
     ]
    },
    {
     "name": "stdout",
     "output_type": "stream",
     "text": [
      "smart_repair successful\n"
     ]
    },
    {
     "name": "stderr",
     "output_type": "stream",
     "text": [
      "100%|██████████| 9167/9167 [00:14<00:00, 621.90it/s] \n",
      "100%|██████████| 9167/9167 [00:48<00:00, 190.11it/s]\n",
      "100%|██████████| 9160/9160 [00:14<00:00, 639.86it/s] \n",
      " 78%|███████▊  | 7123/9160 [00:36<00:10, 195.80it/s]\n"
     ]
    },
    {
     "ename": "GEOSException",
     "evalue": "TopologyException: Input geom 1 is invalid: Self-intersection at -75.328815953537884 40.595119145679654",
     "output_type": "error",
     "traceback": [
      "\u001b[0;31m---------------------------------------------------------------------------\u001b[0m",
      "\u001b[0;31mGEOSException\u001b[0m                             Traceback (most recent call last)",
      "\u001b[1;32m/Users/aagarwal/Desktop/Redestring AI/Pennsylvania/pa.ipynb Cell 53\u001b[0m line \u001b[0;36m1\n\u001b[0;32m----> <a href='vscode-notebook-cell:/Users/aagarwal/Desktop/Redestring%20AI/Pennsylvania/pa.ipynb#Y150sZmlsZQ%3D%3D?line=0'>1</a>\u001b[0m election_df \u001b[39m=\u001b[39m add_vest_with_snap_precision(vest16, election_df, \u001b[39m'\u001b[39m\u001b[39m16\u001b[39m\u001b[39m'\u001b[39m, population_df, start_col)\n",
      "\u001b[1;32m/Users/aagarwal/Desktop/Redestring AI/Pennsylvania/pa.ipynb Cell 53\u001b[0m line \u001b[0;36m2\n\u001b[1;32m     <a href='vscode-notebook-cell:/Users/aagarwal/Desktop/Redestring%20AI/Pennsylvania/pa.ipynb#Y150sZmlsZQ%3D%3D?line=25'>26</a>\u001b[0m election_in_block \u001b[39m=\u001b[39m gpd\u001b[39m.\u001b[39mGeoDataFrame(election_in_block, crs\u001b[39m=\u001b[39m\u001b[39m\"\u001b[39m\u001b[39mEPSG:4269\u001b[39m\u001b[39m\"\u001b[39m)\n\u001b[1;32m     <a href='vscode-notebook-cell:/Users/aagarwal/Desktop/Redestring%20AI/Pennsylvania/pa.ipynb#Y150sZmlsZQ%3D%3D?line=26'>27</a>\u001b[0m df \u001b[39m=\u001b[39m gpd\u001b[39m.\u001b[39mGeoDataFrame(df, crs\u001b[39m=\u001b[39m\u001b[39m\"\u001b[39m\u001b[39mEPSG:4269\u001b[39m\u001b[39m\"\u001b[39m)\n\u001b[0;32m---> <a href='vscode-notebook-cell:/Users/aagarwal/Desktop/Redestring%20AI/Pennsylvania/pa.ipynb#Y150sZmlsZQ%3D%3D?line=27'>28</a>\u001b[0m block_to_pricinct_assginment \u001b[39m=\u001b[39m maup\u001b[39m.\u001b[39massign(election_in_block\u001b[39m.\u001b[39mgeometry, df\u001b[39m.\u001b[39mgeometry)\n\u001b[1;32m     <a href='vscode-notebook-cell:/Users/aagarwal/Desktop/Redestring%20AI/Pennsylvania/pa.ipynb#Y150sZmlsZQ%3D%3D?line=28'>29</a>\u001b[0m df[col_name] \u001b[39m=\u001b[39m election_in_block[col_name]\u001b[39m.\u001b[39mgroupby(block_to_pricinct_assginment)\u001b[39m.\u001b[39msum()\n\u001b[1;32m     <a href='vscode-notebook-cell:/Users/aagarwal/Desktop/Redestring%20AI/Pennsylvania/pa.ipynb#Y150sZmlsZQ%3D%3D?line=29'>30</a>\u001b[0m df \u001b[39m=\u001b[39m df\u001b[39m.\u001b[39mgroupby(level\u001b[39m=\u001b[39m\u001b[39m0\u001b[39m, axis\u001b[39m=\u001b[39m\u001b[39m1\u001b[39m)\u001b[39m.\u001b[39msum()\n",
      "File \u001b[0;32m~/anaconda3/envs/gerry/lib/python3.11/site-packages/maup/crs.py:14\u001b[0m, in \u001b[0;36mrequire_same_crs.<locals>.wrapped\u001b[0;34m(*args, **kwargs)\u001b[0m\n\u001b[1;32m      8\u001b[0m \u001b[39mif\u001b[39;00m \u001b[39mnot\u001b[39;00m geoms1\u001b[39m.\u001b[39mcrs \u001b[39m==\u001b[39m geoms2\u001b[39m.\u001b[39mcrs:\n\u001b[1;32m      9\u001b[0m     \u001b[39mraise\u001b[39;00m \u001b[39mTypeError\u001b[39;00m(\n\u001b[1;32m     10\u001b[0m         \u001b[39m\"\u001b[39m\u001b[39mthe source and target geometries must have the same CRS. \u001b[39m\u001b[39m{}\u001b[39;00m\u001b[39m \u001b[39m\u001b[39m{}\u001b[39;00m\u001b[39m\"\u001b[39m\u001b[39m.\u001b[39mformat(\n\u001b[1;32m     11\u001b[0m             geoms1\u001b[39m.\u001b[39mcrs, geoms2\u001b[39m.\u001b[39mcrs\n\u001b[1;32m     12\u001b[0m         )\n\u001b[1;32m     13\u001b[0m     )\n\u001b[0;32m---> 14\u001b[0m \u001b[39mreturn\u001b[39;00m f(\u001b[39m*\u001b[39margs, \u001b[39m*\u001b[39m\u001b[39m*\u001b[39mkwargs)\n",
      "File \u001b[0;32m~/anaconda3/envs/gerry/lib/python3.11/site-packages/maup/assign.py:23\u001b[0m, in \u001b[0;36massign\u001b[0;34m(sources, targets)\u001b[0m\n\u001b[1;32m     19\u001b[0m unassigned \u001b[39m=\u001b[39m sources[assignment\u001b[39m.\u001b[39misna()]\n\u001b[1;32m     21\u001b[0m \u001b[39mif\u001b[39;00m \u001b[39mlen\u001b[39m(unassigned):  \u001b[39m# skip if done\u001b[39;00m\n\u001b[1;32m     22\u001b[0m     assignments_by_area \u001b[39m=\u001b[39m pandas\u001b[39m.\u001b[39mSeries(\n\u001b[0;32m---> 23\u001b[0m         assign_by_area(unassigned, targets),\n\u001b[1;32m     24\u001b[0m         dtype\u001b[39m=\u001b[39m\u001b[39m\"\u001b[39m\u001b[39mfloat\u001b[39m\u001b[39m\"\u001b[39m\n\u001b[1;32m     25\u001b[0m     )\n\u001b[1;32m     26\u001b[0m     assignment\u001b[39m.\u001b[39mupdate(assignments_by_area)\n\u001b[1;32m     28\u001b[0m \u001b[39m# TODO: add a warning here if there are still unassigned source geometries.\u001b[39;00m\n",
      "File \u001b[0;32m~/anaconda3/envs/gerry/lib/python3.11/site-packages/maup/assign.py:38\u001b[0m, in \u001b[0;36massign_by_area\u001b[0;34m(sources, targets)\u001b[0m\n\u001b[1;32m     37\u001b[0m \u001b[39mdef\u001b[39;00m \u001b[39massign_by_area\u001b[39m(sources, targets):\n\u001b[0;32m---> 38\u001b[0m     \u001b[39mreturn\u001b[39;00m assign_to_max(intersections(sources, targets, area_cutoff\u001b[39m=\u001b[39m\u001b[39m0\u001b[39m)\u001b[39m.\u001b[39marea)\n",
      "File \u001b[0;32m~/anaconda3/envs/gerry/lib/python3.11/site-packages/maup/crs.py:14\u001b[0m, in \u001b[0;36mrequire_same_crs.<locals>.wrapped\u001b[0;34m(*args, **kwargs)\u001b[0m\n\u001b[1;32m      8\u001b[0m \u001b[39mif\u001b[39;00m \u001b[39mnot\u001b[39;00m geoms1\u001b[39m.\u001b[39mcrs \u001b[39m==\u001b[39m geoms2\u001b[39m.\u001b[39mcrs:\n\u001b[1;32m      9\u001b[0m     \u001b[39mraise\u001b[39;00m \u001b[39mTypeError\u001b[39;00m(\n\u001b[1;32m     10\u001b[0m         \u001b[39m\"\u001b[39m\u001b[39mthe source and target geometries must have the same CRS. \u001b[39m\u001b[39m{}\u001b[39;00m\u001b[39m \u001b[39m\u001b[39m{}\u001b[39;00m\u001b[39m\"\u001b[39m\u001b[39m.\u001b[39mformat(\n\u001b[1;32m     11\u001b[0m             geoms1\u001b[39m.\u001b[39mcrs, geoms2\u001b[39m.\u001b[39mcrs\n\u001b[1;32m     12\u001b[0m         )\n\u001b[1;32m     13\u001b[0m     )\n\u001b[0;32m---> 14\u001b[0m \u001b[39mreturn\u001b[39;00m f(\u001b[39m*\u001b[39margs, \u001b[39m*\u001b[39m\u001b[39m*\u001b[39mkwargs)\n",
      "File \u001b[0;32m~/anaconda3/envs/gerry/lib/python3.11/site-packages/maup/intersections.py:32\u001b[0m, in \u001b[0;36mintersections\u001b[0;34m(sources, targets, output_type, area_cutoff)\u001b[0m\n\u001b[1;32m     29\u001b[0m reindexed_targets \u001b[39m=\u001b[39m get_geometries_with_range_index(targets)\n\u001b[1;32m     30\u001b[0m spatially_indexed_sources \u001b[39m=\u001b[39m IndexedGeometries(reindexed_sources)\n\u001b[0;32m---> 32\u001b[0m records \u001b[39m=\u001b[39m [\n\u001b[1;32m     33\u001b[0m     \u001b[39m# Flip i, j to j, i so that the index is [\"source\", \"target\"]\u001b[39;00m\n\u001b[1;32m     34\u001b[0m     (sources\u001b[39m.\u001b[39mindex[j], targets\u001b[39m.\u001b[39mindex[i], geometry)\n\u001b[1;32m     35\u001b[0m     \u001b[39mfor\u001b[39;00m i, j, geometry \u001b[39min\u001b[39;00m spatially_indexed_sources\u001b[39m.\u001b[39menumerate_intersections(\n\u001b[1;32m     36\u001b[0m         reindexed_targets\n\u001b[1;32m     37\u001b[0m     )\n\u001b[1;32m     38\u001b[0m ]\n\u001b[1;32m     40\u001b[0m df \u001b[39m=\u001b[39m GeoDataFrame\u001b[39m.\u001b[39mfrom_records(records, columns\u001b[39m=\u001b[39m[\u001b[39m\"\u001b[39m\u001b[39msource\u001b[39m\u001b[39m\"\u001b[39m, \u001b[39m\"\u001b[39m\u001b[39mtarget\u001b[39m\u001b[39m\"\u001b[39m, \u001b[39m\"\u001b[39m\u001b[39mgeometry\u001b[39m\u001b[39m\"\u001b[39m])\n\u001b[1;32m     41\u001b[0m df \u001b[39m=\u001b[39m df\u001b[39m.\u001b[39msort_values(by\u001b[39m=\u001b[39m[\u001b[39m\"\u001b[39m\u001b[39msource\u001b[39m\u001b[39m\"\u001b[39m, \u001b[39m\"\u001b[39m\u001b[39mtarget\u001b[39m\u001b[39m\"\u001b[39m])\u001b[39m.\u001b[39mreset_index(drop\u001b[39m=\u001b[39m\u001b[39mTrue\u001b[39;00m)\n",
      "File \u001b[0;32m~/anaconda3/envs/gerry/lib/python3.11/site-packages/maup/intersections.py:32\u001b[0m, in \u001b[0;36m<listcomp>\u001b[0;34m(.0)\u001b[0m\n\u001b[1;32m     29\u001b[0m reindexed_targets \u001b[39m=\u001b[39m get_geometries_with_range_index(targets)\n\u001b[1;32m     30\u001b[0m spatially_indexed_sources \u001b[39m=\u001b[39m IndexedGeometries(reindexed_sources)\n\u001b[0;32m---> 32\u001b[0m records \u001b[39m=\u001b[39m [\n\u001b[1;32m     33\u001b[0m     \u001b[39m# Flip i, j to j, i so that the index is [\"source\", \"target\"]\u001b[39;00m\n\u001b[1;32m     34\u001b[0m     (sources\u001b[39m.\u001b[39mindex[j], targets\u001b[39m.\u001b[39mindex[i], geometry)\n\u001b[1;32m     35\u001b[0m     \u001b[39mfor\u001b[39;00m i, j, geometry \u001b[39min\u001b[39;00m spatially_indexed_sources\u001b[39m.\u001b[39menumerate_intersections(\n\u001b[1;32m     36\u001b[0m         reindexed_targets\n\u001b[1;32m     37\u001b[0m     )\n\u001b[1;32m     38\u001b[0m ]\n\u001b[1;32m     40\u001b[0m df \u001b[39m=\u001b[39m GeoDataFrame\u001b[39m.\u001b[39mfrom_records(records, columns\u001b[39m=\u001b[39m[\u001b[39m\"\u001b[39m\u001b[39msource\u001b[39m\u001b[39m\"\u001b[39m, \u001b[39m\"\u001b[39m\u001b[39mtarget\u001b[39m\u001b[39m\"\u001b[39m, \u001b[39m\"\u001b[39m\u001b[39mgeometry\u001b[39m\u001b[39m\"\u001b[39m])\n\u001b[1;32m     41\u001b[0m df \u001b[39m=\u001b[39m df\u001b[39m.\u001b[39msort_values(by\u001b[39m=\u001b[39m[\u001b[39m\"\u001b[39m\u001b[39msource\u001b[39m\u001b[39m\"\u001b[39m, \u001b[39m\"\u001b[39m\u001b[39mtarget\u001b[39m\u001b[39m\"\u001b[39m])\u001b[39m.\u001b[39mreset_index(drop\u001b[39m=\u001b[39m\u001b[39mTrue\u001b[39;00m)\n",
      "File \u001b[0;32m~/anaconda3/envs/gerry/lib/python3.11/site-packages/maup/indexed_geometries.py:76\u001b[0m, in \u001b[0;36mIndexedGeometries.enumerate_intersections\u001b[0;34m(self, targets)\u001b[0m\n\u001b[1;32m     74\u001b[0m target_geometries \u001b[39m=\u001b[39m get_geometries(targets)\n\u001b[1;32m     75\u001b[0m \u001b[39mfor\u001b[39;00m i, target \u001b[39min\u001b[39;00m progress(target_geometries\u001b[39m.\u001b[39mitems(), \u001b[39mlen\u001b[39m(target_geometries)):\n\u001b[0;32m---> 76\u001b[0m     \u001b[39mfor\u001b[39;00m j, intersection \u001b[39min\u001b[39;00m \u001b[39mself\u001b[39m\u001b[39m.\u001b[39mintersections(target)\u001b[39m.\u001b[39mitems():\n\u001b[1;32m     77\u001b[0m         \u001b[39myield\u001b[39;00m i, j, intersection\n",
      "File \u001b[0;32m~/anaconda3/envs/gerry/lib/python3.11/site-packages/maup/indexed_geometries.py:33\u001b[0m, in \u001b[0;36mIndexedGeometries.intersections\u001b[0;34m(self, geometry)\u001b[0m\n\u001b[1;32m     31\u001b[0m \u001b[39mdef\u001b[39;00m \u001b[39mintersections\u001b[39m(\u001b[39mself\u001b[39m, geometry):\n\u001b[1;32m     32\u001b[0m     relevant_geometries \u001b[39m=\u001b[39m \u001b[39mself\u001b[39m\u001b[39m.\u001b[39mquery(geometry)\n\u001b[0;32m---> 33\u001b[0m     intersections \u001b[39m=\u001b[39m relevant_geometries\u001b[39m.\u001b[39mintersection(geometry)\n\u001b[1;32m     34\u001b[0m     \u001b[39mreturn\u001b[39;00m intersections[\u001b[39m-\u001b[39m(intersections\u001b[39m.\u001b[39mis_empty \u001b[39m|\u001b[39m intersections\u001b[39m.\u001b[39misna())]\n",
      "File \u001b[0;32m~/anaconda3/envs/gerry/lib/python3.11/site-packages/geopandas/base.py:3266\u001b[0m, in \u001b[0;36mGeoPandasBase.intersection\u001b[0;34m(self, other, align)\u001b[0m\n\u001b[1;32m   3155\u001b[0m \u001b[39mdef\u001b[39;00m \u001b[39mintersection\u001b[39m(\u001b[39mself\u001b[39m, other, align\u001b[39m=\u001b[39m\u001b[39mTrue\u001b[39;00m):\n\u001b[1;32m   3156\u001b[0m \u001b[39m    \u001b[39m\u001b[39m\"\"\"Returns a ``GeoSeries`` of the intersection of points in each\u001b[39;00m\n\u001b[1;32m   3157\u001b[0m \u001b[39m    aligned geometry with `other`.\u001b[39;00m\n\u001b[1;32m   3158\u001b[0m \n\u001b[0;32m   (...)\u001b[0m\n\u001b[1;32m   3264\u001b[0m \u001b[39m    GeoSeries.union\u001b[39;00m\n\u001b[1;32m   3265\u001b[0m \u001b[39m    \"\"\"\u001b[39;00m\n\u001b[0;32m-> 3266\u001b[0m     \u001b[39mreturn\u001b[39;00m _binary_geo(\u001b[39m\"\u001b[39m\u001b[39mintersection\u001b[39m\u001b[39m\"\u001b[39m, \u001b[39mself\u001b[39m, other, align)\n",
      "File \u001b[0;32m~/anaconda3/envs/gerry/lib/python3.11/site-packages/geopandas/base.py:56\u001b[0m, in \u001b[0;36m_binary_geo\u001b[0;34m(op, this, other, align)\u001b[0m\n\u001b[1;32m     53\u001b[0m \u001b[39m\u001b[39m\u001b[39m\"\"\"Binary operation on GeoSeries objects that returns a GeoSeries\"\"\"\u001b[39;00m\n\u001b[1;32m     54\u001b[0m \u001b[39mfrom\u001b[39;00m \u001b[39m.\u001b[39;00m\u001b[39mgeoseries\u001b[39;00m \u001b[39mimport\u001b[39;00m GeoSeries\n\u001b[0;32m---> 56\u001b[0m geoms, index \u001b[39m=\u001b[39m _delegate_binary_method(op, this, other, align)\n\u001b[1;32m     57\u001b[0m \u001b[39mreturn\u001b[39;00m GeoSeries(geoms, index\u001b[39m=\u001b[39mindex, crs\u001b[39m=\u001b[39mthis\u001b[39m.\u001b[39mcrs)\n",
      "File \u001b[0;32m~/anaconda3/envs/gerry/lib/python3.11/site-packages/geopandas/base.py:47\u001b[0m, in \u001b[0;36m_delegate_binary_method\u001b[0;34m(op, this, other, align, *args, **kwargs)\u001b[0m\n\u001b[1;32m     44\u001b[0m \u001b[39melse\u001b[39;00m:\n\u001b[1;32m     45\u001b[0m     \u001b[39mraise\u001b[39;00m \u001b[39mTypeError\u001b[39;00m(\u001b[39mtype\u001b[39m(this), \u001b[39mtype\u001b[39m(other))\n\u001b[0;32m---> 47\u001b[0m data \u001b[39m=\u001b[39m \u001b[39mgetattr\u001b[39m(a_this, op)(other, \u001b[39m*\u001b[39margs, \u001b[39m*\u001b[39m\u001b[39m*\u001b[39mkwargs)\n\u001b[1;32m     48\u001b[0m \u001b[39mreturn\u001b[39;00m data, this\u001b[39m.\u001b[39mindex\n",
      "File \u001b[0;32m~/anaconda3/envs/gerry/lib/python3.11/site-packages/geopandas/array.py:671\u001b[0m, in \u001b[0;36mGeometryArray.intersection\u001b[0;34m(self, other)\u001b[0m\n\u001b[1;32m    669\u001b[0m \u001b[39mdef\u001b[39;00m \u001b[39mintersection\u001b[39m(\u001b[39mself\u001b[39m, other):\n\u001b[1;32m    670\u001b[0m     \u001b[39mreturn\u001b[39;00m GeometryArray(\n\u001b[0;32m--> 671\u001b[0m         \u001b[39mself\u001b[39m\u001b[39m.\u001b[39m_binary_method(\u001b[39m\"\u001b[39m\u001b[39mintersection\u001b[39m\u001b[39m\"\u001b[39m, \u001b[39mself\u001b[39m, other), crs\u001b[39m=\u001b[39m\u001b[39mself\u001b[39m\u001b[39m.\u001b[39mcrs\n\u001b[1;32m    672\u001b[0m     )\n",
      "File \u001b[0;32m~/anaconda3/envs/gerry/lib/python3.11/site-packages/geopandas/array.py:611\u001b[0m, in \u001b[0;36mGeometryArray._binary_method\u001b[0;34m(op, left, right, **kwargs)\u001b[0m\n\u001b[1;32m    608\u001b[0m         _crs_mismatch_warn(left, right, stacklevel\u001b[39m=\u001b[39m\u001b[39m7\u001b[39m)\n\u001b[1;32m    609\u001b[0m     right \u001b[39m=\u001b[39m right\u001b[39m.\u001b[39m_data\n\u001b[0;32m--> 611\u001b[0m \u001b[39mreturn\u001b[39;00m \u001b[39mgetattr\u001b[39m(vectorized, op)(left\u001b[39m.\u001b[39m_data, right, \u001b[39m*\u001b[39m\u001b[39m*\u001b[39mkwargs)\n",
      "File \u001b[0;32m~/anaconda3/envs/gerry/lib/python3.11/site-packages/geopandas/_vectorized.py:938\u001b[0m, in \u001b[0;36mintersection\u001b[0;34m(data, other)\u001b[0m\n\u001b[1;32m    936\u001b[0m \u001b[39mdef\u001b[39;00m \u001b[39mintersection\u001b[39m(data, other):\n\u001b[1;32m    937\u001b[0m     \u001b[39mif\u001b[39;00m compat\u001b[39m.\u001b[39mUSE_SHAPELY_20:\n\u001b[0;32m--> 938\u001b[0m         \u001b[39mreturn\u001b[39;00m shapely\u001b[39m.\u001b[39mintersection(data, other)\n\u001b[1;32m    939\u001b[0m     \u001b[39melif\u001b[39;00m compat\u001b[39m.\u001b[39mUSE_PYGEOS:\n\u001b[1;32m    940\u001b[0m         \u001b[39mreturn\u001b[39;00m _binary_method(\u001b[39m\"\u001b[39m\u001b[39mintersection\u001b[39m\u001b[39m\"\u001b[39m, data, other)\n",
      "File \u001b[0;32m~/anaconda3/envs/gerry/lib/python3.11/site-packages/shapely/decorators.py:77\u001b[0m, in \u001b[0;36mmultithreading_enabled.<locals>.wrapped\u001b[0;34m(*args, **kwargs)\u001b[0m\n\u001b[1;32m     75\u001b[0m     \u001b[39mfor\u001b[39;00m arr \u001b[39min\u001b[39;00m array_args:\n\u001b[1;32m     76\u001b[0m         arr\u001b[39m.\u001b[39mflags\u001b[39m.\u001b[39mwriteable \u001b[39m=\u001b[39m \u001b[39mFalse\u001b[39;00m\n\u001b[0;32m---> 77\u001b[0m     \u001b[39mreturn\u001b[39;00m func(\u001b[39m*\u001b[39margs, \u001b[39m*\u001b[39m\u001b[39m*\u001b[39mkwargs)\n\u001b[1;32m     78\u001b[0m \u001b[39mfinally\u001b[39;00m:\n\u001b[1;32m     79\u001b[0m     \u001b[39mfor\u001b[39;00m arr, old_flag \u001b[39min\u001b[39;00m \u001b[39mzip\u001b[39m(array_args, old_flags):\n",
      "File \u001b[0;32m~/anaconda3/envs/gerry/lib/python3.11/site-packages/shapely/set_operations.py:131\u001b[0m, in \u001b[0;36mintersection\u001b[0;34m(a, b, grid_size, **kwargs)\u001b[0m\n\u001b[1;32m    127\u001b[0m         \u001b[39mraise\u001b[39;00m \u001b[39mValueError\u001b[39;00m(\u001b[39m\"\u001b[39m\u001b[39mgrid_size parameter only accepts scalar values\u001b[39m\u001b[39m\"\u001b[39m)\n\u001b[1;32m    129\u001b[0m     \u001b[39mreturn\u001b[39;00m lib\u001b[39m.\u001b[39mintersection_prec(a, b, grid_size, \u001b[39m*\u001b[39m\u001b[39m*\u001b[39mkwargs)\n\u001b[0;32m--> 131\u001b[0m \u001b[39mreturn\u001b[39;00m lib\u001b[39m.\u001b[39mintersection(a, b, \u001b[39m*\u001b[39m\u001b[39m*\u001b[39mkwargs)\n",
      "\u001b[0;31mGEOSException\u001b[0m: TopologyException: Input geom 1 is invalid: Self-intersection at -75.328815953537884 40.595119145679654"
     ]
    }
   ],
   "source": [
    "election_df = add_vest_with_snap_precision(vest16, election_df, '16', population_df, start_col)"
   ]
  },
  {
   "cell_type": "markdown",
   "metadata": {},
   "source": [
    "##  Add the district data"
   ]
  },
  {
   "cell_type": "code",
   "execution_count": 51,
   "metadata": {},
   "outputs": [],
   "source": [
    "send = gpd.read_file(send_data)\n",
    "hdist = gpd.read_file(hdist_data)"
   ]
  },
  {
   "cell_type": "code",
   "execution_count": 52,
   "metadata": {},
   "outputs": [
    {
     "data": {
      "text/html": [
       "<div>\n",
       "<style scoped>\n",
       "    .dataframe tbody tr th:only-of-type {\n",
       "        vertical-align: middle;\n",
       "    }\n",
       "\n",
       "    .dataframe tbody tr th {\n",
       "        vertical-align: top;\n",
       "    }\n",
       "\n",
       "    .dataframe thead th {\n",
       "        text-align: right;\n",
       "    }\n",
       "</style>\n",
       "<table border=\"1\" class=\"dataframe\">\n",
       "  <thead>\n",
       "    <tr style=\"text-align: right;\">\n",
       "      <th></th>\n",
       "      <th>ID</th>\n",
       "      <th>AREA</th>\n",
       "      <th>DISTRICT</th>\n",
       "      <th>geometry</th>\n",
       "    </tr>\n",
       "  </thead>\n",
       "  <tbody>\n",
       "    <tr>\n",
       "      <th>0</th>\n",
       "      <td>2</td>\n",
       "      <td>67.39</td>\n",
       "      <td>2</td>\n",
       "      <td>POLYGON ((-74.97398 40.04859, -74.97743 40.045...</td>\n",
       "    </tr>\n",
       "    <tr>\n",
       "      <th>1</th>\n",
       "      <td>3</td>\n",
       "      <td>2836.43</td>\n",
       "      <td>8</td>\n",
       "      <td>POLYGON ((-75.33468 41.97021, -75.33425 41.970...</td>\n",
       "    </tr>\n",
       "    <tr>\n",
       "      <th>2</th>\n",
       "      <td>5</td>\n",
       "      <td>1183.00</td>\n",
       "      <td>7</td>\n",
       "      <td>POLYGON ((-75.58984 40.48466, -75.59184 40.485...</td>\n",
       "    </tr>\n",
       "    <tr>\n",
       "      <th>3</th>\n",
       "      <td>8</td>\n",
       "      <td>54.74</td>\n",
       "      <td>3</td>\n",
       "      <td>POLYGON ((-75.22066 40.00394, -75.21923 40.004...</td>\n",
       "    </tr>\n",
       "    <tr>\n",
       "      <th>4</th>\n",
       "      <td>10</td>\n",
       "      <td>717.30</td>\n",
       "      <td>1</td>\n",
       "      <td>POLYGON ((-75.19680 40.60858, -75.19671 40.608...</td>\n",
       "    </tr>\n",
       "  </tbody>\n",
       "</table>\n",
       "</div>"
      ],
      "text/plain": [
       "   ID     AREA DISTRICT                                           geometry\n",
       "0   2    67.39        2  POLYGON ((-74.97398 40.04859, -74.97743 40.045...\n",
       "1   3  2836.43        8  POLYGON ((-75.33468 41.97021, -75.33425 41.970...\n",
       "2   5  1183.00        7  POLYGON ((-75.58984 40.48466, -75.59184 40.485...\n",
       "3   8    54.74        3  POLYGON ((-75.22066 40.00394, -75.21923 40.004...\n",
       "4  10   717.30        1  POLYGON ((-75.19680 40.60858, -75.19671 40.608..."
      ]
     },
     "execution_count": 52,
     "metadata": {},
     "output_type": "execute_result"
    }
   ],
   "source": [
    "cong_df.head()"
   ]
  },
  {
   "cell_type": "code",
   "execution_count": 53,
   "metadata": {},
   "outputs": [
    {
     "name": "stderr",
     "output_type": "stream",
     "text": [
      "100%|██████████| 17/17 [00:00<00:00, 33.41it/s]\n",
      "100%|██████████| 17/17 [00:00<00:00, 35.95it/s]\n",
      " 12%|█▏        | 2/17 [00:00<00:02,  6.26it/s]\n"
     ]
    },
    {
     "ename": "GEOSException",
     "evalue": "TopologyException: Input geom 0 is invalid: Self-intersection at -75.328815953537884 40.595119145679654",
     "output_type": "error",
     "traceback": [
      "\u001b[0;31m---------------------------------------------------------------------------\u001b[0m",
      "\u001b[0;31mGEOSException\u001b[0m                             Traceback (most recent call last)",
      "\u001b[1;32m/Users/aagarwal/Desktop/Redestring AI/Pennsylvania/pa.ipynb Cell 57\u001b[0m line \u001b[0;36m1\n\u001b[0;32m----> <a href='vscode-notebook-cell:/Users/aagarwal/Desktop/Redestring%20AI/Pennsylvania/pa.ipynb#Y106sZmlsZQ%3D%3D?line=0'>1</a>\u001b[0m election_df \u001b[39m=\u001b[39m add_district(cong_df, \u001b[39m\"\u001b[39m\u001b[39mCD\u001b[39m\u001b[39m\"\u001b[39m, election_df, \u001b[39m\"\u001b[39m\u001b[39mDISTRICT\u001b[39m\u001b[39m\"\u001b[39m)\n",
      "\u001b[1;32m/Users/aagarwal/Desktop/Redestring AI/Pennsylvania/pa.ipynb Cell 57\u001b[0m line \u001b[0;36m9\n\u001b[1;32m      <a href='vscode-notebook-cell:/Users/aagarwal/Desktop/Redestring%20AI/Pennsylvania/pa.ipynb#Y106sZmlsZQ%3D%3D?line=5'>6</a>\u001b[0m election_df \u001b[39m=\u001b[39m gpd\u001b[39m.\u001b[39mGeoDataFrame(election_df, crs\u001b[39m=\u001b[39m\u001b[39m\"\u001b[39m\u001b[39mEPSG:4269\u001b[39m\u001b[39m\"\u001b[39m)\n\u001b[1;32m      <a href='vscode-notebook-cell:/Users/aagarwal/Desktop/Redestring%20AI/Pennsylvania/pa.ipynb#Y106sZmlsZQ%3D%3D?line=7'>8</a>\u001b[0m \u001b[39m# assign the pricincts\u001b[39;00m\n\u001b[0;32m----> <a href='vscode-notebook-cell:/Users/aagarwal/Desktop/Redestring%20AI/Pennsylvania/pa.ipynb#Y106sZmlsZQ%3D%3D?line=8'>9</a>\u001b[0m precincts_to_district_assignment \u001b[39m=\u001b[39m maup\u001b[39m.\u001b[39massign(election_df\u001b[39m.\u001b[39mgeometry, dist_df\u001b[39m.\u001b[39mgeometry)\n\u001b[1;32m     <a href='vscode-notebook-cell:/Users/aagarwal/Desktop/Redestring%20AI/Pennsylvania/pa.ipynb#Y106sZmlsZQ%3D%3D?line=9'>10</a>\u001b[0m election_df[dist_name] \u001b[39m=\u001b[39m precincts_to_district_assignment\n\u001b[1;32m     <a href='vscode-notebook-cell:/Users/aagarwal/Desktop/Redestring%20AI/Pennsylvania/pa.ipynb#Y106sZmlsZQ%3D%3D?line=10'>11</a>\u001b[0m \u001b[39mfor\u001b[39;00m precinct_index \u001b[39min\u001b[39;00m \u001b[39mrange\u001b[39m(\u001b[39mlen\u001b[39m(election_df)):\n",
      "File \u001b[0;32m~/anaconda3/envs/gerry/lib/python3.11/site-packages/maup/crs.py:14\u001b[0m, in \u001b[0;36mrequire_same_crs.<locals>.wrapped\u001b[0;34m(*args, **kwargs)\u001b[0m\n\u001b[1;32m      8\u001b[0m \u001b[39mif\u001b[39;00m \u001b[39mnot\u001b[39;00m geoms1\u001b[39m.\u001b[39mcrs \u001b[39m==\u001b[39m geoms2\u001b[39m.\u001b[39mcrs:\n\u001b[1;32m      9\u001b[0m     \u001b[39mraise\u001b[39;00m \u001b[39mTypeError\u001b[39;00m(\n\u001b[1;32m     10\u001b[0m         \u001b[39m\"\u001b[39m\u001b[39mthe source and target geometries must have the same CRS. \u001b[39m\u001b[39m{}\u001b[39;00m\u001b[39m \u001b[39m\u001b[39m{}\u001b[39;00m\u001b[39m\"\u001b[39m\u001b[39m.\u001b[39mformat(\n\u001b[1;32m     11\u001b[0m             geoms1\u001b[39m.\u001b[39mcrs, geoms2\u001b[39m.\u001b[39mcrs\n\u001b[1;32m     12\u001b[0m         )\n\u001b[1;32m     13\u001b[0m     )\n\u001b[0;32m---> 14\u001b[0m \u001b[39mreturn\u001b[39;00m f(\u001b[39m*\u001b[39margs, \u001b[39m*\u001b[39m\u001b[39m*\u001b[39mkwargs)\n",
      "File \u001b[0;32m~/anaconda3/envs/gerry/lib/python3.11/site-packages/maup/assign.py:23\u001b[0m, in \u001b[0;36massign\u001b[0;34m(sources, targets)\u001b[0m\n\u001b[1;32m     19\u001b[0m unassigned \u001b[39m=\u001b[39m sources[assignment\u001b[39m.\u001b[39misna()]\n\u001b[1;32m     21\u001b[0m \u001b[39mif\u001b[39;00m \u001b[39mlen\u001b[39m(unassigned):  \u001b[39m# skip if done\u001b[39;00m\n\u001b[1;32m     22\u001b[0m     assignments_by_area \u001b[39m=\u001b[39m pandas\u001b[39m.\u001b[39mSeries(\n\u001b[0;32m---> 23\u001b[0m         assign_by_area(unassigned, targets),\n\u001b[1;32m     24\u001b[0m         dtype\u001b[39m=\u001b[39m\u001b[39m\"\u001b[39m\u001b[39mfloat\u001b[39m\u001b[39m\"\u001b[39m\n\u001b[1;32m     25\u001b[0m     )\n\u001b[1;32m     26\u001b[0m     assignment\u001b[39m.\u001b[39mupdate(assignments_by_area)\n\u001b[1;32m     28\u001b[0m \u001b[39m# TODO: add a warning here if there are still unassigned source geometries.\u001b[39;00m\n",
      "File \u001b[0;32m~/anaconda3/envs/gerry/lib/python3.11/site-packages/maup/assign.py:38\u001b[0m, in \u001b[0;36massign_by_area\u001b[0;34m(sources, targets)\u001b[0m\n\u001b[1;32m     37\u001b[0m \u001b[39mdef\u001b[39;00m \u001b[39massign_by_area\u001b[39m(sources, targets):\n\u001b[0;32m---> 38\u001b[0m     \u001b[39mreturn\u001b[39;00m assign_to_max(intersections(sources, targets, area_cutoff\u001b[39m=\u001b[39m\u001b[39m0\u001b[39m)\u001b[39m.\u001b[39marea)\n",
      "File \u001b[0;32m~/anaconda3/envs/gerry/lib/python3.11/site-packages/maup/crs.py:14\u001b[0m, in \u001b[0;36mrequire_same_crs.<locals>.wrapped\u001b[0;34m(*args, **kwargs)\u001b[0m\n\u001b[1;32m      8\u001b[0m \u001b[39mif\u001b[39;00m \u001b[39mnot\u001b[39;00m geoms1\u001b[39m.\u001b[39mcrs \u001b[39m==\u001b[39m geoms2\u001b[39m.\u001b[39mcrs:\n\u001b[1;32m      9\u001b[0m     \u001b[39mraise\u001b[39;00m \u001b[39mTypeError\u001b[39;00m(\n\u001b[1;32m     10\u001b[0m         \u001b[39m\"\u001b[39m\u001b[39mthe source and target geometries must have the same CRS. \u001b[39m\u001b[39m{}\u001b[39;00m\u001b[39m \u001b[39m\u001b[39m{}\u001b[39;00m\u001b[39m\"\u001b[39m\u001b[39m.\u001b[39mformat(\n\u001b[1;32m     11\u001b[0m             geoms1\u001b[39m.\u001b[39mcrs, geoms2\u001b[39m.\u001b[39mcrs\n\u001b[1;32m     12\u001b[0m         )\n\u001b[1;32m     13\u001b[0m     )\n\u001b[0;32m---> 14\u001b[0m \u001b[39mreturn\u001b[39;00m f(\u001b[39m*\u001b[39margs, \u001b[39m*\u001b[39m\u001b[39m*\u001b[39mkwargs)\n",
      "File \u001b[0;32m~/anaconda3/envs/gerry/lib/python3.11/site-packages/maup/intersections.py:32\u001b[0m, in \u001b[0;36mintersections\u001b[0;34m(sources, targets, output_type, area_cutoff)\u001b[0m\n\u001b[1;32m     29\u001b[0m reindexed_targets \u001b[39m=\u001b[39m get_geometries_with_range_index(targets)\n\u001b[1;32m     30\u001b[0m spatially_indexed_sources \u001b[39m=\u001b[39m IndexedGeometries(reindexed_sources)\n\u001b[0;32m---> 32\u001b[0m records \u001b[39m=\u001b[39m [\n\u001b[1;32m     33\u001b[0m     \u001b[39m# Flip i, j to j, i so that the index is [\"source\", \"target\"]\u001b[39;00m\n\u001b[1;32m     34\u001b[0m     (sources\u001b[39m.\u001b[39mindex[j], targets\u001b[39m.\u001b[39mindex[i], geometry)\n\u001b[1;32m     35\u001b[0m     \u001b[39mfor\u001b[39;00m i, j, geometry \u001b[39min\u001b[39;00m spatially_indexed_sources\u001b[39m.\u001b[39menumerate_intersections(\n\u001b[1;32m     36\u001b[0m         reindexed_targets\n\u001b[1;32m     37\u001b[0m     )\n\u001b[1;32m     38\u001b[0m ]\n\u001b[1;32m     40\u001b[0m df \u001b[39m=\u001b[39m GeoDataFrame\u001b[39m.\u001b[39mfrom_records(records, columns\u001b[39m=\u001b[39m[\u001b[39m\"\u001b[39m\u001b[39msource\u001b[39m\u001b[39m\"\u001b[39m, \u001b[39m\"\u001b[39m\u001b[39mtarget\u001b[39m\u001b[39m\"\u001b[39m, \u001b[39m\"\u001b[39m\u001b[39mgeometry\u001b[39m\u001b[39m\"\u001b[39m])\n\u001b[1;32m     41\u001b[0m df \u001b[39m=\u001b[39m df\u001b[39m.\u001b[39msort_values(by\u001b[39m=\u001b[39m[\u001b[39m\"\u001b[39m\u001b[39msource\u001b[39m\u001b[39m\"\u001b[39m, \u001b[39m\"\u001b[39m\u001b[39mtarget\u001b[39m\u001b[39m\"\u001b[39m])\u001b[39m.\u001b[39mreset_index(drop\u001b[39m=\u001b[39m\u001b[39mTrue\u001b[39;00m)\n",
      "File \u001b[0;32m~/anaconda3/envs/gerry/lib/python3.11/site-packages/maup/intersections.py:32\u001b[0m, in \u001b[0;36m<listcomp>\u001b[0;34m(.0)\u001b[0m\n\u001b[1;32m     29\u001b[0m reindexed_targets \u001b[39m=\u001b[39m get_geometries_with_range_index(targets)\n\u001b[1;32m     30\u001b[0m spatially_indexed_sources \u001b[39m=\u001b[39m IndexedGeometries(reindexed_sources)\n\u001b[0;32m---> 32\u001b[0m records \u001b[39m=\u001b[39m [\n\u001b[1;32m     33\u001b[0m     \u001b[39m# Flip i, j to j, i so that the index is [\"source\", \"target\"]\u001b[39;00m\n\u001b[1;32m     34\u001b[0m     (sources\u001b[39m.\u001b[39mindex[j], targets\u001b[39m.\u001b[39mindex[i], geometry)\n\u001b[1;32m     35\u001b[0m     \u001b[39mfor\u001b[39;00m i, j, geometry \u001b[39min\u001b[39;00m spatially_indexed_sources\u001b[39m.\u001b[39menumerate_intersections(\n\u001b[1;32m     36\u001b[0m         reindexed_targets\n\u001b[1;32m     37\u001b[0m     )\n\u001b[1;32m     38\u001b[0m ]\n\u001b[1;32m     40\u001b[0m df \u001b[39m=\u001b[39m GeoDataFrame\u001b[39m.\u001b[39mfrom_records(records, columns\u001b[39m=\u001b[39m[\u001b[39m\"\u001b[39m\u001b[39msource\u001b[39m\u001b[39m\"\u001b[39m, \u001b[39m\"\u001b[39m\u001b[39mtarget\u001b[39m\u001b[39m\"\u001b[39m, \u001b[39m\"\u001b[39m\u001b[39mgeometry\u001b[39m\u001b[39m\"\u001b[39m])\n\u001b[1;32m     41\u001b[0m df \u001b[39m=\u001b[39m df\u001b[39m.\u001b[39msort_values(by\u001b[39m=\u001b[39m[\u001b[39m\"\u001b[39m\u001b[39msource\u001b[39m\u001b[39m\"\u001b[39m, \u001b[39m\"\u001b[39m\u001b[39mtarget\u001b[39m\u001b[39m\"\u001b[39m])\u001b[39m.\u001b[39mreset_index(drop\u001b[39m=\u001b[39m\u001b[39mTrue\u001b[39;00m)\n",
      "File \u001b[0;32m~/anaconda3/envs/gerry/lib/python3.11/site-packages/maup/indexed_geometries.py:76\u001b[0m, in \u001b[0;36mIndexedGeometries.enumerate_intersections\u001b[0;34m(self, targets)\u001b[0m\n\u001b[1;32m     74\u001b[0m target_geometries \u001b[39m=\u001b[39m get_geometries(targets)\n\u001b[1;32m     75\u001b[0m \u001b[39mfor\u001b[39;00m i, target \u001b[39min\u001b[39;00m progress(target_geometries\u001b[39m.\u001b[39mitems(), \u001b[39mlen\u001b[39m(target_geometries)):\n\u001b[0;32m---> 76\u001b[0m     \u001b[39mfor\u001b[39;00m j, intersection \u001b[39min\u001b[39;00m \u001b[39mself\u001b[39m\u001b[39m.\u001b[39mintersections(target)\u001b[39m.\u001b[39mitems():\n\u001b[1;32m     77\u001b[0m         \u001b[39myield\u001b[39;00m i, j, intersection\n",
      "File \u001b[0;32m~/anaconda3/envs/gerry/lib/python3.11/site-packages/maup/indexed_geometries.py:33\u001b[0m, in \u001b[0;36mIndexedGeometries.intersections\u001b[0;34m(self, geometry)\u001b[0m\n\u001b[1;32m     31\u001b[0m \u001b[39mdef\u001b[39;00m \u001b[39mintersections\u001b[39m(\u001b[39mself\u001b[39m, geometry):\n\u001b[1;32m     32\u001b[0m     relevant_geometries \u001b[39m=\u001b[39m \u001b[39mself\u001b[39m\u001b[39m.\u001b[39mquery(geometry)\n\u001b[0;32m---> 33\u001b[0m     intersections \u001b[39m=\u001b[39m relevant_geometries\u001b[39m.\u001b[39mintersection(geometry)\n\u001b[1;32m     34\u001b[0m     \u001b[39mreturn\u001b[39;00m intersections[\u001b[39m-\u001b[39m(intersections\u001b[39m.\u001b[39mis_empty \u001b[39m|\u001b[39m intersections\u001b[39m.\u001b[39misna())]\n",
      "File \u001b[0;32m~/anaconda3/envs/gerry/lib/python3.11/site-packages/geopandas/base.py:3266\u001b[0m, in \u001b[0;36mGeoPandasBase.intersection\u001b[0;34m(self, other, align)\u001b[0m\n\u001b[1;32m   3155\u001b[0m \u001b[39mdef\u001b[39;00m \u001b[39mintersection\u001b[39m(\u001b[39mself\u001b[39m, other, align\u001b[39m=\u001b[39m\u001b[39mTrue\u001b[39;00m):\n\u001b[1;32m   3156\u001b[0m \u001b[39m    \u001b[39m\u001b[39m\"\"\"Returns a ``GeoSeries`` of the intersection of points in each\u001b[39;00m\n\u001b[1;32m   3157\u001b[0m \u001b[39m    aligned geometry with `other`.\u001b[39;00m\n\u001b[1;32m   3158\u001b[0m \n\u001b[0;32m   (...)\u001b[0m\n\u001b[1;32m   3264\u001b[0m \u001b[39m    GeoSeries.union\u001b[39;00m\n\u001b[1;32m   3265\u001b[0m \u001b[39m    \"\"\"\u001b[39;00m\n\u001b[0;32m-> 3266\u001b[0m     \u001b[39mreturn\u001b[39;00m _binary_geo(\u001b[39m\"\u001b[39m\u001b[39mintersection\u001b[39m\u001b[39m\"\u001b[39m, \u001b[39mself\u001b[39m, other, align)\n",
      "File \u001b[0;32m~/anaconda3/envs/gerry/lib/python3.11/site-packages/geopandas/base.py:56\u001b[0m, in \u001b[0;36m_binary_geo\u001b[0;34m(op, this, other, align)\u001b[0m\n\u001b[1;32m     53\u001b[0m \u001b[39m\u001b[39m\u001b[39m\"\"\"Binary operation on GeoSeries objects that returns a GeoSeries\"\"\"\u001b[39;00m\n\u001b[1;32m     54\u001b[0m \u001b[39mfrom\u001b[39;00m \u001b[39m.\u001b[39;00m\u001b[39mgeoseries\u001b[39;00m \u001b[39mimport\u001b[39;00m GeoSeries\n\u001b[0;32m---> 56\u001b[0m geoms, index \u001b[39m=\u001b[39m _delegate_binary_method(op, this, other, align)\n\u001b[1;32m     57\u001b[0m \u001b[39mreturn\u001b[39;00m GeoSeries(geoms, index\u001b[39m=\u001b[39mindex, crs\u001b[39m=\u001b[39mthis\u001b[39m.\u001b[39mcrs)\n",
      "File \u001b[0;32m~/anaconda3/envs/gerry/lib/python3.11/site-packages/geopandas/base.py:47\u001b[0m, in \u001b[0;36m_delegate_binary_method\u001b[0;34m(op, this, other, align, *args, **kwargs)\u001b[0m\n\u001b[1;32m     44\u001b[0m \u001b[39melse\u001b[39;00m:\n\u001b[1;32m     45\u001b[0m     \u001b[39mraise\u001b[39;00m \u001b[39mTypeError\u001b[39;00m(\u001b[39mtype\u001b[39m(this), \u001b[39mtype\u001b[39m(other))\n\u001b[0;32m---> 47\u001b[0m data \u001b[39m=\u001b[39m \u001b[39mgetattr\u001b[39m(a_this, op)(other, \u001b[39m*\u001b[39margs, \u001b[39m*\u001b[39m\u001b[39m*\u001b[39mkwargs)\n\u001b[1;32m     48\u001b[0m \u001b[39mreturn\u001b[39;00m data, this\u001b[39m.\u001b[39mindex\n",
      "File \u001b[0;32m~/anaconda3/envs/gerry/lib/python3.11/site-packages/geopandas/array.py:671\u001b[0m, in \u001b[0;36mGeometryArray.intersection\u001b[0;34m(self, other)\u001b[0m\n\u001b[1;32m    669\u001b[0m \u001b[39mdef\u001b[39;00m \u001b[39mintersection\u001b[39m(\u001b[39mself\u001b[39m, other):\n\u001b[1;32m    670\u001b[0m     \u001b[39mreturn\u001b[39;00m GeometryArray(\n\u001b[0;32m--> 671\u001b[0m         \u001b[39mself\u001b[39m\u001b[39m.\u001b[39m_binary_method(\u001b[39m\"\u001b[39m\u001b[39mintersection\u001b[39m\u001b[39m\"\u001b[39m, \u001b[39mself\u001b[39m, other), crs\u001b[39m=\u001b[39m\u001b[39mself\u001b[39m\u001b[39m.\u001b[39mcrs\n\u001b[1;32m    672\u001b[0m     )\n",
      "File \u001b[0;32m~/anaconda3/envs/gerry/lib/python3.11/site-packages/geopandas/array.py:611\u001b[0m, in \u001b[0;36mGeometryArray._binary_method\u001b[0;34m(op, left, right, **kwargs)\u001b[0m\n\u001b[1;32m    608\u001b[0m         _crs_mismatch_warn(left, right, stacklevel\u001b[39m=\u001b[39m\u001b[39m7\u001b[39m)\n\u001b[1;32m    609\u001b[0m     right \u001b[39m=\u001b[39m right\u001b[39m.\u001b[39m_data\n\u001b[0;32m--> 611\u001b[0m \u001b[39mreturn\u001b[39;00m \u001b[39mgetattr\u001b[39m(vectorized, op)(left\u001b[39m.\u001b[39m_data, right, \u001b[39m*\u001b[39m\u001b[39m*\u001b[39mkwargs)\n",
      "File \u001b[0;32m~/anaconda3/envs/gerry/lib/python3.11/site-packages/geopandas/_vectorized.py:938\u001b[0m, in \u001b[0;36mintersection\u001b[0;34m(data, other)\u001b[0m\n\u001b[1;32m    936\u001b[0m \u001b[39mdef\u001b[39;00m \u001b[39mintersection\u001b[39m(data, other):\n\u001b[1;32m    937\u001b[0m     \u001b[39mif\u001b[39;00m compat\u001b[39m.\u001b[39mUSE_SHAPELY_20:\n\u001b[0;32m--> 938\u001b[0m         \u001b[39mreturn\u001b[39;00m shapely\u001b[39m.\u001b[39mintersection(data, other)\n\u001b[1;32m    939\u001b[0m     \u001b[39melif\u001b[39;00m compat\u001b[39m.\u001b[39mUSE_PYGEOS:\n\u001b[1;32m    940\u001b[0m         \u001b[39mreturn\u001b[39;00m _binary_method(\u001b[39m\"\u001b[39m\u001b[39mintersection\u001b[39m\u001b[39m\"\u001b[39m, data, other)\n",
      "File \u001b[0;32m~/anaconda3/envs/gerry/lib/python3.11/site-packages/shapely/decorators.py:77\u001b[0m, in \u001b[0;36mmultithreading_enabled.<locals>.wrapped\u001b[0;34m(*args, **kwargs)\u001b[0m\n\u001b[1;32m     75\u001b[0m     \u001b[39mfor\u001b[39;00m arr \u001b[39min\u001b[39;00m array_args:\n\u001b[1;32m     76\u001b[0m         arr\u001b[39m.\u001b[39mflags\u001b[39m.\u001b[39mwriteable \u001b[39m=\u001b[39m \u001b[39mFalse\u001b[39;00m\n\u001b[0;32m---> 77\u001b[0m     \u001b[39mreturn\u001b[39;00m func(\u001b[39m*\u001b[39margs, \u001b[39m*\u001b[39m\u001b[39m*\u001b[39mkwargs)\n\u001b[1;32m     78\u001b[0m \u001b[39mfinally\u001b[39;00m:\n\u001b[1;32m     79\u001b[0m     \u001b[39mfor\u001b[39;00m arr, old_flag \u001b[39min\u001b[39;00m \u001b[39mzip\u001b[39m(array_args, old_flags):\n",
      "File \u001b[0;32m~/anaconda3/envs/gerry/lib/python3.11/site-packages/shapely/set_operations.py:131\u001b[0m, in \u001b[0;36mintersection\u001b[0;34m(a, b, grid_size, **kwargs)\u001b[0m\n\u001b[1;32m    127\u001b[0m         \u001b[39mraise\u001b[39;00m \u001b[39mValueError\u001b[39;00m(\u001b[39m\"\u001b[39m\u001b[39mgrid_size parameter only accepts scalar values\u001b[39m\u001b[39m\"\u001b[39m)\n\u001b[1;32m    129\u001b[0m     \u001b[39mreturn\u001b[39;00m lib\u001b[39m.\u001b[39mintersection_prec(a, b, grid_size, \u001b[39m*\u001b[39m\u001b[39m*\u001b[39mkwargs)\n\u001b[0;32m--> 131\u001b[0m \u001b[39mreturn\u001b[39;00m lib\u001b[39m.\u001b[39mintersection(a, b, \u001b[39m*\u001b[39m\u001b[39m*\u001b[39mkwargs)\n",
      "\u001b[0;31mGEOSException\u001b[0m: TopologyException: Input geom 0 is invalid: Self-intersection at -75.328815953537884 40.595119145679654"
     ]
    }
   ],
   "source": [
    "election_df = add_district(cong_df, \"CD\", election_df, \"DISTRICT\")"
   ]
  },
  {
   "cell_type": "code",
   "execution_count": 56,
   "metadata": {},
   "outputs": [],
   "source": [
    "cong_df = gpd.read_file(cd_data)"
   ]
  },
  {
   "cell_type": "code",
   "execution_count": 57,
   "metadata": {},
   "outputs": [],
   "source": [
    "def add_district_with_snap_precision(dist_df, dist_name, election_df, col_name):\n",
    "    # check if it needs to be smart_repair\n",
    "    if maup.doctor(dist_df) != True:\n",
    "        dist_df = do_smart_repair_with_snap_precision(dist_df)\n",
    "    \n",
    "    election_df = gpd.GeoDataFrame(election_df, crs=\"EPSG:4269\")\n",
    "    \n",
    "    # assign the pricincts\n",
    "    precincts_to_district_assignment = maup.assign(election_df.geometry, dist_df.geometry)\n",
    "    election_df[dist_name] = precincts_to_district_assignment\n",
    "    for precinct_index in range(len(election_df)):\n",
    "        election_df.at[precinct_index, dist_name] = dist_df.at[election_df.at[precinct_index, dist_name], col_name]\n",
    "    \n",
    "    return election_df"
   ]
  },
  {
   "cell_type": "code",
   "execution_count": 58,
   "metadata": {},
   "outputs": [
    {
     "name": "stderr",
     "output_type": "stream",
     "text": [
      "100%|██████████| 17/17 [00:00<00:00, 40.25it/s]\n",
      "100%|██████████| 17/17 [00:00<00:00, 36.93it/s]\n",
      " 12%|█▏        | 2/17 [00:00<00:02,  7.30it/s]\n"
     ]
    },
    {
     "ename": "GEOSException",
     "evalue": "TopologyException: Input geom 0 is invalid: Self-intersection at -75.328815953537884 40.595119145679654",
     "output_type": "error",
     "traceback": [
      "\u001b[0;31m---------------------------------------------------------------------------\u001b[0m",
      "\u001b[0;31mGEOSException\u001b[0m                             Traceback (most recent call last)",
      "\u001b[1;32m/Users/aagarwal/Desktop/Redestring AI/Pennsylvania/pa.ipynb Cell 60\u001b[0m line \u001b[0;36m1\n\u001b[0;32m----> <a href='vscode-notebook-cell:/Users/aagarwal/Desktop/Redestring%20AI/Pennsylvania/pa.ipynb#Y162sZmlsZQ%3D%3D?line=0'>1</a>\u001b[0m election_df \u001b[39m=\u001b[39m add_district(cong_df, \u001b[39m\"\u001b[39m\u001b[39mCD\u001b[39m\u001b[39m\"\u001b[39m, election_df, \u001b[39m\"\u001b[39m\u001b[39mDISTRICT\u001b[39m\u001b[39m\"\u001b[39m)\n",
      "\u001b[1;32m/Users/aagarwal/Desktop/Redestring AI/Pennsylvania/pa.ipynb Cell 60\u001b[0m line \u001b[0;36m9\n\u001b[1;32m      <a href='vscode-notebook-cell:/Users/aagarwal/Desktop/Redestring%20AI/Pennsylvania/pa.ipynb#Y162sZmlsZQ%3D%3D?line=5'>6</a>\u001b[0m election_df \u001b[39m=\u001b[39m gpd\u001b[39m.\u001b[39mGeoDataFrame(election_df, crs\u001b[39m=\u001b[39m\u001b[39m\"\u001b[39m\u001b[39mEPSG:4269\u001b[39m\u001b[39m\"\u001b[39m)\n\u001b[1;32m      <a href='vscode-notebook-cell:/Users/aagarwal/Desktop/Redestring%20AI/Pennsylvania/pa.ipynb#Y162sZmlsZQ%3D%3D?line=7'>8</a>\u001b[0m \u001b[39m# assign the pricincts\u001b[39;00m\n\u001b[0;32m----> <a href='vscode-notebook-cell:/Users/aagarwal/Desktop/Redestring%20AI/Pennsylvania/pa.ipynb#Y162sZmlsZQ%3D%3D?line=8'>9</a>\u001b[0m precincts_to_district_assignment \u001b[39m=\u001b[39m maup\u001b[39m.\u001b[39massign(election_df\u001b[39m.\u001b[39mgeometry, dist_df\u001b[39m.\u001b[39mgeometry)\n\u001b[1;32m     <a href='vscode-notebook-cell:/Users/aagarwal/Desktop/Redestring%20AI/Pennsylvania/pa.ipynb#Y162sZmlsZQ%3D%3D?line=9'>10</a>\u001b[0m election_df[dist_name] \u001b[39m=\u001b[39m precincts_to_district_assignment\n\u001b[1;32m     <a href='vscode-notebook-cell:/Users/aagarwal/Desktop/Redestring%20AI/Pennsylvania/pa.ipynb#Y162sZmlsZQ%3D%3D?line=10'>11</a>\u001b[0m \u001b[39mfor\u001b[39;00m precinct_index \u001b[39min\u001b[39;00m \u001b[39mrange\u001b[39m(\u001b[39mlen\u001b[39m(election_df)):\n",
      "File \u001b[0;32m~/anaconda3/envs/gerry/lib/python3.11/site-packages/maup/crs.py:14\u001b[0m, in \u001b[0;36mrequire_same_crs.<locals>.wrapped\u001b[0;34m(*args, **kwargs)\u001b[0m\n\u001b[1;32m      8\u001b[0m \u001b[39mif\u001b[39;00m \u001b[39mnot\u001b[39;00m geoms1\u001b[39m.\u001b[39mcrs \u001b[39m==\u001b[39m geoms2\u001b[39m.\u001b[39mcrs:\n\u001b[1;32m      9\u001b[0m     \u001b[39mraise\u001b[39;00m \u001b[39mTypeError\u001b[39;00m(\n\u001b[1;32m     10\u001b[0m         \u001b[39m\"\u001b[39m\u001b[39mthe source and target geometries must have the same CRS. \u001b[39m\u001b[39m{}\u001b[39;00m\u001b[39m \u001b[39m\u001b[39m{}\u001b[39;00m\u001b[39m\"\u001b[39m\u001b[39m.\u001b[39mformat(\n\u001b[1;32m     11\u001b[0m             geoms1\u001b[39m.\u001b[39mcrs, geoms2\u001b[39m.\u001b[39mcrs\n\u001b[1;32m     12\u001b[0m         )\n\u001b[1;32m     13\u001b[0m     )\n\u001b[0;32m---> 14\u001b[0m \u001b[39mreturn\u001b[39;00m f(\u001b[39m*\u001b[39margs, \u001b[39m*\u001b[39m\u001b[39m*\u001b[39mkwargs)\n",
      "File \u001b[0;32m~/anaconda3/envs/gerry/lib/python3.11/site-packages/maup/assign.py:23\u001b[0m, in \u001b[0;36massign\u001b[0;34m(sources, targets)\u001b[0m\n\u001b[1;32m     19\u001b[0m unassigned \u001b[39m=\u001b[39m sources[assignment\u001b[39m.\u001b[39misna()]\n\u001b[1;32m     21\u001b[0m \u001b[39mif\u001b[39;00m \u001b[39mlen\u001b[39m(unassigned):  \u001b[39m# skip if done\u001b[39;00m\n\u001b[1;32m     22\u001b[0m     assignments_by_area \u001b[39m=\u001b[39m pandas\u001b[39m.\u001b[39mSeries(\n\u001b[0;32m---> 23\u001b[0m         assign_by_area(unassigned, targets),\n\u001b[1;32m     24\u001b[0m         dtype\u001b[39m=\u001b[39m\u001b[39m\"\u001b[39m\u001b[39mfloat\u001b[39m\u001b[39m\"\u001b[39m\n\u001b[1;32m     25\u001b[0m     )\n\u001b[1;32m     26\u001b[0m     assignment\u001b[39m.\u001b[39mupdate(assignments_by_area)\n\u001b[1;32m     28\u001b[0m \u001b[39m# TODO: add a warning here if there are still unassigned source geometries.\u001b[39;00m\n",
      "File \u001b[0;32m~/anaconda3/envs/gerry/lib/python3.11/site-packages/maup/assign.py:38\u001b[0m, in \u001b[0;36massign_by_area\u001b[0;34m(sources, targets)\u001b[0m\n\u001b[1;32m     37\u001b[0m \u001b[39mdef\u001b[39;00m \u001b[39massign_by_area\u001b[39m(sources, targets):\n\u001b[0;32m---> 38\u001b[0m     \u001b[39mreturn\u001b[39;00m assign_to_max(intersections(sources, targets, area_cutoff\u001b[39m=\u001b[39m\u001b[39m0\u001b[39m)\u001b[39m.\u001b[39marea)\n",
      "File \u001b[0;32m~/anaconda3/envs/gerry/lib/python3.11/site-packages/maup/crs.py:14\u001b[0m, in \u001b[0;36mrequire_same_crs.<locals>.wrapped\u001b[0;34m(*args, **kwargs)\u001b[0m\n\u001b[1;32m      8\u001b[0m \u001b[39mif\u001b[39;00m \u001b[39mnot\u001b[39;00m geoms1\u001b[39m.\u001b[39mcrs \u001b[39m==\u001b[39m geoms2\u001b[39m.\u001b[39mcrs:\n\u001b[1;32m      9\u001b[0m     \u001b[39mraise\u001b[39;00m \u001b[39mTypeError\u001b[39;00m(\n\u001b[1;32m     10\u001b[0m         \u001b[39m\"\u001b[39m\u001b[39mthe source and target geometries must have the same CRS. \u001b[39m\u001b[39m{}\u001b[39;00m\u001b[39m \u001b[39m\u001b[39m{}\u001b[39;00m\u001b[39m\"\u001b[39m\u001b[39m.\u001b[39mformat(\n\u001b[1;32m     11\u001b[0m             geoms1\u001b[39m.\u001b[39mcrs, geoms2\u001b[39m.\u001b[39mcrs\n\u001b[1;32m     12\u001b[0m         )\n\u001b[1;32m     13\u001b[0m     )\n\u001b[0;32m---> 14\u001b[0m \u001b[39mreturn\u001b[39;00m f(\u001b[39m*\u001b[39margs, \u001b[39m*\u001b[39m\u001b[39m*\u001b[39mkwargs)\n",
      "File \u001b[0;32m~/anaconda3/envs/gerry/lib/python3.11/site-packages/maup/intersections.py:32\u001b[0m, in \u001b[0;36mintersections\u001b[0;34m(sources, targets, output_type, area_cutoff)\u001b[0m\n\u001b[1;32m     29\u001b[0m reindexed_targets \u001b[39m=\u001b[39m get_geometries_with_range_index(targets)\n\u001b[1;32m     30\u001b[0m spatially_indexed_sources \u001b[39m=\u001b[39m IndexedGeometries(reindexed_sources)\n\u001b[0;32m---> 32\u001b[0m records \u001b[39m=\u001b[39m [\n\u001b[1;32m     33\u001b[0m     \u001b[39m# Flip i, j to j, i so that the index is [\"source\", \"target\"]\u001b[39;00m\n\u001b[1;32m     34\u001b[0m     (sources\u001b[39m.\u001b[39mindex[j], targets\u001b[39m.\u001b[39mindex[i], geometry)\n\u001b[1;32m     35\u001b[0m     \u001b[39mfor\u001b[39;00m i, j, geometry \u001b[39min\u001b[39;00m spatially_indexed_sources\u001b[39m.\u001b[39menumerate_intersections(\n\u001b[1;32m     36\u001b[0m         reindexed_targets\n\u001b[1;32m     37\u001b[0m     )\n\u001b[1;32m     38\u001b[0m ]\n\u001b[1;32m     40\u001b[0m df \u001b[39m=\u001b[39m GeoDataFrame\u001b[39m.\u001b[39mfrom_records(records, columns\u001b[39m=\u001b[39m[\u001b[39m\"\u001b[39m\u001b[39msource\u001b[39m\u001b[39m\"\u001b[39m, \u001b[39m\"\u001b[39m\u001b[39mtarget\u001b[39m\u001b[39m\"\u001b[39m, \u001b[39m\"\u001b[39m\u001b[39mgeometry\u001b[39m\u001b[39m\"\u001b[39m])\n\u001b[1;32m     41\u001b[0m df \u001b[39m=\u001b[39m df\u001b[39m.\u001b[39msort_values(by\u001b[39m=\u001b[39m[\u001b[39m\"\u001b[39m\u001b[39msource\u001b[39m\u001b[39m\"\u001b[39m, \u001b[39m\"\u001b[39m\u001b[39mtarget\u001b[39m\u001b[39m\"\u001b[39m])\u001b[39m.\u001b[39mreset_index(drop\u001b[39m=\u001b[39m\u001b[39mTrue\u001b[39;00m)\n",
      "File \u001b[0;32m~/anaconda3/envs/gerry/lib/python3.11/site-packages/maup/intersections.py:32\u001b[0m, in \u001b[0;36m<listcomp>\u001b[0;34m(.0)\u001b[0m\n\u001b[1;32m     29\u001b[0m reindexed_targets \u001b[39m=\u001b[39m get_geometries_with_range_index(targets)\n\u001b[1;32m     30\u001b[0m spatially_indexed_sources \u001b[39m=\u001b[39m IndexedGeometries(reindexed_sources)\n\u001b[0;32m---> 32\u001b[0m records \u001b[39m=\u001b[39m [\n\u001b[1;32m     33\u001b[0m     \u001b[39m# Flip i, j to j, i so that the index is [\"source\", \"target\"]\u001b[39;00m\n\u001b[1;32m     34\u001b[0m     (sources\u001b[39m.\u001b[39mindex[j], targets\u001b[39m.\u001b[39mindex[i], geometry)\n\u001b[1;32m     35\u001b[0m     \u001b[39mfor\u001b[39;00m i, j, geometry \u001b[39min\u001b[39;00m spatially_indexed_sources\u001b[39m.\u001b[39menumerate_intersections(\n\u001b[1;32m     36\u001b[0m         reindexed_targets\n\u001b[1;32m     37\u001b[0m     )\n\u001b[1;32m     38\u001b[0m ]\n\u001b[1;32m     40\u001b[0m df \u001b[39m=\u001b[39m GeoDataFrame\u001b[39m.\u001b[39mfrom_records(records, columns\u001b[39m=\u001b[39m[\u001b[39m\"\u001b[39m\u001b[39msource\u001b[39m\u001b[39m\"\u001b[39m, \u001b[39m\"\u001b[39m\u001b[39mtarget\u001b[39m\u001b[39m\"\u001b[39m, \u001b[39m\"\u001b[39m\u001b[39mgeometry\u001b[39m\u001b[39m\"\u001b[39m])\n\u001b[1;32m     41\u001b[0m df \u001b[39m=\u001b[39m df\u001b[39m.\u001b[39msort_values(by\u001b[39m=\u001b[39m[\u001b[39m\"\u001b[39m\u001b[39msource\u001b[39m\u001b[39m\"\u001b[39m, \u001b[39m\"\u001b[39m\u001b[39mtarget\u001b[39m\u001b[39m\"\u001b[39m])\u001b[39m.\u001b[39mreset_index(drop\u001b[39m=\u001b[39m\u001b[39mTrue\u001b[39;00m)\n",
      "File \u001b[0;32m~/anaconda3/envs/gerry/lib/python3.11/site-packages/maup/indexed_geometries.py:76\u001b[0m, in \u001b[0;36mIndexedGeometries.enumerate_intersections\u001b[0;34m(self, targets)\u001b[0m\n\u001b[1;32m     74\u001b[0m target_geometries \u001b[39m=\u001b[39m get_geometries(targets)\n\u001b[1;32m     75\u001b[0m \u001b[39mfor\u001b[39;00m i, target \u001b[39min\u001b[39;00m progress(target_geometries\u001b[39m.\u001b[39mitems(), \u001b[39mlen\u001b[39m(target_geometries)):\n\u001b[0;32m---> 76\u001b[0m     \u001b[39mfor\u001b[39;00m j, intersection \u001b[39min\u001b[39;00m \u001b[39mself\u001b[39m\u001b[39m.\u001b[39mintersections(target)\u001b[39m.\u001b[39mitems():\n\u001b[1;32m     77\u001b[0m         \u001b[39myield\u001b[39;00m i, j, intersection\n",
      "File \u001b[0;32m~/anaconda3/envs/gerry/lib/python3.11/site-packages/maup/indexed_geometries.py:33\u001b[0m, in \u001b[0;36mIndexedGeometries.intersections\u001b[0;34m(self, geometry)\u001b[0m\n\u001b[1;32m     31\u001b[0m \u001b[39mdef\u001b[39;00m \u001b[39mintersections\u001b[39m(\u001b[39mself\u001b[39m, geometry):\n\u001b[1;32m     32\u001b[0m     relevant_geometries \u001b[39m=\u001b[39m \u001b[39mself\u001b[39m\u001b[39m.\u001b[39mquery(geometry)\n\u001b[0;32m---> 33\u001b[0m     intersections \u001b[39m=\u001b[39m relevant_geometries\u001b[39m.\u001b[39mintersection(geometry)\n\u001b[1;32m     34\u001b[0m     \u001b[39mreturn\u001b[39;00m intersections[\u001b[39m-\u001b[39m(intersections\u001b[39m.\u001b[39mis_empty \u001b[39m|\u001b[39m intersections\u001b[39m.\u001b[39misna())]\n",
      "File \u001b[0;32m~/anaconda3/envs/gerry/lib/python3.11/site-packages/geopandas/base.py:3266\u001b[0m, in \u001b[0;36mGeoPandasBase.intersection\u001b[0;34m(self, other, align)\u001b[0m\n\u001b[1;32m   3155\u001b[0m \u001b[39mdef\u001b[39;00m \u001b[39mintersection\u001b[39m(\u001b[39mself\u001b[39m, other, align\u001b[39m=\u001b[39m\u001b[39mTrue\u001b[39;00m):\n\u001b[1;32m   3156\u001b[0m \u001b[39m    \u001b[39m\u001b[39m\"\"\"Returns a ``GeoSeries`` of the intersection of points in each\u001b[39;00m\n\u001b[1;32m   3157\u001b[0m \u001b[39m    aligned geometry with `other`.\u001b[39;00m\n\u001b[1;32m   3158\u001b[0m \n\u001b[0;32m   (...)\u001b[0m\n\u001b[1;32m   3264\u001b[0m \u001b[39m    GeoSeries.union\u001b[39;00m\n\u001b[1;32m   3265\u001b[0m \u001b[39m    \"\"\"\u001b[39;00m\n\u001b[0;32m-> 3266\u001b[0m     \u001b[39mreturn\u001b[39;00m _binary_geo(\u001b[39m\"\u001b[39m\u001b[39mintersection\u001b[39m\u001b[39m\"\u001b[39m, \u001b[39mself\u001b[39m, other, align)\n",
      "File \u001b[0;32m~/anaconda3/envs/gerry/lib/python3.11/site-packages/geopandas/base.py:56\u001b[0m, in \u001b[0;36m_binary_geo\u001b[0;34m(op, this, other, align)\u001b[0m\n\u001b[1;32m     53\u001b[0m \u001b[39m\u001b[39m\u001b[39m\"\"\"Binary operation on GeoSeries objects that returns a GeoSeries\"\"\"\u001b[39;00m\n\u001b[1;32m     54\u001b[0m \u001b[39mfrom\u001b[39;00m \u001b[39m.\u001b[39;00m\u001b[39mgeoseries\u001b[39;00m \u001b[39mimport\u001b[39;00m GeoSeries\n\u001b[0;32m---> 56\u001b[0m geoms, index \u001b[39m=\u001b[39m _delegate_binary_method(op, this, other, align)\n\u001b[1;32m     57\u001b[0m \u001b[39mreturn\u001b[39;00m GeoSeries(geoms, index\u001b[39m=\u001b[39mindex, crs\u001b[39m=\u001b[39mthis\u001b[39m.\u001b[39mcrs)\n",
      "File \u001b[0;32m~/anaconda3/envs/gerry/lib/python3.11/site-packages/geopandas/base.py:47\u001b[0m, in \u001b[0;36m_delegate_binary_method\u001b[0;34m(op, this, other, align, *args, **kwargs)\u001b[0m\n\u001b[1;32m     44\u001b[0m \u001b[39melse\u001b[39;00m:\n\u001b[1;32m     45\u001b[0m     \u001b[39mraise\u001b[39;00m \u001b[39mTypeError\u001b[39;00m(\u001b[39mtype\u001b[39m(this), \u001b[39mtype\u001b[39m(other))\n\u001b[0;32m---> 47\u001b[0m data \u001b[39m=\u001b[39m \u001b[39mgetattr\u001b[39m(a_this, op)(other, \u001b[39m*\u001b[39margs, \u001b[39m*\u001b[39m\u001b[39m*\u001b[39mkwargs)\n\u001b[1;32m     48\u001b[0m \u001b[39mreturn\u001b[39;00m data, this\u001b[39m.\u001b[39mindex\n",
      "File \u001b[0;32m~/anaconda3/envs/gerry/lib/python3.11/site-packages/geopandas/array.py:671\u001b[0m, in \u001b[0;36mGeometryArray.intersection\u001b[0;34m(self, other)\u001b[0m\n\u001b[1;32m    669\u001b[0m \u001b[39mdef\u001b[39;00m \u001b[39mintersection\u001b[39m(\u001b[39mself\u001b[39m, other):\n\u001b[1;32m    670\u001b[0m     \u001b[39mreturn\u001b[39;00m GeometryArray(\n\u001b[0;32m--> 671\u001b[0m         \u001b[39mself\u001b[39m\u001b[39m.\u001b[39m_binary_method(\u001b[39m\"\u001b[39m\u001b[39mintersection\u001b[39m\u001b[39m\"\u001b[39m, \u001b[39mself\u001b[39m, other), crs\u001b[39m=\u001b[39m\u001b[39mself\u001b[39m\u001b[39m.\u001b[39mcrs\n\u001b[1;32m    672\u001b[0m     )\n",
      "File \u001b[0;32m~/anaconda3/envs/gerry/lib/python3.11/site-packages/geopandas/array.py:611\u001b[0m, in \u001b[0;36mGeometryArray._binary_method\u001b[0;34m(op, left, right, **kwargs)\u001b[0m\n\u001b[1;32m    608\u001b[0m         _crs_mismatch_warn(left, right, stacklevel\u001b[39m=\u001b[39m\u001b[39m7\u001b[39m)\n\u001b[1;32m    609\u001b[0m     right \u001b[39m=\u001b[39m right\u001b[39m.\u001b[39m_data\n\u001b[0;32m--> 611\u001b[0m \u001b[39mreturn\u001b[39;00m \u001b[39mgetattr\u001b[39m(vectorized, op)(left\u001b[39m.\u001b[39m_data, right, \u001b[39m*\u001b[39m\u001b[39m*\u001b[39mkwargs)\n",
      "File \u001b[0;32m~/anaconda3/envs/gerry/lib/python3.11/site-packages/geopandas/_vectorized.py:938\u001b[0m, in \u001b[0;36mintersection\u001b[0;34m(data, other)\u001b[0m\n\u001b[1;32m    936\u001b[0m \u001b[39mdef\u001b[39;00m \u001b[39mintersection\u001b[39m(data, other):\n\u001b[1;32m    937\u001b[0m     \u001b[39mif\u001b[39;00m compat\u001b[39m.\u001b[39mUSE_SHAPELY_20:\n\u001b[0;32m--> 938\u001b[0m         \u001b[39mreturn\u001b[39;00m shapely\u001b[39m.\u001b[39mintersection(data, other)\n\u001b[1;32m    939\u001b[0m     \u001b[39melif\u001b[39;00m compat\u001b[39m.\u001b[39mUSE_PYGEOS:\n\u001b[1;32m    940\u001b[0m         \u001b[39mreturn\u001b[39;00m _binary_method(\u001b[39m\"\u001b[39m\u001b[39mintersection\u001b[39m\u001b[39m\"\u001b[39m, data, other)\n",
      "File \u001b[0;32m~/anaconda3/envs/gerry/lib/python3.11/site-packages/shapely/decorators.py:77\u001b[0m, in \u001b[0;36mmultithreading_enabled.<locals>.wrapped\u001b[0;34m(*args, **kwargs)\u001b[0m\n\u001b[1;32m     75\u001b[0m     \u001b[39mfor\u001b[39;00m arr \u001b[39min\u001b[39;00m array_args:\n\u001b[1;32m     76\u001b[0m         arr\u001b[39m.\u001b[39mflags\u001b[39m.\u001b[39mwriteable \u001b[39m=\u001b[39m \u001b[39mFalse\u001b[39;00m\n\u001b[0;32m---> 77\u001b[0m     \u001b[39mreturn\u001b[39;00m func(\u001b[39m*\u001b[39margs, \u001b[39m*\u001b[39m\u001b[39m*\u001b[39mkwargs)\n\u001b[1;32m     78\u001b[0m \u001b[39mfinally\u001b[39;00m:\n\u001b[1;32m     79\u001b[0m     \u001b[39mfor\u001b[39;00m arr, old_flag \u001b[39min\u001b[39;00m \u001b[39mzip\u001b[39m(array_args, old_flags):\n",
      "File \u001b[0;32m~/anaconda3/envs/gerry/lib/python3.11/site-packages/shapely/set_operations.py:131\u001b[0m, in \u001b[0;36mintersection\u001b[0;34m(a, b, grid_size, **kwargs)\u001b[0m\n\u001b[1;32m    127\u001b[0m         \u001b[39mraise\u001b[39;00m \u001b[39mValueError\u001b[39;00m(\u001b[39m\"\u001b[39m\u001b[39mgrid_size parameter only accepts scalar values\u001b[39m\u001b[39m\"\u001b[39m)\n\u001b[1;32m    129\u001b[0m     \u001b[39mreturn\u001b[39;00m lib\u001b[39m.\u001b[39mintersection_prec(a, b, grid_size, \u001b[39m*\u001b[39m\u001b[39m*\u001b[39mkwargs)\n\u001b[0;32m--> 131\u001b[0m \u001b[39mreturn\u001b[39;00m lib\u001b[39m.\u001b[39mintersection(a, b, \u001b[39m*\u001b[39m\u001b[39m*\u001b[39mkwargs)\n",
      "\u001b[0;31mGEOSException\u001b[0m: TopologyException: Input geom 0 is invalid: Self-intersection at -75.328815953537884 40.595119145679654"
     ]
    }
   ],
   "source": [
    "election_df = add_district(cong_df, \"CD\", election_df, \"DISTRICT\")"
   ]
  },
  {
   "cell_type": "code",
   "execution_count": null,
   "metadata": {},
   "outputs": [],
   "source": []
  },
  {
   "cell_type": "code",
   "execution_count": null,
   "metadata": {},
   "outputs": [],
   "source": [
    "send.head()"
   ]
  },
  {
   "cell_type": "code",
   "execution_count": null,
   "metadata": {},
   "outputs": [],
   "source": [
    "election_df = add_district(send, \"SEND\", election_df, \"DISTRICT\")"
   ]
  },
  {
   "cell_type": "code",
   "execution_count": null,
   "metadata": {},
   "outputs": [],
   "source": [
    "hdist.head()"
   ]
  },
  {
   "cell_type": "code",
   "execution_count": null,
   "metadata": {},
   "outputs": [],
   "source": [
    "hdist = hdist.to_crs(\"EPSG:4269\")\n",
    "election_df = add_district(hdist, \"HDIST\", election_df, \"Name\")"
   ]
  },
  {
   "cell_type": "code",
   "execution_count": null,
   "metadata": {},
   "outputs": [],
   "source": [
    "election_df.columns"
   ]
  },
  {
   "cell_type": "markdown",
   "metadata": {},
   "source": [
    "### Put the base precinct year after the precinct information column"
   ]
  },
  {
   "cell_type": "code",
   "execution_count": null,
   "metadata": {},
   "outputs": [],
   "source": [
    "base_columns = {}\n",
    "if 'COUNTYFP' + year not in election_df.columns:\n",
    "    base_columns = {\n",
    "        'COUNTY':'COUNTY'+year,\n",
    "        'PCODE':'PCODE'+year,\n",
    "        'CODE_NAME':'CODE_NAME'+year}\n",
    "election_df.rename(columns=base_columns, inplace = True)"
   ]
  },
  {
   "cell_type": "code",
   "execution_count": null,
   "metadata": {},
   "outputs": [],
   "source": [
    "election_df.columns"
   ]
  },
  {
   "cell_type": "code",
   "execution_count": null,
   "metadata": {},
   "outputs": [],
   "source": [
    "# reorder the columns\n",
    "fixed_columns = [\n",
    "    'COUNTY'+year,\n",
    "    'PCODE'+year,\n",
    "    'CODE_NAME'+year,\n",
    "    'CD',\n",
    "    'SEND',\n",
    "    'HDIST',\n",
    "    'TOTPOP',\n",
    "    'NH_2MORE',\n",
    "    'NH_AMIN',\n",
    "    'NH_ASIAN',\n",
    "    'NH_BLACK',\n",
    "    'NH_NHPI',\n",
    "    'NH_OTHER',\n",
    "    'NH_WHITE',\n",
    "    'HISP',\n",
    "    'H_AMIN',\n",
    "    'H_ASIAN',\n",
    "    'H_BLACK',\n",
    "    'H_NHPI',\n",
    "    'H_OTHER',\n",
    "    'H_WHITE',\n",
    "    'H_2MORE',\n",
    "    'VAP',\n",
    "    'HVAP',\n",
    "    'WVAP',\n",
    "    'BVAP',\n",
    "    'AMINVAP',\n",
    "    'ASIANVAP',\n",
    "    'NHPIVAP',\n",
    "    'OTHERVAP',\n",
    "    '2MOREVAP']\n",
    "\n",
    "election_columns = [col for col in election_df.columns if col not in fixed_columns]\n",
    "final_col = fixed_columns + election_columns\n",
    "election_df = election_df[final_col]"
   ]
  },
  {
   "cell_type": "code",
   "execution_count": null,
   "metadata": {},
   "outputs": [],
   "source": [
    "import os\n",
    "\n",
    "# store the result in directory \"il\"\n",
    "directory = \"./{}\".format(state_ab)\n",
    "if not os.path.exists(directory):\n",
    "    os.makedirs(directory)\n",
    "\n",
    "shapefile_path = \"./{}/{}.shp\".format(state_ab, state_ab)\n",
    "geojson_path = './{}/{}.geojson'.format(state_ab, state_ab)\n",
    "json_path = \"./{}/{}.json\".format(state_ab, state_ab)\n",
    "\n",
    "# Check if the shapefile or geojson file already exists\n",
    "if os.path.exists(shapefile_path):\n",
    "    os.remove(shapefile_path)\n",
    "if os.path.exists(geojson_path):\n",
    "    os.remove(geojson_path)\n",
    "\n",
    "election_df.to_file(shapefile_path)\n",
    "election_df.to_file(geojson_path, driver='GeoJSON')\n",
    "\n",
    "# Only do once to build json and read from file when generating ensembles\n",
    "graph = Graph.from_file(shapefile_path, ignore_errors=True)\n",
    "graph.to_json(json_path)"
   ]
  },
  {
   "cell_type": "code",
   "execution_count": null,
   "metadata": {},
   "outputs": [],
   "source": [
    "shapefile_path = \"./{}/{}.shp\".format(state_ab, state_ab)\n",
    "shape=gpd.read_file(shapefile_path)\n",
    "shape.plot()"
   ]
  },
  {
   "cell_type": "code",
   "execution_count": null,
   "metadata": {},
   "outputs": [],
   "source": [
    "if (vest18.NAME == 'Burton 1A').any():\n",
    "    print(vest18.loc[vest18.NAME == 'Burton 1A'])\n"
   ]
  },
  {
   "cell_type": "code",
   "execution_count": null,
   "metadata": {},
   "outputs": [],
   "source": [
    "vest20.head()"
   ]
  },
  {
   "cell_type": "code",
   "execution_count": null,
   "metadata": {},
   "outputs": [],
   "source": [
    "vest18.head()"
   ]
  },
  {
   "cell_type": "code",
   "execution_count": null,
   "metadata": {},
   "outputs": [],
   "source": []
  }
 ],
 "metadata": {
  "kernelspec": {
   "display_name": "gerry",
   "language": "python",
   "name": "python3"
  },
  "language_info": {
   "codemirror_mode": {
    "name": "ipython",
    "version": 3
   },
   "file_extension": ".py",
   "mimetype": "text/x-python",
   "name": "python",
   "nbconvert_exporter": "python",
   "pygments_lexer": "ipython3",
   "version": "3.11.7"
  }
 },
 "nbformat": 4,
 "nbformat_minor": 2
}
